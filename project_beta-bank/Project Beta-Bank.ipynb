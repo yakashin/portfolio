{
 "cells": [
  {
   "cell_type": "markdown",
   "metadata": {
    "toc": true
   },
   "source": [
    "<h1>Содержание<span class=\"tocSkip\"></span></h1>\n",
    "<div class=\"toc\"><ul class=\"toc-item\"><li><span><a href=\"#Подготовка-данных\" data-toc-modified-id=\"Подготовка-данных-1\"><span class=\"toc-item-num\">1&nbsp;&nbsp;</span>Подготовка данных</a></span><ul class=\"toc-item\"><li><span><a href=\"#Предобработка-датасета\" data-toc-modified-id=\"Предобработка-датасета-1.1\"><span class=\"toc-item-num\">1.1&nbsp;&nbsp;</span>Предобработка датасета</a></span></li><li><span><a href=\"#Исследование-данных-датасета\" data-toc-modified-id=\"Исследование-данных-датасета-1.2\"><span class=\"toc-item-num\">1.2&nbsp;&nbsp;</span>Исследование данных датасета</a></span></li><li><span><a href=\"#Преобразование-данных\" data-toc-modified-id=\"Преобразование-данных-1.3\"><span class=\"toc-item-num\">1.3&nbsp;&nbsp;</span>Преобразование данных</a></span></li></ul></li><li><span><a href=\"#Исследование-задачи\" data-toc-modified-id=\"Исследование-задачи-2\"><span class=\"toc-item-num\">2&nbsp;&nbsp;</span>Исследование задачи</a></span><ul class=\"toc-item\"><li><ul class=\"toc-item\"><li><span><a href=\"#Стандартизация-признаков\" data-toc-modified-id=\"Стандартизация-признаков-2.0.1\"><span class=\"toc-item-num\">2.0.1&nbsp;&nbsp;</span>Стандартизация признаков</a></span></li><li><span><a href=\"#Модель-логистической-регрессии\" data-toc-modified-id=\"Модель-логистической-регрессии-2.0.2\"><span class=\"toc-item-num\">2.0.2&nbsp;&nbsp;</span>Модель логистической регрессии</a></span></li><li><span><a href=\"#Модель-дерева-решений\" data-toc-modified-id=\"Модель-дерева-решений-2.0.3\"><span class=\"toc-item-num\">2.0.3&nbsp;&nbsp;</span>Модель дерева решений</a></span></li><li><span><a href=\"#Модель-случайный-лес\" data-toc-modified-id=\"Модель-случайный-лес-2.0.4\"><span class=\"toc-item-num\">2.0.4&nbsp;&nbsp;</span>Модель случайный лес</a></span></li><li><span><a href=\"#Итоги-обучения-моделей-без-учета-дизбаланса\" data-toc-modified-id=\"Итоги-обучения-моделей-без-учета-дизбаланса-2.0.5\"><span class=\"toc-item-num\">2.0.5&nbsp;&nbsp;</span>Итоги обучения моделей без учета дизбаланса</a></span></li></ul></li></ul></li><li><span><a href=\"#Борьба-с-дисбалансом\" data-toc-modified-id=\"Борьба-с-дисбалансом-3\"><span class=\"toc-item-num\">3&nbsp;&nbsp;</span>Борьба с дисбалансом</a></span><ul class=\"toc-item\"><li><span><a href=\"#Присваивание-веса-классам\" data-toc-modified-id=\"Присваивание-веса-классам-3.1\"><span class=\"toc-item-num\">3.1&nbsp;&nbsp;</span>Присваивание веса классам</a></span></li><li><span><a href=\"#Upsampling\" data-toc-modified-id=\"Upsampling-3.2\"><span class=\"toc-item-num\">3.2&nbsp;&nbsp;</span>Upsampling</a></span></li><li><span><a href=\"#Downsampling\" data-toc-modified-id=\"Downsampling-3.3\"><span class=\"toc-item-num\">3.3&nbsp;&nbsp;</span>Downsampling</a></span></li><li><span><a href=\"#Итоги-устранения-дисбаланса\" data-toc-modified-id=\"Итоги-устранения-дисбаланса-3.4\"><span class=\"toc-item-num\">3.4&nbsp;&nbsp;</span>Итоги устранения дисбаланса</a></span></li></ul></li><li><span><a href=\"#Тестирование-модели\" data-toc-modified-id=\"Тестирование-модели-4\"><span class=\"toc-item-num\">4&nbsp;&nbsp;</span>Тестирование модели</a></span></li><li><span><a href=\"#Итоги-выполненного-проекта\" data-toc-modified-id=\"Итоги-выполненного-проекта-5\"><span class=\"toc-item-num\">5&nbsp;&nbsp;</span>Итоги выполненного проекта</a></span></li>"
   ]
  },
  {
   "cell_type": "markdown",
   "metadata": {},
   "source": [
    "<div style=\"border:solid Red 2px; padding: 40px\">\n",
    "<b>Краткие выводы по проекту:</b> \n",
    "    \n",
    "Данные разбиты на 3 части - тренировочная, валидационная и тестовая в соотношении 3:1:1. Построены модели логистической регрессии, дерева решений и случайного леса. Подобраны гиперпараметры для моделей без учета дисбаланса, с лучшим результатом **F1-меры равной 0,591**. \n",
    "Выявлен дисбаланс классов. Применены три методики устранения проблемы:\n",
    "- задание веса классов;\n",
    "- upsampling;\n",
    "- downsampling.\n",
    "\n",
    "\n",
    "Для каждого метода подобраны модели с гиперпараметрами, имеющими наилучшие результаты метрик F1 и ROC-AUC. К каждой модели написаны промежуточные результаты и по каждой методике написаны выводы. Параллельно с этим подсчитана метрика ROC-AUC. \n",
    "    \n",
    "Для финального тестирования выбрана модель случайного леса показавшая лучший результат по F1 и ROC-AUC метрикам в тестах. Для финального тестирования объеденины тренировочная и валидационная выборка. Спрогнозированы факт ухода клиента на тестовой выборке с результатами:\n",
    "- **F1-мера модели: 0.601**, что хуже сбалансированной модели;\n",
    "- **AUC-ROC модели: 0.861**.\n",
    "\n",
    "Результаты превосходят значения, полученные при первой сдаче проекта. На основе матрицы спутанности можно сделать вывод, что модель истинно положительно отвечает в 70% случаях и истинно отрицательно в 86%.\n",
    "   \n",
    "</div>"
   ]
  },
  {
   "cell_type": "markdown",
   "metadata": {},
   "source": [
    "# Отток клиентов"
   ]
  },
  {
   "cell_type": "markdown",
   "metadata": {},
   "source": [
    "Из «Бета-Банка» стали уходить клиенты. Каждый месяц. Немного, но заметно. Банковские маркетологи посчитали: сохранять текущих клиентов дешевле, чем привлекать новых.\n",
    "\n",
    "Нужно спрогнозировать, уйдёт клиент из банка в ближайшее время или нет. Вам предоставлены исторические данные о поведении клиентов и расторжении договоров с банком. \n",
    "\n",
    "Источник данных: [https://www.kaggle.com/barelydedicated/bank-customer-churn-modeling](https://www.kaggle.com/barelydedicated/bank-customer-churn-modeling)"
   ]
  },
  {
   "cell_type": "markdown",
   "metadata": {},
   "source": [
    "## Подготовка данных"
   ]
  },
  {
   "cell_type": "markdown",
   "metadata": {},
   "source": [
    "Превоначально загрузим необходимые для выполенения самостоятельного проекта библиотеки."
   ]
  },
  {
   "cell_type": "code",
   "execution_count": 1,
   "metadata": {},
   "outputs": [],
   "source": [
    "# Загрузим необходимые библиотеки\n",
    "import numpy as np\n",
    "import pandas as pd\n",
    "import seaborn as sb\n",
    "import matplotlib.pyplot as plt\n",
    "\n",
    "import phik\n",
    "\n",
    "from sklearn.tree import DecisionTreeClassifier\n",
    "from sklearn.ensemble import RandomForestClassifier\n",
    "from sklearn.linear_model import LogisticRegression\n",
    "from sklearn.utils import shuffle\n",
    "from sklearn.preprocessing import StandardScaler\n",
    "from sklearn.metrics import (accuracy_score, recall_score, \n",
    "                             precision_score, f1_score, confusion_matrix, \n",
    "                             ConfusionMatrixDisplay, RocCurveDisplay,\n",
    "                             roc_auc_score, roc_curve)"
   ]
  },
  {
   "cell_type": "markdown",
   "metadata": {},
   "source": [
    "Загрузим датасет \"отток клиентов\". После методом .info() оценим доступную информацию, выведем на экран случайные 5 строк."
   ]
  },
  {
   "cell_type": "code",
   "execution_count": 2,
   "metadata": {},
   "outputs": [],
   "source": [
    "# Присвоим переменной data исходный датасет\n",
    "data = pd.read_csv('https://code.s3.yandex.net/datasets/Churn.csv')"
   ]
  },
  {
   "cell_type": "code",
   "execution_count": 3,
   "metadata": {},
   "outputs": [
    {
     "name": "stdout",
     "output_type": "stream",
     "text": [
      "<class 'pandas.core.frame.DataFrame'>\n",
      "RangeIndex: 10000 entries, 0 to 9999\n",
      "Data columns (total 14 columns):\n",
      " #   Column           Non-Null Count  Dtype  \n",
      "---  ------           --------------  -----  \n",
      " 0   RowNumber        10000 non-null  int64  \n",
      " 1   CustomerId       10000 non-null  int64  \n",
      " 2   Surname          10000 non-null  object \n",
      " 3   CreditScore      10000 non-null  int64  \n",
      " 4   Geography        10000 non-null  object \n",
      " 5   Gender           10000 non-null  object \n",
      " 6   Age              10000 non-null  int64  \n",
      " 7   Tenure           9091 non-null   float64\n",
      " 8   Balance          10000 non-null  float64\n",
      " 9   NumOfProducts    10000 non-null  int64  \n",
      " 10  HasCrCard        10000 non-null  int64  \n",
      " 11  IsActiveMember   10000 non-null  int64  \n",
      " 12  EstimatedSalary  10000 non-null  float64\n",
      " 13  Exited           10000 non-null  int64  \n",
      "dtypes: float64(3), int64(8), object(3)\n",
      "memory usage: 1.1+ MB\n"
     ]
    }
   ],
   "source": [
    "# Выведем информацию по датасету\n",
    "data.info()"
   ]
  },
  {
   "cell_type": "code",
   "execution_count": 4,
   "metadata": {},
   "outputs": [
    {
     "data": {
      "text/html": [
       "<div>\n",
       "<style scoped>\n",
       "    .dataframe tbody tr th:only-of-type {\n",
       "        vertical-align: middle;\n",
       "    }\n",
       "\n",
       "    .dataframe tbody tr th {\n",
       "        vertical-align: top;\n",
       "    }\n",
       "\n",
       "    .dataframe thead th {\n",
       "        text-align: right;\n",
       "    }\n",
       "</style>\n",
       "<table border=\"1\" class=\"dataframe\">\n",
       "  <thead>\n",
       "    <tr style=\"text-align: right;\">\n",
       "      <th></th>\n",
       "      <th>RowNumber</th>\n",
       "      <th>CustomerId</th>\n",
       "      <th>Surname</th>\n",
       "      <th>CreditScore</th>\n",
       "      <th>Geography</th>\n",
       "      <th>Gender</th>\n",
       "      <th>Age</th>\n",
       "      <th>Tenure</th>\n",
       "      <th>Balance</th>\n",
       "      <th>NumOfProducts</th>\n",
       "      <th>HasCrCard</th>\n",
       "      <th>IsActiveMember</th>\n",
       "      <th>EstimatedSalary</th>\n",
       "      <th>Exited</th>\n",
       "    </tr>\n",
       "  </thead>\n",
       "  <tbody>\n",
       "    <tr>\n",
       "      <th>4257</th>\n",
       "      <td>4258</td>\n",
       "      <td>15756894</td>\n",
       "      <td>Onwuka</td>\n",
       "      <td>635</td>\n",
       "      <td>France</td>\n",
       "      <td>Male</td>\n",
       "      <td>29</td>\n",
       "      <td>1.0</td>\n",
       "      <td>0.00</td>\n",
       "      <td>1</td>\n",
       "      <td>0</td>\n",
       "      <td>1</td>\n",
       "      <td>24865.54</td>\n",
       "      <td>0</td>\n",
       "    </tr>\n",
       "    <tr>\n",
       "      <th>6212</th>\n",
       "      <td>6213</td>\n",
       "      <td>15638231</td>\n",
       "      <td>Chung</td>\n",
       "      <td>730</td>\n",
       "      <td>Spain</td>\n",
       "      <td>Female</td>\n",
       "      <td>62</td>\n",
       "      <td>2.0</td>\n",
       "      <td>0.00</td>\n",
       "      <td>2</td>\n",
       "      <td>1</td>\n",
       "      <td>1</td>\n",
       "      <td>162889.10</td>\n",
       "      <td>0</td>\n",
       "    </tr>\n",
       "    <tr>\n",
       "      <th>3211</th>\n",
       "      <td>3212</td>\n",
       "      <td>15753861</td>\n",
       "      <td>Ballard</td>\n",
       "      <td>686</td>\n",
       "      <td>Germany</td>\n",
       "      <td>Female</td>\n",
       "      <td>27</td>\n",
       "      <td>1.0</td>\n",
       "      <td>115095.88</td>\n",
       "      <td>2</td>\n",
       "      <td>0</td>\n",
       "      <td>0</td>\n",
       "      <td>78622.46</td>\n",
       "      <td>0</td>\n",
       "    </tr>\n",
       "    <tr>\n",
       "      <th>2757</th>\n",
       "      <td>2758</td>\n",
       "      <td>15566708</td>\n",
       "      <td>Chidalu</td>\n",
       "      <td>444</td>\n",
       "      <td>France</td>\n",
       "      <td>Female</td>\n",
       "      <td>45</td>\n",
       "      <td>4.0</td>\n",
       "      <td>0.00</td>\n",
       "      <td>2</td>\n",
       "      <td>1</td>\n",
       "      <td>0</td>\n",
       "      <td>161653.50</td>\n",
       "      <td>1</td>\n",
       "    </tr>\n",
       "    <tr>\n",
       "      <th>7599</th>\n",
       "      <td>7600</td>\n",
       "      <td>15609758</td>\n",
       "      <td>Geoghegan</td>\n",
       "      <td>537</td>\n",
       "      <td>France</td>\n",
       "      <td>Female</td>\n",
       "      <td>45</td>\n",
       "      <td>7.0</td>\n",
       "      <td>158621.04</td>\n",
       "      <td>1</td>\n",
       "      <td>1</td>\n",
       "      <td>0</td>\n",
       "      <td>120892.96</td>\n",
       "      <td>1</td>\n",
       "    </tr>\n",
       "  </tbody>\n",
       "</table>\n",
       "</div>"
      ],
      "text/plain": [
       "      RowNumber  CustomerId    Surname  CreditScore Geography  Gender  Age  \\\n",
       "4257       4258    15756894     Onwuka          635    France    Male   29   \n",
       "6212       6213    15638231      Chung          730     Spain  Female   62   \n",
       "3211       3212    15753861    Ballard          686   Germany  Female   27   \n",
       "2757       2758    15566708    Chidalu          444    France  Female   45   \n",
       "7599       7600    15609758  Geoghegan          537    France  Female   45   \n",
       "\n",
       "      Tenure    Balance  NumOfProducts  HasCrCard  IsActiveMember  \\\n",
       "4257     1.0       0.00              1          0               1   \n",
       "6212     2.0       0.00              2          1               1   \n",
       "3211     1.0  115095.88              2          0               0   \n",
       "2757     4.0       0.00              2          1               0   \n",
       "7599     7.0  158621.04              1          1               0   \n",
       "\n",
       "      EstimatedSalary  Exited  \n",
       "4257         24865.54       0  \n",
       "6212        162889.10       0  \n",
       "3211         78622.46       0  \n",
       "2757        161653.50       1  \n",
       "7599        120892.96       1  "
      ]
     },
     "execution_count": 4,
     "metadata": {},
     "output_type": "execute_result"
    }
   ],
   "source": [
    "data.sample(5)"
   ]
  },
  {
   "cell_type": "markdown",
   "metadata": {},
   "source": [
    "В исходном датасете имеется 14 столбцов. Типы данных распределены следующим образом - 3 столбца float, 8 столбцов int и 3 object. \n",
    "Пропуски данных имеются лишь в столбце Tenure (сколько лет человек является клиентом банка). Для исправления данной ситуации можно применить 2 варианта - заменить пропуски значениями или удалить строки с пропусками. Для начала попробуем первый вариант, и после сравним результаты со вторым вариантом. Удаление 10% датасета допустимо.\n",
    "\n",
    "Так же по датасету можно увидеть, что имеются категориальные переменный, которые необходимо заменить методом прямого кодирования ОНЕ. \n",
    "\n",
    "Дата сет занмает 1,1+ МВ оперативной памяти. Часть столбцов имеют избыточный тип данных, для ускорения работы с датасетом попробуем их заменить на uint8. \n",
    "\n",
    "Проверим датасет на явные дубликаты."
   ]
  },
  {
   "cell_type": "code",
   "execution_count": 5,
   "metadata": {},
   "outputs": [
    {
     "data": {
      "text/plain": [
       "0"
      ]
     },
     "execution_count": 5,
     "metadata": {},
     "output_type": "execute_result"
    }
   ],
   "source": [
    "# Проверим датасет на явные дубликаты\n",
    "data.duplicated().sum()"
   ]
  },
  {
   "cell_type": "markdown",
   "metadata": {},
   "source": [
    "Явные дубликаты отсутствуют, проверим имеются ли неявные дубликаты в уникальных идентификаторах клиентов. Других столбцов с неявными дубликатами в исходном датасете нет."
   ]
  },
  {
   "cell_type": "code",
   "execution_count": 6,
   "metadata": {},
   "outputs": [
    {
     "data": {
      "text/plain": [
       "10000"
      ]
     },
     "execution_count": 6,
     "metadata": {},
     "output_type": "execute_result"
    }
   ],
   "source": [
    "# Проверим датасет на неявные дубликаты в id клиентов\n",
    "data['CustomerId'].nunique()"
   ]
  },
  {
   "cell_type": "markdown",
   "metadata": {},
   "source": [
    "Неявные дубликаты отстутствуют. Можно приступать к предобработке данных.\n",
    "\n",
    "### Предобработка датасета\n",
    "\n",
    "В данных имеются необязательные для исследования столбцы RowNumber, Surname и CustomerId. Первый дублирует индекс со смещением на единицу, второй содержит фамилию клиента, что будет только мешать выполнению цели проекта. И столбец CustomerId имеет id каждого киента. Эта информация для исследования лишняя и может привести к неверным предсказаниям модели. Задачи опознать клиента не стоит, поэтому удалим данные столбцы. \n",
    "\n",
    "Правила хорошего кода говорят о том, что все переменные (в том числе и столбцы датасета) должны быть написаны без заглавных букв. Поэтому приведем названия столбцов к нижнему регистру."
   ]
  },
  {
   "cell_type": "code",
   "execution_count": 7,
   "metadata": {},
   "outputs": [],
   "source": [
    "# Удалим лишние столбцы\n",
    "data = data.drop(['RowNumber', 'Surname', 'CustomerId'], axis=1)\n",
    "data.columns = data.columns.str.lower() # Преобразуем названия столбцов к нижнему регистру"
   ]
  },
  {
   "cell_type": "markdown",
   "metadata": {},
   "source": [
    "### Исследование данных датасета"
   ]
  },
  {
   "cell_type": "markdown",
   "metadata": {},
   "source": [
    "Проверим как распределены данные в исходном датасете. Для этого поочередно построим круговые графики для каждого признака. Первый признак - географическое расположение. В нашем случае это 3 страны - Франция, Германя и Испания."
   ]
  },
  {
   "cell_type": "code",
   "execution_count": 8,
   "metadata": {},
   "outputs": [
    {
     "data": {
      "image/png": "[encoded data removed]",
      "text/plain": [
       "<Figure size 640x480 with 1 Axes>"
      ]
     },
     "metadata": {},
     "output_type": "display_data"
    }
   ],
   "source": [
    "# Построим круговой график с соотношением клиентов по странам\n",
    "geogr = data.groupby('geography')['geography'].count()\n",
    "plt.pie(geogr, labels=geogr.index,  labeldistance=1.15, autopct='%.0f%%', \n",
    "        wedgeprops = { 'linewidth' : 3, 'edgecolor' : 'black' })\n",
    "plt.title('Соотношение стран в датасете')\n",
    "plt.show()"
   ]
  },
  {
   "cell_type": "markdown",
   "metadata": {},
   "source": [
    "Как видно из графика, страны распределены в соотношении 2:1:1 (Франция, Германия и Испания). Проверим, как влияет географическое расположение на отток клиентов."
   ]
  },
  {
   "cell_type": "code",
   "execution_count": 9,
   "metadata": {},
   "outputs": [
    {
     "data": {
      "text/html": [
       "<div>\n",
       "<style scoped>\n",
       "    .dataframe tbody tr th:only-of-type {\n",
       "        vertical-align: middle;\n",
       "    }\n",
       "\n",
       "    .dataframe tbody tr th {\n",
       "        vertical-align: top;\n",
       "    }\n",
       "\n",
       "    .dataframe thead th {\n",
       "        text-align: right;\n",
       "    }\n",
       "</style>\n",
       "<table border=\"1\" class=\"dataframe\">\n",
       "  <thead>\n",
       "    <tr style=\"text-align: right;\">\n",
       "      <th></th>\n",
       "      <th>exited</th>\n",
       "    </tr>\n",
       "    <tr>\n",
       "      <th>geography</th>\n",
       "      <th></th>\n",
       "    </tr>\n",
       "  </thead>\n",
       "  <tbody>\n",
       "    <tr>\n",
       "      <th>France</th>\n",
       "      <td>0.161548</td>\n",
       "    </tr>\n",
       "    <tr>\n",
       "      <th>Germany</th>\n",
       "      <td>0.324432</td>\n",
       "    </tr>\n",
       "    <tr>\n",
       "      <th>Spain</th>\n",
       "      <td>0.166734</td>\n",
       "    </tr>\n",
       "  </tbody>\n",
       "</table>\n",
       "</div>"
      ],
      "text/plain": [
       "             exited\n",
       "geography          \n",
       "France     0.161548\n",
       "Germany    0.324432\n",
       "Spain      0.166734"
      ]
     },
     "execution_count": 9,
     "metadata": {},
     "output_type": "execute_result"
    }
   ],
   "source": [
    "# Выведем соотношение ушедших клиентов для каждой страны\n",
    "data.pivot_table(index='geography', values='exited')"
   ]
  },
  {
   "cell_type": "markdown",
   "metadata": {},
   "source": [
    "По данным сводной таблицы во Франции примерно 16,2%, в Германии 32,2%, в Испании 16,7% клиентов расторгли договоры. В Германии наблюдает отток клиентов в 2 раза выше, чем в Франции и Испании. \n",
    "\n",
    "Построим график с соотношением полов в исследуемом датасете, выведем сводную таблицу по расторжению договора среди у каждого пола."
   ]
  },
  {
   "cell_type": "code",
   "execution_count": 10,
   "metadata": {},
   "outputs": [
    {
     "data": {
      "image/png": "[encoded data removed]",
      "text/plain": [
       "<Figure size 640x480 with 1 Axes>"
      ]
     },
     "metadata": {},
     "output_type": "display_data"
    },
    {
     "data": {
      "text/html": [
       "<div>\n",
       "<style scoped>\n",
       "    .dataframe tbody tr th:only-of-type {\n",
       "        vertical-align: middle;\n",
       "    }\n",
       "\n",
       "    .dataframe tbody tr th {\n",
       "        vertical-align: top;\n",
       "    }\n",
       "\n",
       "    .dataframe thead th {\n",
       "        text-align: right;\n",
       "    }\n",
       "</style>\n",
       "<table border=\"1\" class=\"dataframe\">\n",
       "  <thead>\n",
       "    <tr style=\"text-align: right;\">\n",
       "      <th></th>\n",
       "      <th>exited</th>\n",
       "    </tr>\n",
       "    <tr>\n",
       "      <th>gender</th>\n",
       "      <th></th>\n",
       "    </tr>\n",
       "  </thead>\n",
       "  <tbody>\n",
       "    <tr>\n",
       "      <th>Female</th>\n",
       "      <td>0.250715</td>\n",
       "    </tr>\n",
       "    <tr>\n",
       "      <th>Male</th>\n",
       "      <td>0.164559</td>\n",
       "    </tr>\n",
       "  </tbody>\n",
       "</table>\n",
       "</div>"
      ],
      "text/plain": [
       "          exited\n",
       "gender          \n",
       "Female  0.250715\n",
       "Male    0.164559"
      ]
     },
     "execution_count": 10,
     "metadata": {},
     "output_type": "execute_result"
    }
   ],
   "source": [
    "# Построим круговой график с соотношением клиентов по биологическому полу\n",
    "gender = data.groupby('gender')['gender'].count()\n",
    "plt.pie(gender, labels=gender.index,  labeldistance=1.15, autopct='%.0f%%', \n",
    "        wedgeprops = { 'linewidth' : 3, 'edgecolor' : 'black' })\n",
    "plt.title('Пол клиента')\n",
    "plt.show()\n",
    "\n",
    "# Выведем соотношение ушедших клиентов для каждого пола\n",
    "data.pivot_table(index='gender', values='exited')"
   ]
  },
  {
   "cell_type": "markdown",
   "metadata": {},
   "source": [
    "Имеет приблизительно равное соотношение полов среди клиентов, 45% женщин и 55% мужчин. Но женщины примерно в 1,5 раза чаще расторгали договоры, чем мужчины (25,1% у женщин, против 16,5% у мужчин).\n",
    "\n",
    "Далее посмотрим распределение количества лет, сколько человек является клиентом банка."
   ]
  },
  {
   "cell_type": "code",
   "execution_count": 11,
   "metadata": {},
   "outputs": [
    {
     "data": {
      "image/png": "[encoded data removed]",
      "text/plain": [
       "<Figure size 640x480 with 1 Axes>"
      ]
     },
     "metadata": {},
     "output_type": "display_data"
    },
    {
     "data": {
      "text/html": [
       "<div>\n",
       "<style scoped>\n",
       "    .dataframe tbody tr th:only-of-type {\n",
       "        vertical-align: middle;\n",
       "    }\n",
       "\n",
       "    .dataframe tbody tr th {\n",
       "        vertical-align: top;\n",
       "    }\n",
       "\n",
       "    .dataframe thead th {\n",
       "        text-align: right;\n",
       "    }\n",
       "</style>\n",
       "<table border=\"1\" class=\"dataframe\">\n",
       "  <thead>\n",
       "    <tr style=\"text-align: right;\">\n",
       "      <th></th>\n",
       "      <th>exited</th>\n",
       "    </tr>\n",
       "    <tr>\n",
       "      <th>tenure</th>\n",
       "      <th></th>\n",
       "    </tr>\n",
       "  </thead>\n",
       "  <tbody>\n",
       "    <tr>\n",
       "      <th>0.0</th>\n",
       "      <td>0.235602</td>\n",
       "    </tr>\n",
       "    <tr>\n",
       "      <th>1.0</th>\n",
       "      <td>0.223739</td>\n",
       "    </tr>\n",
       "    <tr>\n",
       "      <th>2.0</th>\n",
       "      <td>0.194737</td>\n",
       "    </tr>\n",
       "    <tr>\n",
       "      <th>3.0</th>\n",
       "      <td>0.213362</td>\n",
       "    </tr>\n",
       "    <tr>\n",
       "      <th>4.0</th>\n",
       "      <td>0.207910</td>\n",
       "    </tr>\n",
       "    <tr>\n",
       "      <th>5.0</th>\n",
       "      <td>0.201726</td>\n",
       "    </tr>\n",
       "    <tr>\n",
       "      <th>6.0</th>\n",
       "      <td>0.200908</td>\n",
       "    </tr>\n",
       "    <tr>\n",
       "      <th>7.0</th>\n",
       "      <td>0.172973</td>\n",
       "    </tr>\n",
       "    <tr>\n",
       "      <th>8.0</th>\n",
       "      <td>0.186495</td>\n",
       "    </tr>\n",
       "    <tr>\n",
       "      <th>9.0</th>\n",
       "      <td>0.219955</td>\n",
       "    </tr>\n",
       "    <tr>\n",
       "      <th>10.0</th>\n",
       "      <td>0.206278</td>\n",
       "    </tr>\n",
       "  </tbody>\n",
       "</table>\n",
       "</div>"
      ],
      "text/plain": [
       "          exited\n",
       "tenure          \n",
       "0.0     0.235602\n",
       "1.0     0.223739\n",
       "2.0     0.194737\n",
       "3.0     0.213362\n",
       "4.0     0.207910\n",
       "5.0     0.201726\n",
       "6.0     0.200908\n",
       "7.0     0.172973\n",
       "8.0     0.186495\n",
       "9.0     0.219955\n",
       "10.0    0.206278"
      ]
     },
     "execution_count": 11,
     "metadata": {},
     "output_type": "execute_result"
    }
   ],
   "source": [
    "# Построим круговой график с соотношением клиентов по количеству лет обслуживания в банке\n",
    "tenure = data.groupby('tenure')['tenure'].count()\n",
    "plt.pie(tenure, labels=tenure.index,  labeldistance=1.15, autopct='%.0f%%', \n",
    "        wedgeprops = { 'linewidth' : 1, 'edgecolor' : 'black' })\n",
    "plt.title('Срок использования услугами банка')\n",
    "plt.show()\n",
    "\n",
    "# Выведем соотношение ушедших клиентов в зависимости от количества лет обслуживания\n",
    "data.pivot_table(index='tenure', values='exited')"
   ]
  },
  {
   "cell_type": "markdown",
   "metadata": {},
   "source": [
    "Как видно из графика клиенты равномерно распределены на 10 частей по сроку пользования услугами банка на тех, кто пользуется менее года и 10 лет, от 1 до 9 лет. При этом наименьшее число расторгнутых договоров среди людей пользующихся услугами банка 7 лет, наибольшее год и менее.\n",
    "\n",
    "Следующий признак - количество имеющихся продуктов банка. "
   ]
  },
  {
   "cell_type": "code",
   "execution_count": 12,
   "metadata": {},
   "outputs": [
    {
     "data": {
      "image/png": "[encoded data removed]",
      "text/plain": [
       "<Figure size 640x480 with 1 Axes>"
      ]
     },
     "metadata": {},
     "output_type": "display_data"
    },
    {
     "data": {
      "text/html": [
       "<div>\n",
       "<style scoped>\n",
       "    .dataframe tbody tr th:only-of-type {\n",
       "        vertical-align: middle;\n",
       "    }\n",
       "\n",
       "    .dataframe tbody tr th {\n",
       "        vertical-align: top;\n",
       "    }\n",
       "\n",
       "    .dataframe thead th {\n",
       "        text-align: right;\n",
       "    }\n",
       "</style>\n",
       "<table border=\"1\" class=\"dataframe\">\n",
       "  <thead>\n",
       "    <tr style=\"text-align: right;\">\n",
       "      <th></th>\n",
       "      <th>exited</th>\n",
       "    </tr>\n",
       "    <tr>\n",
       "      <th>numofproducts</th>\n",
       "      <th></th>\n",
       "    </tr>\n",
       "  </thead>\n",
       "  <tbody>\n",
       "    <tr>\n",
       "      <th>1</th>\n",
       "      <td>0.277144</td>\n",
       "    </tr>\n",
       "    <tr>\n",
       "      <th>2</th>\n",
       "      <td>0.075817</td>\n",
       "    </tr>\n",
       "    <tr>\n",
       "      <th>3</th>\n",
       "      <td>0.827068</td>\n",
       "    </tr>\n",
       "    <tr>\n",
       "      <th>4</th>\n",
       "      <td>1.000000</td>\n",
       "    </tr>\n",
       "  </tbody>\n",
       "</table>\n",
       "</div>"
      ],
      "text/plain": [
       "                 exited\n",
       "numofproducts          \n",
       "1              0.277144\n",
       "2              0.075817\n",
       "3              0.827068\n",
       "4              1.000000"
      ]
     },
     "execution_count": 12,
     "metadata": {},
     "output_type": "execute_result"
    }
   ],
   "source": [
    "# Построим круговой график с соотношением клиентов по количеству используемых продуктов\n",
    "num_products = data.groupby('numofproducts')['numofproducts'].count()\n",
    "plt.pie(num_products, labels=num_products.index,  labeldistance=1.15, autopct='%.0f%%', \n",
    "        wedgeprops = { 'linewidth' : 1, 'edgecolor' : 'black' })\n",
    "plt.title('Количество используемых продуктов банка')\n",
    "plt.show()\n",
    "\n",
    "# Выведем соотношение ушедших клиентов в зависимости от количества используемых продуктов\n",
    "data.pivot_table(index='numofproducts', values='exited')"
   ]
  },
  {
   "cell_type": "markdown",
   "metadata": {},
   "source": [
    "Люди, использующие 3 и 4 продукта банка с преобладающей вероятностью расторгают договора, хоть количество таких клиентов всего 4% от общего числа. При этом меньше всего уходят клиенты использующие 2 продукта. К сожалению по имеющейся информации нет возможности определить причину столь высокого значения оттока клиентов. Вероятная причина - индивидуальные крайне невыгодные типы продуктов.\n",
    "\n",
    "Наличие кредитной карты с одной стороны удобный способ приобрести вещь, на которую в данный момент не хватает денег. Но с другой стороны проценты по кредитным картам значительно превышают проценты обычного кредита. Самые частые просрочки возникают с кредитными картами, вероятно клиенты уходят после выплаты высоких процентов по кредитным картам."
   ]
  },
  {
   "cell_type": "code",
   "execution_count": 13,
   "metadata": {},
   "outputs": [
    {
     "data": {
      "image/png": "[encoded data removed]",
      "text/plain": [
       "<Figure size 640x480 with 1 Axes>"
      ]
     },
     "metadata": {},
     "output_type": "display_data"
    },
    {
     "data": {
      "text/html": [
       "<div>\n",
       "<style scoped>\n",
       "    .dataframe tbody tr th:only-of-type {\n",
       "        vertical-align: middle;\n",
       "    }\n",
       "\n",
       "    .dataframe tbody tr th {\n",
       "        vertical-align: top;\n",
       "    }\n",
       "\n",
       "    .dataframe thead th {\n",
       "        text-align: right;\n",
       "    }\n",
       "</style>\n",
       "<table border=\"1\" class=\"dataframe\">\n",
       "  <thead>\n",
       "    <tr style=\"text-align: right;\">\n",
       "      <th></th>\n",
       "      <th>exited</th>\n",
       "    </tr>\n",
       "    <tr>\n",
       "      <th>hascrcard</th>\n",
       "      <th></th>\n",
       "    </tr>\n",
       "  </thead>\n",
       "  <tbody>\n",
       "    <tr>\n",
       "      <th>0</th>\n",
       "      <td>0.208149</td>\n",
       "    </tr>\n",
       "    <tr>\n",
       "      <th>1</th>\n",
       "      <td>0.201843</td>\n",
       "    </tr>\n",
       "  </tbody>\n",
       "</table>\n",
       "</div>"
      ],
      "text/plain": [
       "             exited\n",
       "hascrcard          \n",
       "0          0.208149\n",
       "1          0.201843"
      ]
     },
     "execution_count": 13,
     "metadata": {},
     "output_type": "execute_result"
    }
   ],
   "source": [
    "# Построим круговой график с соотношением клиентов по наличию кредитной карты\n",
    "card = data.groupby('hascrcard')['hascrcard'].count()\n",
    "plt.pie(card, labels=('No', 'Yes'),  labeldistance=1.15, autopct='%.0f%%', \n",
    "        wedgeprops = { 'linewidth' : 3, 'edgecolor' : 'black' })\n",
    "plt.title('Имеют кредитную карту')\n",
    "plt.show()\n",
    "\n",
    "# Выведем соотношение ушедших клиентов в зависимости от наличия кредитной карты\n",
    "data.pivot_table(index='hascrcard', values='exited')"
   ]
  },
  {
   "cell_type": "markdown",
   "metadata": {},
   "source": [
    "Кредитную карту имеют 71% клиентов банка, при этом предположение о влиянии кредитной карты на расторжение договора оказалось неверное. Наличие или отсутствие карты **никак** не влияет на отток клиентов.\n",
    "\n",
    "Посмотрим активность соотношение активных клиентов банка и как этот признак влияет на уход клиентов."
   ]
  },
  {
   "cell_type": "code",
   "execution_count": 14,
   "metadata": {},
   "outputs": [
    {
     "data": {
      "image/png": "[encoded data removed]",
      "text/plain": [
       "<Figure size 640x480 with 1 Axes>"
      ]
     },
     "metadata": {},
     "output_type": "display_data"
    },
    {
     "data": {
      "text/html": [
       "<div>\n",
       "<style scoped>\n",
       "    .dataframe tbody tr th:only-of-type {\n",
       "        vertical-align: middle;\n",
       "    }\n",
       "\n",
       "    .dataframe tbody tr th {\n",
       "        vertical-align: top;\n",
       "    }\n",
       "\n",
       "    .dataframe thead th {\n",
       "        text-align: right;\n",
       "    }\n",
       "</style>\n",
       "<table border=\"1\" class=\"dataframe\">\n",
       "  <thead>\n",
       "    <tr style=\"text-align: right;\">\n",
       "      <th></th>\n",
       "      <th>exited</th>\n",
       "    </tr>\n",
       "    <tr>\n",
       "      <th>isactivemember</th>\n",
       "      <th></th>\n",
       "    </tr>\n",
       "  </thead>\n",
       "  <tbody>\n",
       "    <tr>\n",
       "      <th>0</th>\n",
       "      <td>0.268509</td>\n",
       "    </tr>\n",
       "    <tr>\n",
       "      <th>1</th>\n",
       "      <td>0.142691</td>\n",
       "    </tr>\n",
       "  </tbody>\n",
       "</table>\n",
       "</div>"
      ],
      "text/plain": [
       "                  exited\n",
       "isactivemember          \n",
       "0               0.268509\n",
       "1               0.142691"
      ]
     },
     "execution_count": 14,
     "metadata": {},
     "output_type": "execute_result"
    }
   ],
   "source": [
    "# Построим круговой график с соотношением клиентов по признаку активности клиента\n",
    "member = data.groupby('isactivemember')['isactivemember'].count()\n",
    "plt.pie(member, labels=member.index,  labeldistance=1.15, autopct='%.0f%%', \n",
    "        wedgeprops = { 'linewidth' : 3, 'edgecolor' : 'black' })\n",
    "plt.title('Активность клиента')\n",
    "plt.show()\n",
    "\n",
    "# Выведем соотношение ушедших клиентов в зависимости от признака активности клиента\n",
    "data.pivot_table(index='isactivemember', values='exited')"
   ]
  },
  {
   "cell_type": "markdown",
   "metadata": {},
   "source": [
    "Активных клиентов чуть больше, чем пассивных. Активные клиенты практически в 2 раза чаще сохраняют договор с банком. Таким образом можно сделать вывод о том, что банк предоставляет активным клиентам привлекательные условия по своим услугам.\n",
    "\n",
    "Последним посмотрим распределение целевого признака - факт ухода клиента из банка. Дисбаланс в соотношении этого признака значительно будет влиять на предсказания модели. Чем больше один класс будет преобладать над другим, тем меньше данных для обучения будет по меньшему классу и тем чаще будет ошибаться модель предсказывая. Для решения данной проблемы можно использовать  некоторые приемы для сбалансирования."
   ]
  },
  {
   "cell_type": "code",
   "execution_count": 15,
   "metadata": {},
   "outputs": [
    {
     "data": {
      "image/png": "[encoded data removed]",
      "text/plain": [
       "<Figure size 640x480 with 1 Axes>"
      ]
     },
     "metadata": {},
     "output_type": "display_data"
    }
   ],
   "source": [
    "# Построим круговой график с соотношением клиентов по акту ухода клиента из банка\n",
    "exited = data.groupby('exited')['exited'].count()\n",
    "plt.pie(exited, labels=exited.index,  labeldistance=1.15, autopct='%.0f%%', \n",
    "        wedgeprops = { 'linewidth' : 3, 'edgecolor' : 'black' })\n",
    "plt.title('Факт ухода клиента')\n",
    "plt.show()"
   ]
  },
  {
   "cell_type": "markdown",
   "metadata": {},
   "source": [
    "Целевой признак распределен в соотношении 4:1, с перевесом в пользу действующих клиентов. В результате такого сильно дисбаланса обученная модель будет с большой вероятностью неверно предсказывать значение \"1\". \n",
    "\n",
    "После \"категориальных\" признаков можно перейти к количественным - балансам на счетах клиентов и предполагаемой зарплате."
   ]
  },
  {
   "cell_type": "code",
   "execution_count": 16,
   "metadata": {},
   "outputs": [
    {
     "data": {
      "image/png": "[encoded data removed]",
      "text/plain": [
       "<Figure size 1500x700 with 1 Axes>"
      ]
     },
     "metadata": {},
     "output_type": "display_data"
    }
   ],
   "source": [
    "# Построим гистограмму с соотношением баланса на счетах клиентов\n",
    "data['balance'].hist(figsize=(15,7),edgecolor='black')\n",
    "plt.title('Гистограмма баланса на счетах клиентов')\n",
    "plt.ylabel('Баланс')\n",
    "plt.xlabel('Клиенты')\n",
    "plt.grid(True)\n",
    "plt.show()"
   ]
  },
  {
   "cell_type": "markdown",
   "metadata": {},
   "source": [
    "Балансы на счетах клиентов равномерно распределены, без учета нулевых счетов. Нулевой баланс имеют более 35% клиентов."
   ]
  },
  {
   "cell_type": "code",
   "execution_count": 17,
   "metadata": {},
   "outputs": [
    {
     "data": {
      "text/plain": [
       "<AxesSubplot:ylabel='estimatedsalary'>"
      ]
     },
     "execution_count": 17,
     "metadata": {},
     "output_type": "execute_result"
    },
    {
     "data": {
      "image/png": "[encoded data removed]",
      "text/plain": [
       "<Figure size 640x480 with 1 Axes>"
      ]
     },
     "metadata": {},
     "output_type": "display_data"
    }
   ],
   "source": [
    "# Построим график распределения предполагаемых зарплат клиентов\n",
    "sb.violinplot(y=data['estimatedsalary'])"
   ]
  },
  {
   "cell_type": "markdown",
   "metadata": {},
   "source": [
    "Плотность расперделения по предполагаемой зарплате равномерно распределена на всем интервале значений, без явных выбросов и перекосов. \n",
    "\n",
    "Посмотрим имеется ли явная корреляция между какими-либо признаками, в особенности с целевым признаком. Для этого воспользуемся phik-матрицей и построем тепловую карту этой корреляции."
   ]
  },
  {
   "cell_type": "code",
   "execution_count": 18,
   "metadata": {},
   "outputs": [
    {
     "name": "stdout",
     "output_type": "stream",
     "text": [
      "interval columns not set, guessing: ['creditscore', 'age', 'tenure', 'balance', 'numofproducts', 'hascrcard', 'isactivemember', 'estimatedsalary', 'exited']\n"
     ]
    },
    {
     "data": {
      "text/html": [
       "<div>\n",
       "<style scoped>\n",
       "    .dataframe tbody tr th:only-of-type {\n",
       "        vertical-align: middle;\n",
       "    }\n",
       "\n",
       "    .dataframe tbody tr th {\n",
       "        vertical-align: top;\n",
       "    }\n",
       "\n",
       "    .dataframe thead th {\n",
       "        text-align: right;\n",
       "    }\n",
       "</style>\n",
       "<table border=\"1\" class=\"dataframe\">\n",
       "  <thead>\n",
       "    <tr style=\"text-align: right;\">\n",
       "      <th></th>\n",
       "      <th>creditscore</th>\n",
       "      <th>geography</th>\n",
       "      <th>gender</th>\n",
       "      <th>age</th>\n",
       "      <th>tenure</th>\n",
       "      <th>balance</th>\n",
       "      <th>numofproducts</th>\n",
       "      <th>hascrcard</th>\n",
       "      <th>isactivemember</th>\n",
       "      <th>estimatedsalary</th>\n",
       "      <th>exited</th>\n",
       "    </tr>\n",
       "  </thead>\n",
       "  <tbody>\n",
       "    <tr>\n",
       "      <th>creditscore</th>\n",
       "      <td>1.000000</td>\n",
       "      <td>0.035375</td>\n",
       "      <td>0.000000</td>\n",
       "      <td>0.000000</td>\n",
       "      <td>0.000000</td>\n",
       "      <td>0.000000</td>\n",
       "      <td>0.034645</td>\n",
       "      <td>0.000000</td>\n",
       "      <td>0.038064</td>\n",
       "      <td>0.034215</td>\n",
       "      <td>0.096525</td>\n",
       "    </tr>\n",
       "    <tr>\n",
       "      <th>geography</th>\n",
       "      <td>0.035375</td>\n",
       "      <td>1.000000</td>\n",
       "      <td>0.013354</td>\n",
       "      <td>0.085025</td>\n",
       "      <td>0.003879</td>\n",
       "      <td>0.463811</td>\n",
       "      <td>0.049418</td>\n",
       "      <td>0.002919</td>\n",
       "      <td>0.010947</td>\n",
       "      <td>0.028372</td>\n",
       "      <td>0.104511</td>\n",
       "    </tr>\n",
       "    <tr>\n",
       "      <th>gender</th>\n",
       "      <td>0.000000</td>\n",
       "      <td>0.013354</td>\n",
       "      <td>1.000000</td>\n",
       "      <td>0.033815</td>\n",
       "      <td>0.031054</td>\n",
       "      <td>0.000000</td>\n",
       "      <td>0.063174</td>\n",
       "      <td>0.000000</td>\n",
       "      <td>0.031384</td>\n",
       "      <td>0.028019</td>\n",
       "      <td>0.165422</td>\n",
       "    </tr>\n",
       "    <tr>\n",
       "      <th>age</th>\n",
       "      <td>0.000000</td>\n",
       "      <td>0.085025</td>\n",
       "      <td>0.033815</td>\n",
       "      <td>1.000000</td>\n",
       "      <td>0.046402</td>\n",
       "      <td>0.035357</td>\n",
       "      <td>0.145566</td>\n",
       "      <td>0.016433</td>\n",
       "      <td>0.187434</td>\n",
       "      <td>0.051545</td>\n",
       "      <td>0.487524</td>\n",
       "    </tr>\n",
       "    <tr>\n",
       "      <th>tenure</th>\n",
       "      <td>0.000000</td>\n",
       "      <td>0.003879</td>\n",
       "      <td>0.031054</td>\n",
       "      <td>0.046402</td>\n",
       "      <td>1.000000</td>\n",
       "      <td>0.063973</td>\n",
       "      <td>0.060387</td>\n",
       "      <td>0.031409</td>\n",
       "      <td>0.027321</td>\n",
       "      <td>0.000000</td>\n",
       "      <td>0.020845</td>\n",
       "    </tr>\n",
       "    <tr>\n",
       "      <th>balance</th>\n",
       "      <td>0.000000</td>\n",
       "      <td>0.463811</td>\n",
       "      <td>0.000000</td>\n",
       "      <td>0.035357</td>\n",
       "      <td>0.063973</td>\n",
       "      <td>1.000000</td>\n",
       "      <td>0.371385</td>\n",
       "      <td>0.050671</td>\n",
       "      <td>0.018236</td>\n",
       "      <td>0.000000</td>\n",
       "      <td>0.183365</td>\n",
       "    </tr>\n",
       "    <tr>\n",
       "      <th>numofproducts</th>\n",
       "      <td>0.034645</td>\n",
       "      <td>0.049418</td>\n",
       "      <td>0.063174</td>\n",
       "      <td>0.145566</td>\n",
       "      <td>0.060387</td>\n",
       "      <td>0.371385</td>\n",
       "      <td>1.000000</td>\n",
       "      <td>0.000000</td>\n",
       "      <td>0.056918</td>\n",
       "      <td>0.031562</td>\n",
       "      <td>0.565084</td>\n",
       "    </tr>\n",
       "    <tr>\n",
       "      <th>hascrcard</th>\n",
       "      <td>0.000000</td>\n",
       "      <td>0.002919</td>\n",
       "      <td>0.000000</td>\n",
       "      <td>0.016433</td>\n",
       "      <td>0.031409</td>\n",
       "      <td>0.050671</td>\n",
       "      <td>0.000000</td>\n",
       "      <td>1.000000</td>\n",
       "      <td>0.009377</td>\n",
       "      <td>0.000000</td>\n",
       "      <td>0.000000</td>\n",
       "    </tr>\n",
       "    <tr>\n",
       "      <th>isactivemember</th>\n",
       "      <td>0.038064</td>\n",
       "      <td>0.010947</td>\n",
       "      <td>0.031384</td>\n",
       "      <td>0.187434</td>\n",
       "      <td>0.027321</td>\n",
       "      <td>0.018236</td>\n",
       "      <td>0.056918</td>\n",
       "      <td>0.009377</td>\n",
       "      <td>1.000000</td>\n",
       "      <td>0.032847</td>\n",
       "      <td>0.241939</td>\n",
       "    </tr>\n",
       "    <tr>\n",
       "      <th>estimatedsalary</th>\n",
       "      <td>0.034215</td>\n",
       "      <td>0.028372</td>\n",
       "      <td>0.028019</td>\n",
       "      <td>0.051545</td>\n",
       "      <td>0.000000</td>\n",
       "      <td>0.000000</td>\n",
       "      <td>0.031562</td>\n",
       "      <td>0.000000</td>\n",
       "      <td>0.032847</td>\n",
       "      <td>1.000000</td>\n",
       "      <td>0.000000</td>\n",
       "    </tr>\n",
       "    <tr>\n",
       "      <th>exited</th>\n",
       "      <td>0.096525</td>\n",
       "      <td>0.104511</td>\n",
       "      <td>0.165422</td>\n",
       "      <td>0.487524</td>\n",
       "      <td>0.020845</td>\n",
       "      <td>0.183365</td>\n",
       "      <td>0.565084</td>\n",
       "      <td>0.000000</td>\n",
       "      <td>0.241939</td>\n",
       "      <td>0.000000</td>\n",
       "      <td>1.000000</td>\n",
       "    </tr>\n",
       "  </tbody>\n",
       "</table>\n",
       "</div>"
      ],
      "text/plain": [
       "                 creditscore  geography    gender       age    tenure  \\\n",
       "creditscore         1.000000   0.035375  0.000000  0.000000  0.000000   \n",
       "geography           0.035375   1.000000  0.013354  0.085025  0.003879   \n",
       "gender              0.000000   0.013354  1.000000  0.033815  0.031054   \n",
       "age                 0.000000   0.085025  0.033815  1.000000  0.046402   \n",
       "tenure              0.000000   0.003879  0.031054  0.046402  1.000000   \n",
       "balance             0.000000   0.463811  0.000000  0.035357  0.063973   \n",
       "numofproducts       0.034645   0.049418  0.063174  0.145566  0.060387   \n",
       "hascrcard           0.000000   0.002919  0.000000  0.016433  0.031409   \n",
       "isactivemember      0.038064   0.010947  0.031384  0.187434  0.027321   \n",
       "estimatedsalary     0.034215   0.028372  0.028019  0.051545  0.000000   \n",
       "exited              0.096525   0.104511  0.165422  0.487524  0.020845   \n",
       "\n",
       "                  balance  numofproducts  hascrcard  isactivemember  \\\n",
       "creditscore      0.000000       0.034645   0.000000        0.038064   \n",
       "geography        0.463811       0.049418   0.002919        0.010947   \n",
       "gender           0.000000       0.063174   0.000000        0.031384   \n",
       "age              0.035357       0.145566   0.016433        0.187434   \n",
       "tenure           0.063973       0.060387   0.031409        0.027321   \n",
       "balance          1.000000       0.371385   0.050671        0.018236   \n",
       "numofproducts    0.371385       1.000000   0.000000        0.056918   \n",
       "hascrcard        0.050671       0.000000   1.000000        0.009377   \n",
       "isactivemember   0.018236       0.056918   0.009377        1.000000   \n",
       "estimatedsalary  0.000000       0.031562   0.000000        0.032847   \n",
       "exited           0.183365       0.565084   0.000000        0.241939   \n",
       "\n",
       "                 estimatedsalary    exited  \n",
       "creditscore             0.034215  0.096525  \n",
       "geography               0.028372  0.104511  \n",
       "gender                  0.028019  0.165422  \n",
       "age                     0.051545  0.487524  \n",
       "tenure                  0.000000  0.020845  \n",
       "balance                 0.000000  0.183365  \n",
       "numofproducts           0.031562  0.565084  \n",
       "hascrcard               0.000000  0.000000  \n",
       "isactivemember          0.032847  0.241939  \n",
       "estimatedsalary         1.000000  0.000000  \n",
       "exited                  0.000000  1.000000  "
      ]
     },
     "execution_count": 18,
     "metadata": {},
     "output_type": "execute_result"
    }
   ],
   "source": [
    "# Построим тепловую карту корреляции признаков между собой\n",
    "data_corr = data.phik_matrix()\n",
    "data_corr"
   ]
  },
  {
   "cell_type": "code",
   "execution_count": 19,
   "metadata": {},
   "outputs": [
    {
     "data": {
      "image/png": "[encoded data removed]",
      "text/plain": [
       "<Figure size 1500x1000 with 2 Axes>"
      ]
     },
     "metadata": {},
     "output_type": "display_data"
    }
   ],
   "source": [
    "# Выведем таблицу корреляции для численной оценки\n",
    "plt.figure(figsize = (15,10))\n",
    "sb.heatmap(data_corr.round(2), cmap='coolwarm', annot=True, square=True)\n",
    "plt.title('Матрица корреляции признаков')\n",
    "plt.ylabel('Признак')\n",
    "plt.xlabel('Признак')\n",
    "plt.show()"
   ]
  },
  {
   "cell_type": "markdown",
   "metadata": {},
   "source": [
    "После построения phik матрицы выявлено, что признаки возраст и количество продуктов имеют корреляцию около 0.5 с целевым признаком, такая корреляция вызывает опасение. Для количества продуктов это может быть вызвано тем, что люди с 3 и 4 продуктами прекратили обслуживание в банке пркатически в 100% случаях. \n",
    "\n",
    "По поводу возраста можно сделать лишь предположение о консервативности клиентов. Известный факт, что с возрастом люди становятся более консервативны и стараются не менять любимые места, в отличии от молодежи, которые идут во все авантюры."
   ]
  },
  {
   "cell_type": "markdown",
   "metadata": {},
   "source": [
    "### Преобразование данных"
   ]
  },
  {
   "cell_type": "markdown",
   "metadata": {},
   "source": [
    "Приступаем к преобразованию датасета. Первоначально, для удобства, заменим пол на одну букву. "
   ]
  },
  {
   "cell_type": "code",
   "execution_count": 20,
   "metadata": {},
   "outputs": [],
   "source": [
    "# Подготавливаем данные для дамми-преобразования\n",
    "data['gender'] = data['gender'].replace('Male', 'm')\n",
    "data['gender'] = data['gender'].replace('Female', 'f')"
   ]
  },
  {
   "cell_type": "markdown",
   "metadata": {},
   "source": [
    "После этого удалим строки с пропусками.\n",
    "\n",
    "Для ряда признаком понизим тип данных до 'uint8', что значительно снизит расходование оперативной памяти и время обучения моделей."
   ]
  },
  {
   "cell_type": "code",
   "execution_count": 21,
   "metadata": {},
   "outputs": [],
   "source": [
    "# Заполняем пропуски в столбце tenure и меняем тип данных для остальных столбцов\n",
    "change_type = ['exited', 'numofproducts', 'hascrcard', 'isactivemember']\n",
    "\n",
    "data = data.dropna(subset=['tenure'])\n",
    "data['tenure'] = data['tenure'].astype('int64')\n",
    "data[change_type] = data[change_type].astype('uint8')"
   ]
  },
  {
   "cell_type": "markdown",
   "metadata": {},
   "source": [
    "Для столбцов со страной проживания и полом применим методику ОНЕ(One-Hot Encoding). Воспользуемся встроенным в pandas методом .get_dummies() с аргументом drop_first=True чтобы избежать дамми-ловушку."
   ]
  },
  {
   "cell_type": "code",
   "execution_count": 22,
   "metadata": {},
   "outputs": [],
   "source": [
    "# Выполняем дамми-преобразование\n",
    "data = pd.get_dummies(data, columns=['geography', 'gender'], drop_first=True)"
   ]
  },
  {
   "cell_type": "markdown",
   "metadata": {},
   "source": [
    "Проверим ключевую информацию по преобразованному датасету."
   ]
  },
  {
   "cell_type": "code",
   "execution_count": 23,
   "metadata": {},
   "outputs": [
    {
     "name": "stdout",
     "output_type": "stream",
     "text": [
      "<class 'pandas.core.frame.DataFrame'>\n",
      "Int64Index: 9091 entries, 0 to 9998\n",
      "Data columns (total 12 columns):\n",
      " #   Column             Non-Null Count  Dtype  \n",
      "---  ------             --------------  -----  \n",
      " 0   creditscore        9091 non-null   int64  \n",
      " 1   age                9091 non-null   int64  \n",
      " 2   tenure             9091 non-null   int64  \n",
      " 3   balance            9091 non-null   float64\n",
      " 4   numofproducts      9091 non-null   uint8  \n",
      " 5   hascrcard          9091 non-null   uint8  \n",
      " 6   isactivemember     9091 non-null   uint8  \n",
      " 7   estimatedsalary    9091 non-null   float64\n",
      " 8   exited             9091 non-null   uint8  \n",
      " 9   geography_Germany  9091 non-null   uint8  \n",
      " 10  geography_Spain    9091 non-null   uint8  \n",
      " 11  gender_m           9091 non-null   uint8  \n",
      "dtypes: float64(2), int64(3), uint8(7)\n",
      "memory usage: 488.3 KB\n"
     ]
    }
   ],
   "source": [
    "# Визуально проверяем правильность выполнения предобработки\n",
    "data.info()"
   ]
  },
  {
   "cell_type": "markdown",
   "metadata": {},
   "source": [
    "В итоге имеем датасет состоящий из 10 000 клиентов. Типы данных распределены следующим образом - float64 2 столбца, int64 4 столбца и uint8 7 столбцов.\n",
    "\n",
    "Датасет занимает 537,2 КВ оперативной памяти, что в 2 раза меньше исходного. Значит все операции будут выполнены не менее чем в 2 раза быстрее."
   ]
  },
  {
   "cell_type": "markdown",
   "metadata": {},
   "source": [
    "## Исследование задачи"
   ]
  },
  {
   "cell_type": "markdown",
   "metadata": {},
   "source": [
    "По итогу подготовки данных имеется дисбаланс классов, ушедших клиентов в 4 раза меньше действующих. Данных в датасете достаточно для обучения модели, даже с учетом дизбаланса, ушедших клиентов приблизительно 2 000 человек. Попробуем обучить модель без учета дизбаланса.\n",
    "\n",
    "Первым делом разделим датасет на обучающую, валидационную и тестовую выборки в соотношении 3:1:1. Проверим, чтобы не было перекосов в соотношениях целевых классов (частные случаи, когда в обучающей выборке присутствуют лишь действующие клиенты)."
   ]
  },
  {
   "cell_type": "code",
   "execution_count": 24,
   "metadata": {},
   "outputs": [
    {
     "name": "stdout",
     "output_type": "stream",
     "text": [
      "Тренировочная\n",
      "\n",
      "count    5454.000000\n",
      "mean        0.207187\n",
      "std         0.405328\n",
      "min         0.000000\n",
      "25%         0.000000\n",
      "50%         0.000000\n",
      "75%         0.000000\n",
      "max         1.000000\n",
      "Name: exited, dtype: float64\n",
      "\n",
      "Тестовая\n",
      "\n",
      "count    1818.000000\n",
      "mean        0.196920\n",
      "std         0.397781\n",
      "min         0.000000\n",
      "25%         0.000000\n",
      "50%         0.000000\n",
      "75%         0.000000\n",
      "max         1.000000\n",
      "Name: exited, dtype: float64\n",
      "\n",
      "Валидационная\n",
      "\n",
      "count    1819.000000\n",
      "mean        0.201209\n",
      "std         0.401014\n",
      "min         0.000000\n",
      "25%         0.000000\n",
      "50%         0.000000\n",
      "75%         0.000000\n",
      "max         1.000000\n",
      "Name: exited, dtype: float64\n"
     ]
    }
   ],
   "source": [
    "# Делим датасет на тренировочный, тестовый и валидационный в соотношении 3:1:1\n",
    "train, test, valid = np.split(data.sample(frac=1, random_state=42), [int(.6*len(data)), int(.8*len(data))])\n",
    "\n",
    "# Разделим тренировочную выборку на параметры и целевой параметр\n",
    "train_features = train.drop(['exited'], axis=1) \n",
    "train_target = train['exited']\n",
    "\n",
    "# Разделим тестовую выборку на параметры и целевой параметр\n",
    "test_features = test.drop(['exited'], axis=1) \n",
    "test_target = test['exited']\n",
    "\n",
    "# Разделим валидационную выборку на параметры и целевой параметр\n",
    "valid_features = valid.drop(['exited'], axis=1) \n",
    "valid_target = valid['exited']\n",
    "\n",
    "# Проверяем равномерное распределение действующих и ушедших клиентов \n",
    "print(f'Тренировочная\\n\\n{train_target.describe()}\\n\\nТестовая\\n')\n",
    "print(f'{test_target.describe()}\\n\\nВалидационная\\n\\n{valid_target.describe()}')"
   ]
  },
  {
   "cell_type": "markdown",
   "metadata": {},
   "source": [
    "#### Стандартизация признаков\n",
    "\n",
    "Значения и разбросы в каком-либо столбце могут быть больше, чем в другом и алгоритм машинного обучения может решить, что признак в этом столбце важнее других. Чтобы этого избежать признаки масштабируются и один из методов - стандартизация данных. \n",
    "\n",
    "Новое значение = ${Cтандартное значение - М\\over \\sqrt D }$\n",
    "\n",
    "где М - среднее, D - дисперсия.\n",
    "\n",
    "Для этого из библиотеки sklearn.preprocessing будем использовать функцию StandardScaler(). Обучим на тренировочной выборке, а после применим к тренировочной, тестовой и валидационной выборкам."
   ]
  },
  {
   "cell_type": "code",
   "execution_count": 25,
   "metadata": {},
   "outputs": [],
   "source": [
    "numeric = ['creditscore', 'age', 'tenure', 'balance', 'numofproducts', 'estimatedsalary']\n",
    "# Обучаем преобразователь масштаба методом стандартизации на тренировочной выборке\n",
    "scaler = StandardScaler()\n",
    "scaler.fit(train_features[numeric])\n",
    "# Проводим преобразование выборок \n",
    "train_features[numeric] = scaler.transform(train_features[numeric])\n",
    "test_features[numeric] = scaler.transform(test_features[numeric])\n",
    "valid_features[numeric] = scaler.transform(valid_features[numeric])"
   ]
  },
  {
   "cell_type": "markdown",
   "metadata": {},
   "source": [
    "Выборки разделены на 3 части в соотношении 3:1:1, распределение целевого признака соответсвует среднему распределению по датасету. Можно приступать к обучению моделей машинного обучения.\n",
    "\n",
    "Для выполнения задач проекта воспользуемся следующими моделями: модель логистической регрессии, модель дерева решений и модель случайного леса. Поочередно подберем для моделей оптимальные гиперпараметры. Качество модели будем судить по F1-мере. \n",
    "\n",
    "#### Модель логистической регрессии\n",
    "\n",
    "Первой подберем лучшие гиперпараметры для модели логистической регрессии. Логистическая регрессия — это алгоритм классификации для прогнозирования вероятности категориально зависимой переменной. В логистической регрессии зависимые переменные — это двоичные (бинарные) переменные, содержащие 1 (да, успех, и так далее) или 0 — нет, неудача, и так далее. Другими словами, логистическая регрессия прогнозирует P(Y=1) как функцию от X.\n",
    "\n",
    "Преимущество логистической регрессии - скорость работы, у нее меньше всего параметров. Из недостатков можно назвать низкую точность предсказания и наличие решателей, каждый из которых имеет свои области преминения, а так же необходимость понимания влияния штрафов на решатели.\n",
    "\n",
    "В качестве меняющихся гиперпараметров для логистической регрессии выберем:\n",
    "- solver - решатель;\n",
    "- max_iter - максимальное количество иттераций."
   ]
  },
  {
   "cell_type": "code",
   "execution_count": 26,
   "metadata": {},
   "outputs": [
    {
     "name": "stderr",
     "output_type": "stream",
     "text": [
      "D:\\anaconda\\lib\\site-packages\\sklearn\\linear_model\\_logistic.py:1523: UserWarning: 'n_jobs' > 1 does not have any effect when 'solver' is set to 'liblinear'. Got 'n_jobs' = 8.\n",
      "  warnings.warn(\n",
      "D:\\anaconda\\lib\\site-packages\\sklearn\\linear_model\\_logistic.py:1523: UserWarning: 'n_jobs' > 1 does not have any effect when 'solver' is set to 'liblinear'. Got 'n_jobs' = 8.\n",
      "  warnings.warn(\n",
      "D:\\anaconda\\lib\\site-packages\\sklearn\\linear_model\\_logistic.py:1523: UserWarning: 'n_jobs' > 1 does not have any effect when 'solver' is set to 'liblinear'. Got 'n_jobs' = 8.\n",
      "  warnings.warn(\n",
      "D:\\anaconda\\lib\\site-packages\\sklearn\\linear_model\\_logistic.py:1523: UserWarning: 'n_jobs' > 1 does not have any effect when 'solver' is set to 'liblinear'. Got 'n_jobs' = 8.\n",
      "  warnings.warn(\n",
      "D:\\anaconda\\lib\\site-packages\\sklearn\\linear_model\\_logistic.py:1523: UserWarning: 'n_jobs' > 1 does not have any effect when 'solver' is set to 'liblinear'. Got 'n_jobs' = 8.\n",
      "  warnings.warn(\n",
      "D:\\anaconda\\lib\\site-packages\\sklearn\\linear_model\\_logistic.py:1523: UserWarning: 'n_jobs' > 1 does not have any effect when 'solver' is set to 'liblinear'. Got 'n_jobs' = 8.\n",
      "  warnings.warn(\n",
      "D:\\anaconda\\lib\\site-packages\\sklearn\\linear_model\\_logistic.py:1523: UserWarning: 'n_jobs' > 1 does not have any effect when 'solver' is set to 'liblinear'. Got 'n_jobs' = 8.\n",
      "  warnings.warn(\n",
      "D:\\anaconda\\lib\\site-packages\\sklearn\\linear_model\\_logistic.py:1523: UserWarning: 'n_jobs' > 1 does not have any effect when 'solver' is set to 'liblinear'. Got 'n_jobs' = 8.\n",
      "  warnings.warn(\n",
      "D:\\anaconda\\lib\\site-packages\\sklearn\\linear_model\\_logistic.py:1523: UserWarning: 'n_jobs' > 1 does not have any effect when 'solver' is set to 'liblinear'. Got 'n_jobs' = 8.\n",
      "  warnings.warn(\n",
      "D:\\anaconda\\lib\\site-packages\\sklearn\\linear_model\\_logistic.py:1523: UserWarning: 'n_jobs' > 1 does not have any effect when 'solver' is set to 'liblinear'. Got 'n_jobs' = 8.\n",
      "  warnings.warn(\n",
      "D:\\anaconda\\lib\\site-packages\\sklearn\\linear_model\\_logistic.py:1523: UserWarning: 'n_jobs' > 1 does not have any effect when 'solver' is set to 'liblinear'. Got 'n_jobs' = 8.\n",
      "  warnings.warn(\n",
      "D:\\anaconda\\lib\\site-packages\\sklearn\\linear_model\\_logistic.py:1523: UserWarning: 'n_jobs' > 1 does not have any effect when 'solver' is set to 'liblinear'. Got 'n_jobs' = 8.\n",
      "  warnings.warn(\n",
      "D:\\anaconda\\lib\\site-packages\\sklearn\\linear_model\\_logistic.py:1523: UserWarning: 'n_jobs' > 1 does not have any effect when 'solver' is set to 'liblinear'. Got 'n_jobs' = 8.\n",
      "  warnings.warn(\n",
      "D:\\anaconda\\lib\\site-packages\\sklearn\\linear_model\\_logistic.py:1523: UserWarning: 'n_jobs' > 1 does not have any effect when 'solver' is set to 'liblinear'. Got 'n_jobs' = 8.\n",
      "  warnings.warn(\n",
      "D:\\anaconda\\lib\\site-packages\\sklearn\\linear_model\\_logistic.py:1523: UserWarning: 'n_jobs' > 1 does not have any effect when 'solver' is set to 'liblinear'. Got 'n_jobs' = 8.\n",
      "  warnings.warn(\n",
      "D:\\anaconda\\lib\\site-packages\\sklearn\\linear_model\\_logistic.py:1523: UserWarning: 'n_jobs' > 1 does not have any effect when 'solver' is set to 'liblinear'. Got 'n_jobs' = 8.\n",
      "  warnings.warn(\n"
     ]
    },
    {
     "name": "stdout",
     "output_type": "stream",
     "text": [
      "Наилучшая f1-мера логистической регрессии на валидационной выборке: 0.33593750000000006,\n",
      "ROC-AUC модели: 0.7603996254216826\n",
      "Модель имеет следующие гиперпараметры:\n",
      "Количество иттераций: 500,\n",
      "Лучший метод: lbfgs\n",
      "Wall time: 3.22 s\n"
     ]
    }
   ],
   "source": [
    "%%time\n",
    "\n",
    "# Задаем начальные параметры для выявления гиперпараметров лучшей модели\n",
    "best_logistic_model = None\n",
    "best_logistic_result = 0\n",
    "best_logistic_roc = 0\n",
    "best_logistic_iter = 0\n",
    "best_solver = None\n",
    "solver1 = ['lbfgs', 'liblinear', 'newton-cg'] \n",
    "solver2 = ['sag', 'saga']\n",
    "\n",
    "# Создаем цикл поиска лучшей модели на валидационной выборке\n",
    "for solv in solver1:                         # Цикл по перебору решателей\n",
    "    for iter in range(500, 2001, 100):       # Цикл по перебору числа иттераций\n",
    "        # Создаем модель логистической регрессии\n",
    "        model_logistic = LogisticRegression(solver=solv, max_iter=iter, \n",
    "                                            random_state=42, n_jobs=-1)\n",
    "        model_logistic.fit(train_features, train_target)               # Обучаем модель\n",
    "        prediction_logistic = model_logistic.predict(valid_features)   # Предсказываем данные моделью\n",
    "        result = f1_score(valid_target, prediction_logistic)     # Считаем точность предсказаний модели\n",
    "        probabilities_logistic = model_logistic.predict_proba(valid_features)[:,1] # Вероятность для ROC-AUC\n",
    "        roc_logistic = roc_auc_score(valid_target, probabilities_logistic) # Считаем метрику ROC-AUC модели\n",
    "        # Сравниваем результат модели с лучшим результатом и при превышении результатов сохраняем модель с гиперпараметрами\n",
    "        if result > best_logistic_result:\n",
    "            best_logistic_model = model_logistic\n",
    "            best_logistic_result = result\n",
    "            best_logistic_roc = roc_logistic\n",
    "            best_logistic_iter = iter\n",
    "            best_solver = solv\n",
    "\n",
    "# Создаем второй цикл с решателями, требующими большого количества иттераций\n",
    "for solv in solver2:                         # Цикл по перебору решателей\n",
    "    for iter in range(15000, 100001, 5000):   # Цикл по перебору числа иттераций\n",
    "        model_logistic = LogisticRegression(solver=solv, max_iter=iter, \n",
    "                                            random_state=42)\n",
    "        model_logistic.fit(train_features, train_target)               # Обучаем модель\n",
    "        prediction_logistic = model_logistic.predict(valid_features)   # Предсказываем данные моделью\n",
    "        result = f1_score(valid_target, prediction_logistic)           # Считаем метрику f1 модели\n",
    "        probabilities_logistic = model_logistic.predict_proba(valid_features)[:,1] # Вероятность для ROC-AUC\n",
    "        roc_logistic = roc_auc_score(valid_target, probabilities_logistic) # Считаем метрику ROC-AUC модели        \n",
    "        # Сравниваем результат модели с лучшим результатом и при превышении результатов сохраняем модель с гиперпараметрами\n",
    "        if result > best_logistic_result:\n",
    "            best_logistic_model = model_logistic\n",
    "            best_logistic_result = result\n",
    "            best_logistic_roc = roc_logistic\n",
    "            best_logistic_iter = iter\n",
    "            best_solver = solv\n",
    "            \n",
    "print(f'Наилучшая f1-мера логистической регрессии на валидационной выборке: {best_logistic_result},')\n",
    "print(f'ROC-AUC модели: {best_logistic_roc}')\n",
    "print(f'Модель имеет следующие гиперпараметры:')\n",
    "print(f'Количество иттераций: {best_logistic_iter},')\n",
    "print(f'Лучший метод: {best_solver}')"
   ]
  },
  {
   "cell_type": "markdown",
   "metadata": {},
   "source": [
    "Наилучший результат модели логистической регрессии имеет следующие значения метрик на валидационной выборке:\n",
    "- F1-мера: **0.34**, что сильно хуже допустимого значения для сдачи проекта;\n",
    "- ROC-AUC: **0.76**.\n",
    "\n",
    "Смена гиперпараметров практически не дают изменении результатов, F1 метрика всегда одинаковая, а ROC-AUC меняется в 7 знаке после запятой. Для данной модели используются следующие гиперпараметры:\n",
    "- solver = lbfgs; \n",
    "- max_iter = 100.\n",
    "\n",
    "\n",
    "#### Модель дерева решений\n",
    "\n",
    "Найдем лучшую точность для первой модели - \"решающее дерево\". Дерево решений — это непараметрический контролируемый метод обучения, используемый для классификации и регрессии . Цель состоит в том, чтобы создать модель, которая предсказывает значение целевой переменной, изучая простые правила принятия решений, выведенные из характеристик данных. Дерево можно рассматривать как кусочно-постоянное приближение. \n",
    "\n",
    "**Преимущества такой модели**: простота и возможность визуализировать; не требует сложной подготовки данных; сложность обучения дерева является логарифмической по количеству точек данных; использует модель белого ящика; возможна проверка модели с помощью статистических тестов. \n",
    "\n",
    "**Из недостатков**: склонность к переобучению; дерево решений может быть нестабильным, небольшие изменения в данных могут привести к созданию совершенно другого дерева; сравнительно низкая точность предсказания.\n",
    "\n",
    "В качестве меняющихся гиперпараметров выберем:\n",
    "- criterion - функция для измерения качества разделения. Для дерева решений это либо gini, либо entropy;\n",
    "- max_depth - максимальная глубина дерева;\n",
    "- min_samples_leaf - минимальное количество листьев на ветке."
   ]
  },
  {
   "cell_type": "code",
   "execution_count": 27,
   "metadata": {},
   "outputs": [
    {
     "name": "stdout",
     "output_type": "stream",
     "text": [
      "Наилучшая метрика F1 дерева решений на валидационной выборке: 0.5906902086677367,\n",
      "метрика ROC-AUC: 0.8088343694410285.\n",
      "Модель имеет следующие гиперпараметры:\n",
      "Глубина дерева: 8,\n",
      "Критерий: entropy,\n",
      "Минимальное количество объектов в листе: 5\n",
      "Wall time: 2 s\n"
     ]
    }
   ],
   "source": [
    "%%time\n",
    "# Задаем начальные параметры для выявления гиперпараметров лучшей модели\n",
    "best_tree_model = None\n",
    "best_tree_result = 0\n",
    "best_tree_roc = 0\n",
    "best_tree_depth = 0\n",
    "best_criteries = None\n",
    "criteries = ['gini', 'entropy']\n",
    "\n",
    "# Создаем цикл поиска лучшей модели на валидационной выборке\n",
    "for criterion in criteries:           # Цикл по перебору критериев\n",
    "    for depth in range(5,12):         # Цикл по перебору максимальной глубины дерева\n",
    "        for leaf in range(4, 10):     # Цикл по перебору минимального количества листьев\n",
    "            # Создаем модель дерево решений\n",
    "            model_tree = DecisionTreeClassifier(criterion=criterion, max_depth=depth, \n",
    "                                                random_state=42, min_samples_leaf=leaf)\n",
    "            model_tree.fit(train_features, train_target)            # Обучаем модель\n",
    "            prediction_tree = model_tree.predict(valid_features)    # Предсказываем данные моделью\n",
    "            result = f1_score(valid_target, prediction_tree)        # Считаем метрику f1 модели\n",
    "            probabilities_tree = model_tree.predict_proba(valid_features)[:,1] # Вероятность для ROC-AUC\n",
    "            roc_tree = roc_auc_score(valid_target, probabilities_tree) # Считаем метрику ROC-AUC модели\n",
    "# Сравниваем результат модели с лучшим результатом и при превышении результатов сохраняем модель с гиперпараметрами\n",
    "            if result > best_tree_result:\n",
    "                best_tree_model = model_tree\n",
    "                best_tree_result = result\n",
    "                best_tree_roc = roc_tree\n",
    "                best_tree_depth = depth\n",
    "                best_tree_criteries = criterion\n",
    "                best_tree_leaf = leaf\n",
    "                \n",
    "print(f'Наилучшая метрика F1 дерева решений на валидационной выборке: {best_tree_result},')\n",
    "print(f'метрика ROC-AUC: {best_tree_roc}.')   \n",
    "print(f'Модель имеет следующие гиперпараметры:')\n",
    "print(f'Глубина дерева: {best_tree_depth},')\n",
    "print(f'Критерий: {best_tree_criteries},')\n",
    "print(f'Минимальное количество объектов в листе: {best_tree_leaf}')"
   ]
  },
  {
   "cell_type": "markdown",
   "metadata": {},
   "source": [
    "Наилучший результат модели дерева решений имеет следующие значения метрик на валидационной выборке:\n",
    "- F1-мера: **0.59**, что допустимо для сдачи проекта;\n",
    "- ROC-AUC: **0.81**.\n",
    "\n",
    "Время обучения и подбора лучших гиперпараметров составило 3 секунды. Для данной модели используются следующие гиперпараметры:\n",
    "- criterion = entropy;\n",
    "- max_depth = 8;\n",
    "- min_samples_leaf = 5.\n",
    "\n",
    "#### Модель случайный лес\n",
    "\n",
    "Следующая модель машинного обучений - \"случайный лес\". Случайный лес — это алгоритм обучения с учителем. Его можно применять как для классификации, так и для регрессии. Также это наиболее гибкий и простой в использовании алгоритм. Лес состоит из деревьев. Случайный лес создает деревья решений для случайно выбранных семплов данных, получает прогноз от каждого дерева и выбирает наилучшее решение посредством голосования. \n",
    "\n",
    "**Преимущества случайного леса:**\n",
    "- случайный лес считается высокоточным и надежным методом, поскольку в процессе прогнозирования участвует множество деревьев решений;\n",
    "- не страдает проблемой переобучения. Основная причина в том, что случайный лес использует среднее значение всех прогнозов;\n",
    "- может использоваться в задачах классификации и регрессии;\n",
    "- может работать с отсутствующими значениями;\n",
    "- рассчитывает относительную важность показателей, которая помогает в выборе наиболее значимых признаков для классификатора.\n",
    "\n",
    "**Из недостатков выделяются следующие:**\n",
    "- случайный лес довольно медленный, так как для работы алгоритм использует множество деревьев: каждому дереву в лесу передаются одни и те же входные данные, на основании которых оно должно вернуть свое предсказание. После чего также происходит голосование на полученных прогнозах. Весь этот процесс занимает много времени;\n",
    "- модель случайного леса сложнее интерпретировать по сравнению с деревом решений.\n",
    "\n",
    "В качестве меняющихся гиперпараметров для случайного леса выберем:\n",
    "- criterion - функция для измерения качества разделения. Для дерева решений это либо gini, либо entropy;\n",
    "- max_depth - максимальная глубина дерева;\n",
    "- n_estimators - количество деревьев;\n",
    "- min_samples_leaf - минимальное количество листьев на ветке."
   ]
  },
  {
   "cell_type": "code",
   "execution_count": 28,
   "metadata": {},
   "outputs": [
    {
     "name": "stdout",
     "output_type": "stream",
     "text": [
      "Наилучшая метрика F1 случайного лес на валидационной выборке: 0.5768566493955095,\n",
      "Метрика ROC-AUC: 0.8578708456970505.\n",
      "Модель имеет следующие гиперпараметры:\n",
      "Количество деревьев: 200,\n",
      "Глубина дерева: 12,\n",
      "Критерий: gini,\n",
      "Минимальное количество объектов в листе: 6\n",
      "Wall time: 3.91 s\n"
     ]
    }
   ],
   "source": [
    "%%time\n",
    "# Задаем начальные параметры для выявления гиперпараметров лучшей модели\n",
    "best_forest_model = None\n",
    "best_forest_result = 0\n",
    "best_forest_roc = 0\n",
    "best_forest_depth = 0\n",
    "best_forest = None\n",
    "criteries = ['gini', 'entropy']\n",
    "\n",
    "# Создаем цикл поиска лучшей модели на валидационной выборке\n",
    "for criterion in criteries:                         # Цикл по перебору критериев\n",
    "    for depth in range(11, 13):                      # Цикл по перебору максимальной глубины дерева\n",
    "        for number_of_trees in range(200, 250, 50):  # Цикл по перебору количества деревьев в ансамбле\n",
    "            for leaf in range(6, 8):               # Цикл по перебору минимального количества листьев\n",
    "                # Создаем модель случайного леса\n",
    "                model_forest = RandomForestClassifier(n_estimators=number_of_trees, max_depth=depth, n_jobs=-1, \n",
    "                                                      criterion=criterion, min_samples_leaf=leaf, random_state=42)\n",
    "                model_forest.fit(train_features, train_target)            # Обучаем модель\n",
    "                prediction_forest = model_forest.predict(valid_features)  # Предсказываем данные моделью\n",
    "                result = f1_score(valid_target, prediction_forest)        # Считаем метрику f1 модели\n",
    "                probabilities_forest = model_forest.predict_proba(valid_features)[:,1] # Вероятность для ROC-AUC\n",
    "                roc_forest = roc_auc_score(valid_target, probabilities_forest) # Считаем метрику ROC-AUC модели\n",
    "# Сравниваем результат модели с лучшим результатом и при превышении результатов сохраняем модель с гиперпараметрами\n",
    "                if result > best_forest_result:\n",
    "                    best_forest_model = model_forest\n",
    "                    best_forest_result = result\n",
    "                    best_forest_roc = roc_forest\n",
    "                    best_forest_depth = depth\n",
    "                    best_number_of_tree = number_of_trees\n",
    "                    best_forest_criteries = criterion\n",
    "                    best_forest_leaf = leaf\n",
    "\n",
    "print(f'Наилучшая метрика F1 случайного лес на валидационной выборке: {best_forest_result},')\n",
    "print(f'Метрика ROC-AUC: {best_forest_roc}.')\n",
    "print(f'Модель имеет следующие гиперпараметры:')\n",
    "print(f'Количество деревьев: {best_number_of_tree},')\n",
    "print(f'Глубина дерева: {best_forest_depth},')\n",
    "print(f'Критерий: {best_forest_criteries},')\n",
    "print(f'Минимальное количество объектов в листе: {best_forest_leaf}')"
   ]
  },
  {
   "cell_type": "markdown",
   "metadata": {},
   "source": [
    "Наилучший результат модели случайного леса имеет следующие значения метрик на валидационной выборке:\n",
    "- F1-мера: **0.57**, что является недопустимым для успешной сдачи проекта и ниже чем у дерева решений;\n",
    "- ROC-AUC: **0.86**.\n",
    "\n",
    "Время обучения и подбора оптимальных гиперпараметров составило 15 минут. Для данной модели используются следующие гиперпараметры:\n",
    "- criterion = gini;\n",
    "- max_depth = 12;\n",
    "- n_estimators = 200\n",
    "- min_samples_leaf = 1."
   ]
  },
  {
   "cell_type": "markdown",
   "metadata": {},
   "source": [
    "#### Итоги обучения моделей без учета дизбаланса"
   ]
  },
  {
   "cell_type": "markdown",
   "metadata": {},
   "source": [
    "Для удобства оценки результатов метрик моделей создадим функцию построения таблицы, в которую на вход даем результаты моделей."
   ]
  },
  {
   "cell_type": "code",
   "execution_count": 28,
   "metadata": {},
   "outputs": [],
   "source": [
    "# Создадим функцию для построения таблицы с результатами вычисления метрик для каждой из моделей\n",
    "def table_result(logistic_f1=best_logistic_result, logistic_roc=best_logistic_roc, \n",
    "                tree_f1=best_tree_result, tree_roc=best_tree_roc, \n",
    "                forest_f1=best_forest_result, forest_roc=best_forest_roc):\n",
    "    table = pd.DataFrame(index=['F1', 'ROC-AUC'],\n",
    "                        columns=['Логистическая регрессия', 'Дерево решений', 'Случайный лес'])\n",
    "    if logistic_f1 == 0:\n",
    "        table.loc['F1'] = ['-', '-', forest_f1.round(3)]\n",
    "        table.loc['ROC-AUC'] = ['-', '-', forest_roc.round(3)]\n",
    "    else:\n",
    "        table.loc['F1'] = [logistic_f1.round(3), tree_f1.round(3), forest_f1.round(3)]\n",
    "        table.loc['ROC-AUC'] = [logistic_roc.round(3), tree_roc.round(3), forest_roc.round(3)]\n",
    "    return table"
   ]
  },
  {
   "cell_type": "code",
   "execution_count": 29,
   "metadata": {},
   "outputs": [
    {
     "data": {
      "text/html": [
       "<div>\n",
       "<style scoped>\n",
       "    .dataframe tbody tr th:only-of-type {\n",
       "        vertical-align: middle;\n",
       "    }\n",
       "\n",
       "    .dataframe tbody tr th {\n",
       "        vertical-align: top;\n",
       "    }\n",
       "\n",
       "    .dataframe thead th {\n",
       "        text-align: right;\n",
       "    }\n",
       "</style>\n",
       "<table border=\"1\" class=\"dataframe\">\n",
       "  <thead>\n",
       "    <tr style=\"text-align: right;\">\n",
       "      <th></th>\n",
       "      <th>Логистическая регрессия</th>\n",
       "      <th>Дерево решений</th>\n",
       "      <th>Случайный лес</th>\n",
       "    </tr>\n",
       "  </thead>\n",
       "  <tbody>\n",
       "    <tr>\n",
       "      <th>F1</th>\n",
       "      <td>0.336</td>\n",
       "      <td>0.591</td>\n",
       "      <td>0.577</td>\n",
       "    </tr>\n",
       "    <tr>\n",
       "      <th>ROC-AUC</th>\n",
       "      <td>0.76</td>\n",
       "      <td>0.809</td>\n",
       "      <td>0.858</td>\n",
       "    </tr>\n",
       "  </tbody>\n",
       "</table>\n",
       "</div>"
      ],
      "text/plain": [
       "        Логистическая регрессия Дерево решений Случайный лес\n",
       "F1                        0.336          0.591         0.577\n",
       "ROC-AUC                    0.76          0.809         0.858"
      ]
     },
     "execution_count": 29,
     "metadata": {},
     "output_type": "execute_result"
    }
   ],
   "source": [
    "disbalance_table = table_result()\n",
    "disbalance_table"
   ]
  },
  {
   "cell_type": "markdown",
   "metadata": {},
   "source": [
    "Без учета устранения дизбаланса классов лучший результат по F1-мере показала модель дерева решений со значением **0.591**, что является нижний границей для сдачи проекта. Немного недотянула модель случайного леса с результатом **0.577** и самый слабый результат показала модель логистической регрессии - **0.336**. \n",
    "\n",
    "По ROC-AUC метрике лучший результат у случайного леса - **0.858**, далее дерево решений - **0.809** и логистическая регрессия - **0.760**."
   ]
  },
  {
   "cell_type": "markdown",
   "metadata": {},
   "source": [
    "## Борьба с дисбалансом"
   ]
  },
  {
   "cell_type": "markdown",
   "metadata": {},
   "source": [
    "В теоретической части Практикума было дано 3 варианта борьбы с дисбалансом:\n",
    "- присвоение аргументу class_weight значение 'balanced', тоесть присвоение веса классам. ~~В дереве решений такого гиперпараметра нет~~;\n",
    "- upsampling - повторение несколько раз редкого класса. В нашем случае повторение класса \"ушедших\" клиентов. Алгоритм преобразования upsampling выглядит следующим образом: деление выборки на отрицательные и положительные объекты, скопирование несколько раз положительных объектов, с учетом полученных данных создание новой выборки, перемешивание данных;\n",
    "- downsampling - уменьшение в выборке частого класса. Алгоритм преобразования downsampling похож на upsampling и выглядит следующим образом: деление выборки на отрицательные и положительные объекты, случайным образом отбросить часть отрицательных значений, с учетом полученных данных создание новой выборки, перемешивание данных.\n",
    "\n",
    "### Присваивание веса классам\n",
    "\n",
    "Поочередно проверим каждый из вариантов. Первым проверим добавление веса класса."
   ]
  },
  {
   "cell_type": "code",
   "execution_count": 31,
   "metadata": {},
   "outputs": [
    {
     "name": "stderr",
     "output_type": "stream",
     "text": [
      "D:\\anaconda\\lib\\site-packages\\sklearn\\linear_model\\_logistic.py:1523: UserWarning: 'n_jobs' > 1 does not have any effect when 'solver' is set to 'liblinear'. Got 'n_jobs' = 8.\n",
      "  warnings.warn(\n",
      "D:\\anaconda\\lib\\site-packages\\sklearn\\linear_model\\_logistic.py:1523: UserWarning: 'n_jobs' > 1 does not have any effect when 'solver' is set to 'liblinear'. Got 'n_jobs' = 8.\n",
      "  warnings.warn(\n",
      "D:\\anaconda\\lib\\site-packages\\sklearn\\linear_model\\_logistic.py:1523: UserWarning: 'n_jobs' > 1 does not have any effect when 'solver' is set to 'liblinear'. Got 'n_jobs' = 8.\n",
      "  warnings.warn(\n",
      "D:\\anaconda\\lib\\site-packages\\sklearn\\linear_model\\_logistic.py:1523: UserWarning: 'n_jobs' > 1 does not have any effect when 'solver' is set to 'liblinear'. Got 'n_jobs' = 8.\n",
      "  warnings.warn(\n",
      "D:\\anaconda\\lib\\site-packages\\sklearn\\linear_model\\_logistic.py:1523: UserWarning: 'n_jobs' > 1 does not have any effect when 'solver' is set to 'liblinear'. Got 'n_jobs' = 8.\n",
      "  warnings.warn(\n",
      "D:\\anaconda\\lib\\site-packages\\sklearn\\linear_model\\_logistic.py:1523: UserWarning: 'n_jobs' > 1 does not have any effect when 'solver' is set to 'liblinear'. Got 'n_jobs' = 8.\n",
      "  warnings.warn(\n",
      "D:\\anaconda\\lib\\site-packages\\sklearn\\linear_model\\_logistic.py:1523: UserWarning: 'n_jobs' > 1 does not have any effect when 'solver' is set to 'liblinear'. Got 'n_jobs' = 8.\n",
      "  warnings.warn(\n",
      "D:\\anaconda\\lib\\site-packages\\sklearn\\linear_model\\_logistic.py:1523: UserWarning: 'n_jobs' > 1 does not have any effect when 'solver' is set to 'liblinear'. Got 'n_jobs' = 8.\n",
      "  warnings.warn(\n",
      "D:\\anaconda\\lib\\site-packages\\sklearn\\linear_model\\_logistic.py:1523: UserWarning: 'n_jobs' > 1 does not have any effect when 'solver' is set to 'liblinear'. Got 'n_jobs' = 8.\n",
      "  warnings.warn(\n",
      "D:\\anaconda\\lib\\site-packages\\sklearn\\linear_model\\_logistic.py:1523: UserWarning: 'n_jobs' > 1 does not have any effect when 'solver' is set to 'liblinear'. Got 'n_jobs' = 8.\n",
      "  warnings.warn(\n"
     ]
    },
    {
     "name": "stdout",
     "output_type": "stream",
     "text": [
      "Наилучшая f1-мера логистической регрессии на сбалансированной валидационной выборке: 0.4931506849315069,\n",
      "ROC-AUC модели: 0.7633311896622401.\n",
      "Модель имеет следующие гиперпараметры:\n",
      "Количество иттераций: 100,\n",
      "Лучший метод: lbfgs\n",
      "Wall time: 12.4 s\n"
     ]
    }
   ],
   "source": [
    "%%time\n",
    "\n",
    "# Задаем начальные параметры для выявления гиперпараметров лучшей модели\n",
    "best_logistic_model_w = None\n",
    "best_logistic_result_w = 0\n",
    "best_logistic_roc_w = 0\n",
    "best_logistic_iter_w = 0\n",
    "best_solver = None\n",
    "solver1 = ['lbfgs', 'liblinear', 'newton-cg'] \n",
    "solver2 = ['sag', 'saga']\n",
    "\n",
    "# Создаем цикл поиска лучшей модели на валидационной выборке\n",
    "for solv in solver1:                         # Цикл по перебору решателей\n",
    "    for iter in range(100, 1001, 100):       # Цикл по перебору числа иттераций\n",
    "        # Создаем модель логистической регрессии\n",
    "        model_logistic_w = LogisticRegression(solver=solv, max_iter=iter, \n",
    "                                             class_weight='balanced', \n",
    "                                             random_state=42, n_jobs=-1)\n",
    "        model_logistic_w.fit(train_features, train_target)               # Обучаем модель\n",
    "        prediction_logistic_w = model_logistic_w.predict(valid_features)   # Предсказываем данные моделью\n",
    "        result_w = f1_score(valid_target, prediction_logistic_w)     # Считаем точность предсказаний модели\n",
    "        probabilities_logistic_w = model_logistic_w.predict_proba(valid_features)[:,1] # Вероятность для ROC-AUC\n",
    "        roc_logistic_w = roc_auc_score(valid_target, probabilities_logistic_w) # Считаем метрику ROC-AUC модели\n",
    "        # Сравниваем результат модели с лучшим результатом и при превышении результатов сохраняем модель с гиперпараметрами\n",
    "        if result_w > best_logistic_result_w:\n",
    "            best_logistic_model_w = model_logistic_w\n",
    "            best_logistic_result_w = result_w\n",
    "            best_logistic_roc_w = roc_logistic_w\n",
    "            best_logistic_iter = iter\n",
    "            best_solver = solv\n",
    "\n",
    "# Создаем второй цикл с решателями, требующими большого количества иттераций\n",
    "for solv in solver2:                         # Цикл по перебору решателей\n",
    "    for iter in range(5000, 100001, 5000):   # Цикл по перебору числа иттераций\n",
    "        model_logistic_w = LogisticRegression(solver=solv, max_iter=iter, \n",
    "                                              class_weight='balanced', random_state=42)\n",
    "        model_logistic_w.fit(train_features, train_target)                 # Обучаем модель\n",
    "        prediction_logistic_w = model_logistic_w.predict(valid_features)   # Предсказываем данные моделью\n",
    "        result_w = f1_score(valid_target, prediction_logistic_w)           # Считаем метрику f1 модели\n",
    "        probabilities_logistic_w = model_logistic_w.predict_proba(valid_features)[:,1] # Вероятность для ROC-AUC\n",
    "        roc_logistic_w = roc_auc_score(valid_target, probabilities_logistic_w) # Считаем метрику ROC-AUC модели\n",
    "        # Сравниваем результат модели с лучшим результатом и при превышении результатов сохраняем модель с гиперпараметрами\n",
    "        if result_w > best_logistic_result_w:\n",
    "            best_logistic_model_w = model_logistic_w\n",
    "            best_logistic_result_w = result_w\n",
    "            best_logistic_roc_w = roc_logistic_w\n",
    "            best_logistic_iter = iter\n",
    "            best_solver = solv\n",
    "            \n",
    "print(f'Наилучшая f1-мера логистической регрессии на сбалансированной валидационной выборке: {best_logistic_result_w},')\n",
    "print(f'ROC-AUC модели: {best_logistic_roc_w}.')\n",
    "print(f'Модель имеет следующие гиперпараметры:')\n",
    "print(f'Количество иттераций: {best_logistic_iter},')\n",
    "print(f'Лучший метод: {best_solver}')"
   ]
  },
  {
   "cell_type": "markdown",
   "metadata": {},
   "source": [
    "Наилучший результат модели логистической регрессии имеет следующие значения метрик на валидационной выборке:\n",
    "- F1-мера: **0.49**, что на треть лучше несбалансированной модели, но все равно является недопустимым для успешной сдачи проекта;\n",
    "- ROC-AUC: **0.76**, данный результат не изменился от добавления веса классов.\n",
    "\n",
    "Время обучения и подбора оптимальных гиперпараметров составило 10 секунд. Для данной модели используются следующие гиперпараметры:\n",
    "- solver = lbfgs; \n",
    "- max_iter = 100."
   ]
  },
  {
   "cell_type": "code",
   "execution_count": 32,
   "metadata": {},
   "outputs": [
    {
     "name": "stdout",
     "output_type": "stream",
     "text": [
      "Наилучшая метрика F1 дерева решений на валидационной выборке: 0.569937369519833,\n",
      "метрика ROC-AUC: 0.8334198323423555.\n",
      "Модель имеет следующие гиперпараметры:\n",
      "Глубина дерева: 6,\n",
      "Критерий: entropy,\n",
      "Минимальное количество объектов в листе: 1\n",
      "Wall time: 5.2 s\n"
     ]
    }
   ],
   "source": [
    "%%time\n",
    "# Задаем начальные параметры для выявления гиперпараметров лучшей модели\n",
    "best_tree_model_w = None\n",
    "best_tree_result_w = 0\n",
    "best_tree_roc_w = 0\n",
    "best_tree_depth = 0\n",
    "best_criteries = None\n",
    "criteries = ['gini', 'entropy']\n",
    "\n",
    "# Создаем цикл поиска лучшей модели на валидационной выборке\n",
    "for criterion in criteries:           # Цикл по перебору критериев\n",
    "    for depth in range(1,13):         # Цикл по перебору максимальной глубины дерева\n",
    "        for leaf in range(1, 10):     # Цикл по перебору минимального количества листьев\n",
    "            # Создаем модель дерево решений\n",
    "            model_tree_w = DecisionTreeClassifier(criterion=criterion, max_depth=depth, \n",
    "                                                  random_state=42, min_samples_leaf=leaf,\n",
    "                                                  class_weight='balanced')\n",
    "            model_tree_w.fit(train_features, train_target)              # Обучаем модель\n",
    "            prediction_tree_w = model_tree_w.predict(valid_features)    # Предсказываем данные моделью\n",
    "            result_w = f1_score(valid_target, prediction_tree_w)        # Считаем метрику f1 модели\n",
    "            probabilities_tree_w = model_tree_w.predict_proba(valid_features)[:,1] # Вероятность для ROC-AUC\n",
    "            roc_tree_w = roc_auc_score(valid_target, probabilities_tree_w) # Считаем метрику ROC-AUC модели\n",
    "# Сравниваем результат модели с лучшим результатом и при превышении результатов сохраняем модель с гиперпараметрами\n",
    "            if result_w > best_tree_result_w:\n",
    "                best_tree_model_w = model_tree_w\n",
    "                best_tree_result_w = result_w\n",
    "                best_tree_roc_w = roc_tree_w\n",
    "                best_tree_depth = depth\n",
    "                best_tree_criteries = criterion\n",
    "                best_tree_leaf = leaf\n",
    "                \n",
    "print(f'Наилучшая метрика F1 дерева решений на валидационной выборке: {best_tree_result_w},')\n",
    "print(f'метрика ROC-AUC: {best_tree_roc_w}.')   \n",
    "print(f'Модель имеет следующие гиперпараметры:')\n",
    "print(f'Глубина дерева: {best_tree_depth},')\n",
    "print(f'Критерий: {best_tree_criteries},')\n",
    "print(f'Минимальное количество объектов в листе: {best_tree_leaf}')"
   ]
  },
  {
   "cell_type": "markdown",
   "metadata": {},
   "source": [
    "Наилучший результат модели дерева решений имеет следующие значения метрик на валидационной выборке:\n",
    "- F1-мера: **0.57**, чуть ниже модели без добавления веса классов, и не выполняет условия для сдачи проекта;\n",
    "- ROC-AUC: **0.83**, изменение данной метрики сведетельствует о том, что модель стала выдавать больше истинных ответов.\n",
    "\n",
    "Время обучения и подбора оптимальных гиперпараметров составило 3 секунды. Для данной модели используются следующие гиперпараметры:\n",
    "- criterion = entropy;\n",
    "- max_depth = 6;\n",
    "- min_samples_leaf = 1."
   ]
  },
  {
   "cell_type": "code",
   "execution_count": 33,
   "metadata": {},
   "outputs": [
    {
     "name": "stdout",
     "output_type": "stream",
     "text": [
      "Наилучшая f1-мера случайного лес на валидационной выборке: 0.6325000000000001,\n",
      "ROC_AUC: 0.8583296665275161\n",
      "Модель имеет следующие гиперпараметры:\n",
      "Количество деревьев: 200,\n",
      "Глубина дерева: 9,\n",
      "Критерий: gini,\n",
      "Минимальное количество объектов в листе: 2.\n",
      "Wall time: 26min 12s\n"
     ]
    }
   ],
   "source": [
    "%%time\n",
    "# Задаем начальные параметры для выявления гиперпараметров лучшей модели\n",
    "best_forest_model_w = None\n",
    "best_forest_result_w = 0\n",
    "best_forest_roc_w = 0\n",
    "best_forest_depth = 0\n",
    "best_forest_w = None\n",
    "criteries = ['gini', 'entropy']\n",
    "\n",
    "# Создаем цикл поиска лучшей модели на валидационной выборке\n",
    "for criterion in criteries:                         # Цикл по перебору критериев\n",
    "    for depth in range(8, 11):                      # Цикл по перебору максимальной глубины дерева\n",
    "        for number_of_trees in range(50, 250, 50):  # Цикл по перебору количества деревьев в ансамбле\n",
    "            for leaf in range(1, 4):               # Цикл по перебору минимального количества листьев\n",
    "                # Создаем модель случайного леса\n",
    "                model_forest_w = RandomForestClassifier(n_estimators=number_of_trees, max_depth=depth, n_jobs=-1, \n",
    "                                                        criterion=criterion, min_samples_leaf=leaf, random_state=42,\n",
    "                                                        class_weight='balanced')\n",
    "                model_forest_w.fit(train_features, train_target)                   # Обучаем модель\n",
    "                prediction_forest_w = model_forest_w.predict(valid_features)       # Предсказываем данные моделью\n",
    "                result_w = f1_score(valid_target, prediction_forest_w)             # Считаем метрику f1 модели\n",
    "                probabilities_forest_w = model_forest_w.predict_proba(valid_features)[:,1] # Вероятность для ROC-AUC\n",
    "                roc_forest_w = roc_auc_score(valid_target, probabilities_forest_w) # Считаем метрику ROC-AUC модели\n",
    "# Сравниваем результат модели с лучшим результатом и при превышении результатов сохраняем модель с гиперпараметрами\n",
    "                if result_w > best_forest_result_w:\n",
    "                    best_forest_model_w = model_forest_w\n",
    "                    best_forest_result_w = result_w\n",
    "                    best_forest_roc_w = roc_forest_w\n",
    "                    best_forest_depth = depth\n",
    "                    best_number_of_forest = number_of_trees\n",
    "                    best_forest_criteries = criterion\n",
    "                    best_forest_leaf = leaf                    \n",
    "\n",
    "print(f'Наилучшая f1-мера случайного лес на валидационной выборке: {best_forest_result_w},')\n",
    "print(f'ROC_AUC: {best_forest_roc_w}')\n",
    "print(f'Модель имеет следующие гиперпараметры:')\n",
    "print(f'Количество деревьев: {best_number_of_forest},')\n",
    "print(f'Глубина дерева: {best_forest_depth},')\n",
    "print(f'Критерий: {best_forest_criteries},')\n",
    "print(f'Минимальное количество объектов в листе: {best_forest_leaf}.')"
   ]
  },
  {
   "cell_type": "markdown",
   "metadata": {},
   "source": [
    "Наилучший результат модели случайного леса имеет следующие значения метрик на валидационной выборке:\n",
    "- F1-мера: **0.63**, что является наилучшим результатом и выполняет условия для успешной сдачи проекта;\n",
    "- ROC-AUC: **0.86**, что выше чем для модели без веса классов.\n",
    "\n",
    "Время обучения и подбора оптимальных гиперпараметров составило 15 минут. Для данной модели используются следующие гиперпараметры:\n",
    "- criterion = gini;\n",
    "- max_depth = 9;\n",
    "- n_estimators = 200\n",
    "- min_samples_leaf = 2."
   ]
  },
  {
   "cell_type": "code",
   "execution_count": 34,
   "metadata": {},
   "outputs": [
    {
     "data": {
      "text/html": [
       "<div>\n",
       "<style scoped>\n",
       "    .dataframe tbody tr th:only-of-type {\n",
       "        vertical-align: middle;\n",
       "    }\n",
       "\n",
       "    .dataframe tbody tr th {\n",
       "        vertical-align: top;\n",
       "    }\n",
       "\n",
       "    .dataframe thead th {\n",
       "        text-align: right;\n",
       "    }\n",
       "</style>\n",
       "<table border=\"1\" class=\"dataframe\">\n",
       "  <thead>\n",
       "    <tr style=\"text-align: right;\">\n",
       "      <th></th>\n",
       "      <th>Логистическая регрессия</th>\n",
       "      <th>Дерево решений</th>\n",
       "      <th>Случайный лес</th>\n",
       "    </tr>\n",
       "  </thead>\n",
       "  <tbody>\n",
       "    <tr>\n",
       "      <th>F1</th>\n",
       "      <td>0.493</td>\n",
       "      <td>0.57</td>\n",
       "      <td>0.633</td>\n",
       "    </tr>\n",
       "    <tr>\n",
       "      <th>ROC-AUC</th>\n",
       "      <td>0.763</td>\n",
       "      <td>0.833</td>\n",
       "      <td>0.858</td>\n",
       "    </tr>\n",
       "  </tbody>\n",
       "</table>\n",
       "</div>"
      ],
      "text/plain": [
       "        Логистическая регрессия Дерево решений Случайный лес\n",
       "F1                        0.493           0.57         0.633\n",
       "ROC-AUC                   0.763          0.833         0.858"
      ]
     },
     "execution_count": 34,
     "metadata": {},
     "output_type": "execute_result"
    }
   ],
   "source": [
    "weight_table = table_result(best_logistic_result_w, best_logistic_roc_w, \n",
    "                            best_tree_result_w, best_tree_roc_w,\n",
    "                            best_forest_result_w, best_forest_roc_w)\n",
    "weight_table"
   ]
  },
  {
   "cell_type": "markdown",
   "metadata": {},
   "source": [
    "По результатам поиска гиперпараметров с заданием веса классам удалось улучшить F1-меру до **0,633**. При этом гиперпараметры немного отличаются от тех, что были найдены ранее. \n",
    "\n",
    "Метрика ROC-AUC для лучшей модели осталась неизменной и равна **0,858**."
   ]
  },
  {
   "cell_type": "markdown",
   "metadata": {},
   "source": [
    "### Upsampling\n",
    "\n",
    "Upsampling - увеличение в n раз наименьшего класса. Преобразование проходит в несколько этапов:\n",
    "- Разделить обучающую выборку на отрицательные и положительные объекты;\n",
    "- Скопировать несколько раз положительные объекты;\n",
    "- С учётом полученных данных создать новую обучающую выборку;\n",
    "- Перемешать данные.\n",
    "\n",
    "Напишем функцию выполняющую данное преобразование."
   ]
  },
  {
   "cell_type": "code",
   "execution_count": 35,
   "metadata": {},
   "outputs": [],
   "source": [
    "# Создаем функцию преобразования Upsampling\n",
    "def upsample(features, target, repeat):\n",
    "    features_zeros = features[target == 0]       # Выбираем признаки с целевым значением 0\n",
    "    features_ones = features[target == 1]        # Выбираем признаки с целевым значением 0\n",
    "    target_zeros = target[target == 0]           # Выбираем целевой признак равный 0\n",
    "    target_ones = target[target == 1]            # Выбираем целевой признак равный 0\n",
    "\n",
    "    # Соединяем оба класса с учетом копирования наименьшего repeat раз\n",
    "    features_upsampled = pd.concat([features_zeros] + [features_ones] * repeat)\n",
    "    target_upsampled = pd.concat([target_zeros] + [target_ones] * repeat)\n",
    "    # Перемешиваем данные\n",
    "    features_upsampled, target_upsampled = shuffle(\n",
    "        features_upsampled, target_upsampled, random_state=42)\n",
    "    # Возвращаем перемешанные данные на выход\n",
    "    return features_upsampled, target_upsampled"
   ]
  },
  {
   "cell_type": "code",
   "execution_count": 36,
   "metadata": {},
   "outputs": [],
   "source": [
    "# Получаем преобразованные признаки\n",
    "features_upsampled, target_upsampled = upsample(train_features, train_target, 4)"
   ]
  },
  {
   "cell_type": "markdown",
   "metadata": {},
   "source": [
    "Так как у нас данные распределились в соотношении 4:1, значит параметр repeat для преобразования примем равное 4. И проверим на обученных моделях. "
   ]
  },
  {
   "cell_type": "code",
   "execution_count": 38,
   "metadata": {},
   "outputs": [
    {
     "name": "stderr",
     "output_type": "stream",
     "text": [
      "D:\\anaconda\\lib\\site-packages\\sklearn\\linear_model\\_logistic.py:1523: UserWarning: 'n_jobs' > 1 does not have any effect when 'solver' is set to 'liblinear'. Got 'n_jobs' = 8.\n",
      "  warnings.warn(\n",
      "D:\\anaconda\\lib\\site-packages\\sklearn\\linear_model\\_logistic.py:1523: UserWarning: 'n_jobs' > 1 does not have any effect when 'solver' is set to 'liblinear'. Got 'n_jobs' = 8.\n",
      "  warnings.warn(\n",
      "D:\\anaconda\\lib\\site-packages\\sklearn\\linear_model\\_logistic.py:1523: UserWarning: 'n_jobs' > 1 does not have any effect when 'solver' is set to 'liblinear'. Got 'n_jobs' = 8.\n",
      "  warnings.warn(\n",
      "D:\\anaconda\\lib\\site-packages\\sklearn\\linear_model\\_logistic.py:1523: UserWarning: 'n_jobs' > 1 does not have any effect when 'solver' is set to 'liblinear'. Got 'n_jobs' = 8.\n",
      "  warnings.warn(\n",
      "D:\\anaconda\\lib\\site-packages\\sklearn\\linear_model\\_logistic.py:1523: UserWarning: 'n_jobs' > 1 does not have any effect when 'solver' is set to 'liblinear'. Got 'n_jobs' = 8.\n",
      "  warnings.warn(\n",
      "D:\\anaconda\\lib\\site-packages\\sklearn\\linear_model\\_logistic.py:1523: UserWarning: 'n_jobs' > 1 does not have any effect when 'solver' is set to 'liblinear'. Got 'n_jobs' = 8.\n",
      "  warnings.warn(\n",
      "D:\\anaconda\\lib\\site-packages\\sklearn\\linear_model\\_logistic.py:1523: UserWarning: 'n_jobs' > 1 does not have any effect when 'solver' is set to 'liblinear'. Got 'n_jobs' = 8.\n",
      "  warnings.warn(\n",
      "D:\\anaconda\\lib\\site-packages\\sklearn\\linear_model\\_logistic.py:1523: UserWarning: 'n_jobs' > 1 does not have any effect when 'solver' is set to 'liblinear'. Got 'n_jobs' = 8.\n",
      "  warnings.warn(\n",
      "D:\\anaconda\\lib\\site-packages\\sklearn\\linear_model\\_logistic.py:1523: UserWarning: 'n_jobs' > 1 does not have any effect when 'solver' is set to 'liblinear'. Got 'n_jobs' = 8.\n",
      "  warnings.warn(\n",
      "D:\\anaconda\\lib\\site-packages\\sklearn\\linear_model\\_logistic.py:1523: UserWarning: 'n_jobs' > 1 does not have any effect when 'solver' is set to 'liblinear'. Got 'n_jobs' = 8.\n",
      "  warnings.warn(\n"
     ]
    },
    {
     "name": "stdout",
     "output_type": "stream",
     "text": [
      "Наилучшая f1-мера логистической регрессии на сбалансированной валидационной выборке: 0.49714285714285716,\n",
      "ROC-AUC модели: 0.7633161463563232.\n",
      "Модель имеет следующие гиперпараметры:\n",
      "Количество иттераций: 100,\n",
      "Лучший метод: lbfgs\n",
      "Wall time: 12.2 s\n"
     ]
    }
   ],
   "source": [
    "%%time\n",
    "\n",
    "# Задаем начальные параметры для выявления гиперпараметров лучшей модели\n",
    "best_logistic_model_u = None\n",
    "best_logistic_result_u = 0\n",
    "best_logistic_roc_u = 0\n",
    "best_logistic_iter_u = 0\n",
    "best_solver = None\n",
    "solver1 = ['lbfgs', 'liblinear', 'newton-cg'] \n",
    "solver2 = ['sag', 'saga']\n",
    "\n",
    "# Создаем цикл поиска лучшей модели на валидационной выборке\n",
    "for solv in solver1:                         # Цикл по перебору решателей\n",
    "    for iter in range(100, 1001, 100):       # Цикл по перебору числа иттераций\n",
    "        # Создаем модель логистической регрессии\n",
    "        model_logistic_u = LogisticRegression(solver=solv, max_iter=iter,                                             \n",
    "                                             random_state=42, n_jobs=-1)\n",
    "        model_logistic_u.fit(features_upsampled, target_upsampled)         # Обучаем модель\n",
    "        prediction_logistic_u = model_logistic_u.predict(valid_features)   # Предсказываем данные моделью\n",
    "        result_u = f1_score(valid_target, prediction_logistic_u)     # Считаем точность предсказаний модели\n",
    "        probabilities_logistic_u = model_logistic_u.predict_proba(valid_features)[:,1] # Вероятность для ROC-AUC\n",
    "        roc_logistic_u = roc_auc_score(valid_target, probabilities_logistic_u) # Считаем метрику ROC-AUC модели\n",
    "        # Сравниваем результат модели с лучшим результатом и при превышении результатов сохраняем модель с гиперпараметрами\n",
    "        if result_u > best_logistic_result_u:\n",
    "            best_logistic_model_u = model_logistic_u\n",
    "            best_logistic_result_u = result_u\n",
    "            best_logistic_roc_u = roc_logistic_u\n",
    "            best_logistic_iter = iter\n",
    "            best_solver = solv\n",
    "\n",
    "# Создаем второй цикл с решателями, требующими большого количества иттераций\n",
    "for solv in solver2:                         # Цикл по перебору решателей\n",
    "    for iter in range(5000, 100001, 5000):   # Цикл по перебору числа иттераций\n",
    "        model_logistic_u = LogisticRegression(solver=solv, max_iter=iter, \n",
    "                                              random_state=42, n_jobs=-1)\n",
    "        model_logistic_u.fit(features_upsampled, target_upsampled)         # Обучаем модель\n",
    "        prediction_logistic_u = model_logistic_u.predict(valid_features)   # Предсказываем данные моделью\n",
    "        result_u = f1_score(valid_target, prediction_logistic_u)           # Считаем метрику f1 модели\n",
    "        probabilities_logistic_u = model_logistic_u.predict_proba(valid_features)[:,1] # Вероятность для ROC-AUC\n",
    "        roc_logistic_u = roc_auc_score(valid_target, probabilities_logistic_u) # Считаем метрику ROC-AUC модели\n",
    "        # Сравниваем результат модели с лучшим результатом и при превышении результатов сохраняем модель с гиперпараметрами\n",
    "        if result_u > best_logistic_result_u:\n",
    "            best_logistic_model_u = model_logistic_u\n",
    "            best_logistic_result_u = result_u\n",
    "            best_logistic_roc_u = roc_logistic_u\n",
    "            best_logistic_iter = iter\n",
    "            best_solver = solv\n",
    "            \n",
    "print(f'Наилучшая f1-мера логистической регрессии на сбалансированной валидационной выборке: {best_logistic_result_u},')\n",
    "print(f'ROC-AUC модели: {best_logistic_roc_u}.')\n",
    "print(f'Модель имеет следующие гиперпараметры:')\n",
    "print(f'Количество иттераций: {best_logistic_iter},')\n",
    "print(f'Лучший метод: {best_solver}')"
   ]
  },
  {
   "cell_type": "markdown",
   "metadata": {},
   "source": [
    "Наилучший результат модели логистической регрессии с устранением дисабаланса методом upsampling имеет следующие значения метрик на валидационной выборке:\n",
    "- F1-мера: **0.50**, что на треть лучше несбалансированной модели, но все равно является недопустимым для успешной сдачи проекта;\n",
    "- ROC-AUC: **0.76**, данный результат не изменился от преобразования upsampling.\n",
    "\n",
    "Время обучения и подбора оптимальных гиперпараметров составило 11 секунд. Для данной модели используются следующие гиперпараметры:\n",
    "- solver = lbfgs; \n",
    "- max_iter = 100."
   ]
  },
  {
   "cell_type": "code",
   "execution_count": 39,
   "metadata": {},
   "outputs": [
    {
     "name": "stdout",
     "output_type": "stream",
     "text": [
      "Наилучшая метрика F1 дерева решений на валидационной выборке: 0.569937369519833,\n",
      "метрика ROC-AUC: 0.8334198323423555.\n",
      "Модель имеет следующие гиперпараметры:\n",
      "Глубина дерева: 6,\n",
      "Критерий: entropy,\n",
      "Минимальное количество объектов в листе: 1\n",
      "Wall time: 6.23 s\n"
     ]
    }
   ],
   "source": [
    "%%time\n",
    "# Задаем начальные параметры для выявления гиперпараметров лучшей модели\n",
    "best_tree_model_u = None\n",
    "best_tree_result_u = 0\n",
    "best_tree_roc_u = 0\n",
    "best_tree_depth = 0\n",
    "best_criteries = None\n",
    "criteries = ['gini', 'entropy']\n",
    "\n",
    "# Создаем цикл поиска лучшей модели на валидационной выборке\n",
    "for criterion in criteries:           # Цикл по перебору критериев\n",
    "    for depth in range(1,13):         # Цикл по перебору максимальной глубины дерева\n",
    "        for leaf in range(1, 10):     # Цикл по перебору минимального количества листьев\n",
    "            # Создаем модель дерево решений\n",
    "            model_tree_u = DecisionTreeClassifier(criterion=criterion, max_depth=depth, \n",
    "                                                  random_state=42, min_samples_leaf=leaf)\n",
    "            model_tree_u.fit(features_upsampled, target_upsampled)      # Обучаем модель\n",
    "            prediction_tree_u = model_tree_u.predict(valid_features)    # Предсказываем данные моделью\n",
    "            result_u = f1_score(valid_target, prediction_tree_u)        # Считаем метрику f1 модели\n",
    "            probabilities_tree_u = model_tree_u.predict_proba(valid_features)[:,1] # Вероятность для ROC-AUC\n",
    "            roc_tree_u = roc_auc_score(valid_target, probabilities_tree_u) # Считаем метрику ROC-AUC модели\n",
    "# Сравниваем результат модели с лучшим результатом и при превышении результатов сохраняем модель с гиперпараметрами\n",
    "            if result_u > best_tree_result_u:\n",
    "                best_tree_model_u = model_tree_u\n",
    "                best_tree_result_u = result_u\n",
    "                best_tree_roc_u = roc_tree_u\n",
    "                best_tree_depth = depth\n",
    "                best_tree_criteries = criterion\n",
    "                best_tree_leaf = leaf\n",
    "                \n",
    "print(f'Наилучшая метрика F1 дерева решений на валидационной выборке: {best_tree_result_u},')\n",
    "print(f'метрика ROC-AUC: {best_tree_roc_u}.')   \n",
    "print(f'Модель имеет следующие гиперпараметры:')\n",
    "print(f'Глубина дерева: {best_tree_depth},')\n",
    "print(f'Критерий: {best_tree_criteries},')\n",
    "print(f'Минимальное количество объектов в листе: {best_tree_leaf}')"
   ]
  },
  {
   "cell_type": "markdown",
   "metadata": {},
   "source": [
    "Наилучший результат модели дерева решений с устранением дисабаланса методом upsampling имеет следующие значения метрик на валидационной выборке:\n",
    "- F1-мера: **0.57**, результат аналогичен модели с добавлением весов классов, и не выполняет условия для сдачи проекта;\n",
    "- ROC-AUC: **0.83**, результат аналогичен модели с добавлением весов классов.\n",
    "\n",
    "Время обучения и подбора оптимальных гиперпараметров составило 3 секунды. Для данной модели используются следующие гиперпараметры:\n",
    "- criterion = entropy;\n",
    "- max_depth = 6;\n",
    "- min_samples_leaf = 1."
   ]
  },
  {
   "cell_type": "code",
   "execution_count": 40,
   "metadata": {},
   "outputs": [
    {
     "name": "stdout",
     "output_type": "stream",
     "text": [
      "Наилучшая f1-мера случайного лес на валидационной выборке: 0.6291309669522643,\n",
      "ROC_AUC: 0.8552457888145498\n",
      "Модель имеет следующие гиперпараметры:\n",
      "Количество деревьев: 100,\n",
      "Глубина дерева: 11,\n",
      "Критерий: gini,\n",
      "Минимальное количество объектов в листе: 3.\n",
      "Wall time: 32min 44s\n"
     ]
    }
   ],
   "source": [
    "%%time\n",
    "# Задаем начальные параметры для выявления гиперпараметров лучшей модели\n",
    "best_forest_model_u = None\n",
    "best_forest_result_u = 0\n",
    "best_forest_roc_u = 0\n",
    "best_forest_depth = 0\n",
    "best_forest_w = None\n",
    "criteries = ['gini', 'entropy']\n",
    "\n",
    "# Создаем цикл поиска лучшей модели на валидационной выборке\n",
    "for criterion in criteries:                         # Цикл по перебору критериев\n",
    "    for depth in range(9, 13):                      # Цикл по перебору максимальной глубины дерева\n",
    "        for number_of_trees in range(50, 150, 50):  # Цикл по перебору количества деревьев в ансамбле\n",
    "            for leaf in range(2, 5):               # Цикл по перебору минимального количества листьев\n",
    "                # Создаем модель случайного леса\n",
    "                model_forest_u = RandomForestClassifier(n_estimators=number_of_trees, max_depth=depth,\n",
    "                                                        n_jobs=-1, criterion=criterion, \n",
    "                                                        min_samples_leaf=leaf, random_state=42)\n",
    "                model_forest_u.fit(features_upsampled, target_upsampled)           # Обучаем модель\n",
    "                prediction_forest_u = model_forest_u.predict(valid_features)       # Предсказываем данные моделью\n",
    "                result_u = f1_score(valid_target, prediction_forest_u)             # Считаем метрику f1 модели\n",
    "                probabilities_forest_u = model_forest_u.predict_proba(valid_features)[:,1] # Вероятность для ROC-AUC\n",
    "                roc_forest_u = roc_auc_score(valid_target, probabilities_forest_u) # Считаем метрику ROC-AUC модели\n",
    "# Сравниваем результат модели с лучшим результатом и при превышении результатов сохраняем модель с гиперпараметрами\n",
    "                if result_u > best_forest_result_u:\n",
    "                    best_forest_model_u = model_forest_u\n",
    "                    best_forest_result_u = result_u\n",
    "                    best_forest_roc_u = roc_forest_u\n",
    "                    best_forest_depth = depth\n",
    "                    best_number_of_forest = number_of_trees\n",
    "                    best_forest_criteries = criterion\n",
    "                    best_forest_leaf = leaf                    \n",
    "\n",
    "print(f'Наилучшая f1-мера случайного лес на валидационной выборке: {best_forest_result_u},')\n",
    "print(f'ROC_AUC: {best_forest_roc_u}')\n",
    "print(f'Модель имеет следующие гиперпараметры:')\n",
    "print(f'Количество деревьев: {best_number_of_forest},')\n",
    "print(f'Глубина дерева: {best_forest_depth},')\n",
    "print(f'Критерий: {best_forest_criteries},')\n",
    "print(f'Минимальное количество объектов в листе: {best_forest_leaf}.')"
   ]
  },
  {
   "cell_type": "markdown",
   "metadata": {},
   "source": [
    "Наилучший результат модели случайного леса с устранением дисабаланса методом upsampling имеет следующие значения метрик на валидационной выборке:\n",
    "- F1-мера: **0.63**, что меньше модели с весами классов в 3 знаке после запятой. Также выполняет условия для успешной сдачи проекта;\n",
    "- ROC-AUC: **0.86**, чуть меньше модели с весами классов в 3 знаке после запятой.\n",
    "\n",
    "Время обучения и подбора оптимальных гиперпараметров составило 28 минут. Для данной модели используются следующие гиперпараметры:\n",
    "- criterion = gini;\n",
    "- max_depth = 11;\n",
    "- n_estimators = 100\n",
    "- min_samples_leaf = 2."
   ]
  },
  {
   "cell_type": "code",
   "execution_count": 41,
   "metadata": {},
   "outputs": [
    {
     "name": "stdout",
     "output_type": "stream",
     "text": [
      "Несбалансированные классы\n",
      "\n",
      "        Логистическая регрессия Дерево решений Случайный лес\n",
      "F1                        0.336          0.591         0.577\n",
      "ROC-AUC                    0.76          0.809         0.858\n",
      "\n",
      "Добавление весов классов\n",
      "\n",
      "        Логистическая регрессия Дерево решений Случайный лес\n",
      "F1                        0.493           0.57         0.633\n",
      "ROC-AUC                   0.763          0.833         0.858\n",
      "\n",
      "Преобразование upsampling\n",
      "\n",
      "        Логистическая регрессия Дерево решений Случайный лес\n",
      "F1                        0.497           0.57         0.629\n",
      "ROC-AUC                   0.763          0.833         0.855\n"
     ]
    }
   ],
   "source": [
    "upsampling_table = table_result(best_logistic_result_u, best_logistic_roc_u, \n",
    "                                best_tree_result_u, best_tree_roc_u,\n",
    "                                best_forest_result_u, best_forest_roc_u)\n",
    "\n",
    "print('Несбалансированные классы')\n",
    "print('')\n",
    "print(disbalance_table)\n",
    "print('')\n",
    "print('Добавление весов классов')\n",
    "print('')\n",
    "print(weight_table)\n",
    "print('')\n",
    "print('Преобразование upsampling')\n",
    "print('')\n",
    "print(upsampling_table)"
   ]
  },
  {
   "cell_type": "markdown",
   "metadata": {},
   "source": [
    "Результаты моделей преобразованных методом upsampling предсказывают аналогично моделям с добавлением весов классов. \n",
    "\n",
    "Наилучший результат по метрикам F1 и ROC-AUC показала модель случайного леса - **F1 = 0.629, ROC-AUC = 0.855**."
   ]
  },
  {
   "cell_type": "markdown",
   "metadata": {},
   "source": [
    "### Итоги устранения дисбаланса"
   ]
  },
  {
   "cell_type": "code",
   "execution_count": 47,
   "metadata": {},
   "outputs": [
    {
     "name": "stdout",
     "output_type": "stream",
     "text": [
      "Несбалансированные классы\n",
      "\n",
      "        Логистическая регрессия Дерево решений Случайный лес\n",
      "F1                        0.336          0.591         0.577\n",
      "ROC-AUC                    0.76          0.809         0.858\n",
      "\n",
      "Добавление весов классов\n",
      "\n",
      "        Логистическая регрессия Дерево решений Случайный лес\n",
      "F1                        0.493           0.57         0.633\n",
      "ROC-AUC                   0.763          0.833         0.858\n",
      "\n",
      "Преобразование upsampling\n",
      "\n",
      "        Логистическая регрессия Дерево решений Случайный лес\n",
      "F1                        0.497           0.57         0.629\n",
      "ROC-AUC                   0.763          0.833         0.855\n",
      "Преобразование downsampling\n",
      "\n",
      "        Логистическая регрессия Дерево решений Случайный лес\n",
      "F1                        0.501           0.57         0.629\n",
      "ROC-AUC                   0.764          0.833         0.855\n"
     ]
    }
   ],
   "source": [
    "downsampling_table = table_result(best_logistic_result_d, best_logistic_roc_d, \n",
    "                                best_tree_result_d, best_tree_roc_d,\n",
    "                                best_forest_result_d, best_forest_roc_d)\n",
    "\n",
    "print('Несбалансированные классы')\n",
    "print('')\n",
    "print(disbalance_table)\n",
    "print('')\n",
    "print('Добавление весов классов')\n",
    "print('')\n",
    "print(weight_table)\n",
    "print('')\n",
    "print('Преобразование upsampling')\n",
    "print('')\n",
    "print(upsampling_table)"
   ]
  },
  {
   "cell_type": "markdown",
   "metadata": {},
   "source": [
    "По итогу исследования моделей с устранением дисбаланса классов, лучшее значение F1 метрики - **0,633**, соответствует моделе случайного леса с подобранными гиперпараметрами при внесении аргумента веса классов. Лучшее значение метрики AUC-ROC - **0,858** имеет модель случайного леса с подобранными гиперпараметрами при внесении аргумента веса классов."
   ]
  },
  {
   "cell_type": "markdown",
   "metadata": {},
   "source": [
    "## Тестирование модели"
   ]
  },
  {
   "cell_type": "markdown",
   "metadata": {},
   "source": [
    "Для тестирования, выберем лучшую модель из исследуемых в проекте - модель случайного леса с аргументом class_weight=True, обучим ее на тренировочной и валидационной выборках. После проверим предсказания на тестовой выборке, посчитаем метрики F1, ROC-AUC, построим матрицу спутанности и график ROC-AUC."
   ]
  },
  {
   "cell_type": "code",
   "execution_count": 48,
   "metadata": {},
   "outputs": [],
   "source": [
    "# Для улучшения результатов модели соединим тренировочную и валидационную выборки\n",
    "big_train_features = pd.concat([train_features, valid_features])\n",
    "big_train_target = pd.concat([train_target, valid_target])"
   ]
  },
  {
   "cell_type": "markdown",
   "metadata": {},
   "source": [
    "Обучим модель с аргументом class_weight, посчитаем для нее метрики F1, ROC-AUC. Выведем на экран ROC-кривую и матрицу спутанности."
   ]
  },
  {
   "cell_type": "code",
   "execution_count": 53,
   "metadata": {},
   "outputs": [
    {
     "name": "stdout",
     "output_type": "stream",
     "text": [
      "Наилучшая f1-мера случайного лес на тестовой выборке: 0.6009732360097323,\n",
      "ROC_AUC: 0.8611138746460549\n",
      "Wall time: 613 ms\n"
     ]
    }
   ],
   "source": [
    "%%time\n",
    "# Создаем модель случайного леса\n",
    "best_forest_model_w.fit(big_train_features, big_train_target)           # Обучаем модель\n",
    "prediction_forest_t = best_forest_model_w.predict(test_features)        # Предсказываем данные моделью\n",
    "result_t = f1_score(test_target, prediction_forest_t)             # Считаем метрику f1 модели\n",
    "probabilities_forest_t = best_forest_model_w.predict_proba(test_features)[:,1] # Вероятность для ROC-AUC\n",
    "roc_forest_t = roc_auc_score(test_target, probabilities_forest_t) # Считаем метрику ROC-AUC модели\n",
    "                  \n",
    "\n",
    "print(f'Наилучшая f1-мера случайного лес на тестовой выборке: {result_t},')\n",
    "print(f'ROC_AUC: {roc_forest_t}')"
   ]
  },
  {
   "cell_type": "markdown",
   "metadata": {},
   "source": [
    "Результат модели случайного леса, обученной на тренировочной и валидационной выборках, имеет следующие значения метрик при подсчете на тестовой выборке:\n",
    "- F1-мера: **0.60**. Условие для успешной сдачи проекта выполнено в полном объеме;\n",
    "- ROC-AUC: **0.86**, требований по данной метрике для сдачи проекта не предъявлено, с учетом положительного результата по отношению к случайной моделе (значение более 0.5), а так же одного из лучших результатов по всему проекту, считаю задание выполненым."
   ]
  },
  {
   "cell_type": "code",
   "execution_count": 55,
   "metadata": {},
   "outputs": [
    {
     "data": {
      "image/png": "[encoded data removed]",
      "text/plain": [
       "<Figure size 1000x700 with 1 Axes>"
      ]
     },
     "metadata": {},
     "output_type": "display_data"
    }
   ],
   "source": [
    "# Посчитаем ложноположительные и истинноположительные предсказания для построения ROC-кривой\n",
    "fpr, tpr, thresholds = roc_curve(test_target, probabilities_forest_t)\n",
    "# Зададим график ROC-кривой\n",
    "plt.figure(figsize=(10,7))\n",
    "plt.plot(fpr, tpr, linestyle='-')\n",
    "# Построим результат предсказания случайной модели\n",
    "plt.plot([0, 1], [0, 1], linestyle='--')\n",
    "# Задаем пределы графика\n",
    "plt.xlim(0,1)\n",
    "plt.ylim(0,1)\n",
    "# Задаем названия осей\n",
    "plt.xlabel('False Positive Rate')\n",
    "plt.ylabel('True Positive Rate')\n",
    "# Название графика\n",
    "plt.title('ROC-кривая модели случайного леса сбалансированных классов')\n",
    "\n",
    "plt.show()"
   ]
  },
  {
   "cell_type": "code",
   "execution_count": 57,
   "metadata": {},
   "outputs": [
    {
     "data": {
      "image/png": "[encoded data removed]",
      "text/plain": [
       "<Figure size 640x480 with 2 Axes>"
      ]
     },
     "metadata": {},
     "output_type": "display_data"
    }
   ],
   "source": [
    "# Выведем матрицу спутанности аналогично предыдущему пункту\n",
    "cm = confusion_matrix(test_target, prediction_forest_t, labels=best_forest_model_w.classes_)\n",
    "disp = ConfusionMatrixDisplay(confusion_matrix=cm,\n",
    "                          display_labels=best_forest_model_w.classes_)\n",
    "disp.plot()\n",
    "plt.show()"
   ]
  },
  {
   "cell_type": "markdown",
   "metadata": {},
   "source": [
    "По матрице спутанности видно, что модель хорошо предсказывает истинные ответы и делает мало ошибок. Цель банка выявить клиентов, собирающихся расторнуть договор с банком, и данная модель хорошо справляется со своей задачей."
   ]
  },
  {
   "cell_type": "code",
   "execution_count": 58,
   "metadata": {},
   "outputs": [],
   "source": [
    "test_table = table_result(0, 0, 0, 0, result_t, roc_forest_t)"
   ]
  },
  {
   "cell_type": "markdown",
   "metadata": {},
   "source": [
    "## Итоги выполненного проекта"
   ]
  },
  {
   "cell_type": "code",
   "execution_count": 59,
   "metadata": {},
   "outputs": [
    {
     "name": "stdout",
     "output_type": "stream",
     "text": [
      "Несбалансированные классы\n",
      "\n",
      "        Логистическая регрессия Дерево решений Случайный лес\n",
      "F1                        0.336          0.591         0.577\n",
      "ROC-AUC                    0.76          0.809         0.858\n",
      "\n",
      "Добавление весов классов\n",
      "\n",
      "        Логистическая регрессия Дерево решений Случайный лес\n",
      "F1                        0.493           0.57         0.633\n",
      "ROC-AUC                   0.763          0.833         0.858\n",
      "\n",
      "Преобразование upsampling\n",
      "\n",
      "        Логистическая регрессия Дерево решений Случайный лес\n",
      "F1                        0.497           0.57         0.629\n",
      "ROC-AUC                   0.763          0.833         0.855\n",
      "\n",
      "Преобразование downsampling\n",
      "\n",
      "        Логистическая регрессия Дерево решений Случайный лес\n",
      "F1                        0.501           0.57         0.629\n",
      "ROC-AUC                   0.764          0.833         0.855\n",
      "\n",
      "Тестовая модель\n",
      "\n",
      "        Логистическая регрессия Дерево решений Случайный лес\n",
      "F1                            -              -         0.601\n",
      "ROC-AUC                       -              -         0.861\n"
     ]
    }
   ],
   "source": [
    "print('Несбалансированные классы')\n",
    "print('')\n",
    "print(disbalance_table)\n",
    "print('')\n",
    "print('Добавление весов классов')\n",
    "print('')\n",
    "print(weight_table)\n",
    "print('')\n",
    "print('Преобразование upsampling')\n",
    "print('')\n",
    "print(upsampling_table)\n",
    "print('')\n",
    "print('Преобразование downsampling')\n",
    "print('')\n",
    "print(downsampling_table)\n",
    "print('')\n",
    "print('Тестовая модель')\n",
    "print('')\n",
    "print(test_table)"
   ]
  },
  {
   "cell_type": "markdown",
   "metadata": {},
   "source": [
    "В ходе выполнения самостоятельной работы ислледованы данные клиентов банка \"Бета-Банк\". Предобработаны данные в датасете, изучены основные признаки клиентов: страна проживания, пол, возраст, срок обслуживания, количество используемых продкутов банка, наличие кредитной карты, активность клиента, баланс на счетах клиентов и предполагаемая зарплата. Выявлены неявные закономерности ушедших клиентов (наличие 3 и 4 продуктов банка, пассивность клиентов).\n",
    "Исторические данные разбиты на 3 части - тренировочная, валидационная и тестовая в соотношении 3:1:1. Проведена стандартизация признаков. Построены модели логистической регрессии, дерева решений и случайного леса. Подобраны гиперпараметры для моделей без учета дисбаланса, с лучшим результатом F1-меры равной 0,591. \n",
    "Выявлен дисбаланс классов. Применены три методики устранения проблемы:\n",
    "- задание веса классов;\n",
    "- upsampling;\n",
    "- downsampling.\n",
    "\n",
    "\n",
    "Для каждого метода подобраны модели с гиперпараметрами, имеющими наилучшие результаты метрик F1 и ROC-AUC. К каждой модели написаны промежуточные результаты и по каждой методике написаны выводы.\n",
    "Параллельно с этим подсчитана метрика ROC-AUC. Для финального тестирования выбрана модели случайного леса показавшая лучшие результаты по F1 и ROC-AUC метрикам в предыдущих исследованиях.\n",
    "Для финального тестирования объеденины тренировочная и валидационная выборка. Спрогнозированы факт ухода клиента на тестовой выборке с результатами:\n",
    "- F1-мера модели: 0.601, что хуже сбалансированной модели;\n",
    "- AUC-ROC модели: 0.861.\n",
    "\n",
    "Результаты превосходят значения, полученные при первой сдаче проекта. На основе матрицы спутанности можно сделать вывод, что модель истинно положительно отвечает в 70% случаях и истинно отрицательно в 86%.\n",
    "\n",
    "Метрики всех обученных моделей представлены выше. Наилучший метод борьбы с дизбалансом - присваивание веса классов в агрументах модели."
   ]
  },
  {
   "cell_type": "code",
   "execution_count": null,
   "metadata": {},
   "outputs": [],
   "source": []
  }
 ],
 "metadata": {
  "kernelspec": {
   "display_name": "Python 3 (ipykernel)",
   "language": "python",
   "name": "python3"
  },
  "language_info": {
   "codemirror_mode": {
    "name": "ipython",
    "version": 3
   },
   "file_extension": ".py",
   "mimetype": "text/x-python",
   "name": "python",
   "nbconvert_exporter": "python",
   "pygments_lexer": "ipython3",
   "version": "3.9.13"
  },
  "toc": {
   "base_numbering": 1,
   "nav_menu": {},
   "number_sections": true,
   "sideBar": true,
   "skip_h1_title": true,
   "title_cell": "Содержание",
   "title_sidebar": "Contents",
   "toc_cell": true,
   "toc_position": {
    "height": "calc(100% - 180px)",
    "left": "10px",
    "top": "150px",
    "width": "165px"
   },
   "toc_section_display": true,
   "toc_window_display": true
  }
 },
 "nbformat": 4,
 "nbformat_minor": 2
}
