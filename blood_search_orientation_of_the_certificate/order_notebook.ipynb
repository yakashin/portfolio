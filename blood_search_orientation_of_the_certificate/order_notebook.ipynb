{
 "cells": [
  {
   "cell_type": "markdown",
   "metadata": {},
   "source": [
    "# Проект DonorSearch Reports Rotation\n",
    "\n",
    "### Введение\n",
    "Заказчик - DonorSearch -  занимается развитием донорства в стране. Для этого есть платформа DonorSearch.org - где для доноров доступны бонусная программа, игрофикация пути донора и многое другое. Важной является проверка честности доноров и корректности внесенных донаций. Подтверждение производится по справке установленной формы (№405), такую справку донор получает в центре крови.\n",
    "\n",
    "### Задачи проекта\n",
    "- Исследовать существующие подходы к решению задачи;\n",
    "- Выбор готовой или обучение собственной модели компьютерного зрения для определения ориентации изображения;\n",
    "- Подготовка скриптов для препроцессинга изображения, инференса модели и постпроцессинга изображения;\n",
    "- Тестирование модели, определение метрик;\n",
    "- Создание микросервиса для последующей интеграции в продукт заказчика.\n",
    "\n",
    "\n",
    "### Исходные данные\n",
    "Набор изображений в разной ориентации. Имеются целевые фотографии справок, а так же дополнительные.\n",
    "\n",
    "\n",
    "### Требования\n",
    "\n",
    "- Рассчитана Accuracy для многоклассовой классификации;\n",
    "- Построены ROC-кривые и матрицы ошибок для наилучшей из моделей;\n",
    "- Формат входных данных - путь к изображению;\n",
    "- Формат выходных данных - np.array или Pillow.Image (либи любой другой вариант, итоговый вариант озвучит заказчик);\n",
    "- Количество классов классификатора - 4 (поворот на 0, 90, 180 или 270 градусов);\n",
    "- Инференс - на CPU."
   ]
  },
  {
   "cell_type": "markdown",
   "metadata": {},
   "source": [
    "## Исследование подходов к решению задачи\n",
    "\n",
    "Задача — автоматически определять угол поворота изображения (0°, 90°, 180°, 270°) и корректировать ориентацию перед следующим шагом в продекте заказчика. Основные подходы по определению ориентации:\n",
    "\n",
    "### Традиционные методы компьютерного зрения\n",
    "\n",
    "**SIFT, SURF, ORB (фичерные методы)**\n",
    "- Методы извлечения ключевых точек могут использоваться для нахождения повторяющихся элементов на изображении. Это подходит, если на справке присутствуют узнаваемые символы или логотипы, которые помогут определить правильное положение.\n",
    "- Преимущества: простота и относительная скорость выполнения.\n",
    "- Недостатки: чувствительность к качеству изображения, шумам и деформациям.\n",
    "\n",
    "**Hough Transform**\n",
    "- Преобразование Хафа часто используется для поиска линий и углов. Можно использовать для обнаружения горизонтальных и вертикальных линий на документе и корректировки его ориентации.\n",
    "- Преимущества: устойчивость к шумам.\n",
    "- Недостатки: сложно применить к сложным документам или документам с множеством элементов.\n",
    "\n",
    "### Методы, основанные на глубоких нейронных сетях (DNN)\n",
    "\n",
    "**ResNet, EfficientNet, Vision Transformer (ViT)**\n",
    "- Современные глубокие сети могут быть обучены для предсказания угла поворота изображения. Можно настроить модель на классификацию углов поворота (0°, 90°, 180°, 270°).\n",
    "- Преимущества: высокое качество предсказаний на сложных данных, возможность использования предобученных моделей.\n",
    "- Недостатки: требуется большой объем данных для обучения, высокая вычислительная стоимость.\n",
    "\n",
    "### Предобученные модели глубоких нейронных сетей с дообучением на исходных данных\n",
    "\n",
    "- Использование предобученных моделей, таких как ResNet, EfficientNet, ViT, может значительно ускорить процесс разработки. Если доступны датасеты с подобными медицинскими справками, они могут быть использованы для дообучения.\n",
    "- Преимущества: меньшие затраты на обучение, более быстрое внедрение.\n",
    "- Недостатки: могут быть не адаптированы под специфические задачи и данные.\n",
    "\n",
    "### Способ повысить производительность\n",
    "\n",
    "**Аугментация изображений**\n",
    "\n",
    "Для повышения производительности модели можно использовать:\n",
    "\n",
    "- Повороты на случайные углы.\n",
    "- Изменения яркости, контраста, шума (чтобы имитировать разные условия съемки справок).\n",
    "- Кроппинг и масштабирование изображений.\n",
    "\n",
    "**Вывод:**\n",
    "Для решения поставленной задачи будет использована комбинация методов глубокого обучения с предобученными моделями, такими как ResNet или EfficientNet, с применением аугментации. Это обеспечит высокую точность в условиях ограниченного объема данных и разнообразных изображений справок."
   ]
  },
  {
   "cell_type": "markdown",
   "metadata": {},
   "source": [
    "## Подготовка данных\n",
    "\n",
    "Загружаем необходимые библиотеки"
   ]
  },
  {
   "cell_type": "code",
   "execution_count": 1,
   "metadata": {},
   "outputs": [],
   "source": [
    "# Стандартные библиотеки\n",
    "import time\n",
    "import os\n",
    "import numpy as np\n",
    "import seaborn as sns\n",
    "import matplotlib.pyplot as plt\n",
    "from itertools import cycle\n",
    "\n",
    "# Вспомогательные библиотеки\n",
    "from tqdm import tqdm\n",
    "from PIL import Image\n",
    "\n",
    "# Библиотеки для оценки метрик sklearn\n",
    "from sklearn.metrics import (confusion_matrix, roc_curve, auc,\n",
    "                             precision_recall_curve,\n",
    "                             average_precision_score)\n",
    "from sklearn.preprocessing import label_binarize\n",
    "\n",
    "\n",
    "\n",
    "# Библиотеки глубокого обучения нейросетей\n",
    "import torch\n",
    "import torch.nn as nn\n",
    "from torch.optim import Adam\n",
    "import torch.optim.lr_scheduler as lr_scheduler\n",
    "from torch.utils.data import DataLoader, random_split\n",
    "from torchvision.transforms import v2\n",
    "from torchvision import models\n",
    "from torchvision.datasets import ImageFolder\n",
    "\n",
    "# Исходные константы\n",
    "# Классы поворота: 0, 90, 180, 270 градусов\n",
    "NUM_CLASSES = 4\n",
    "# Директория с изображениями\n",
    "IMAGE_DIR = 'src/data/image/transformed'\n",
    "# Размер пачки тензоров\n",
    "BATCH_SIZE = 32"
   ]
  },
  {
   "cell_type": "markdown",
   "metadata": {},
   "source": [
    "Исходные изображения состоят из фотографий целевых и нецелевых справок. В проекте не стоит задача определения целевой справки. Для обучения определения ориентации изображения подойдут любые справки. \n",
    "\n",
    "Так как количество изображений ограничено 173 единицами, принято решение все изображения привести к нормальной ориентации и аугментировать поворотом на 90, 180 и 270 градусов. Таким образом количество изображений увеличится в 4 раза, что все равно недостаточно для качественного обучения нейронной сети. Для поворота изображений используем следующую функцию."
   ]
  },
  {
   "cell_type": "code",
   "execution_count": 2,
   "metadata": {},
   "outputs": [],
   "source": [
    "# Подготовка данных с поворотами\n",
    "def prepare_rotated_dataset(image_dir: str, need_create: bool) -> str:\n",
    "    \"\"\"\n",
    "    Подготавливает набор данных с изображениями, повернутыми на различные углы, и сохраняет их в отдельные папки по классам.\n",
    "\n",
    "    :param image_dir: str\n",
    "        Путь к директории с исходными изображениями, которые будут поворачиваться.\n",
    "    \n",
    "    :return: str\n",
    "        Путь к директории, содержащей папки с повернутыми изображениями, где каждая папка соответствует углу поворота (0°, 90°, 180°, 270°).\n",
    "    \n",
    "    Описание:\n",
    "    1. Создает директорию 'transformed' внутри исходной директории для хранения повернутых изображений.\n",
    "    2. Для каждого угла поворота (0°, 90°, 180°, 270°) создает отдельную папку.\n",
    "    3. Перебирает все изображения в исходной директории (с расширениями .jpg и .png).\n",
    "    4. Выполняет поворот изображения на указанный угол и сохраняет его в соответствующей папке.\n",
    "    \n",
    "    Классы поворотов:\n",
    "    - 0: Нет поворота (0°).\n",
    "    - 1: Поворот на 90°.\n",
    "    - 2: Поворот на 180°.\n",
    "    - 3: Поворот на 270°.\n",
    "\n",
    "    Пример использования:\n",
    "    ```\n",
    "    prepare_rotated_dataset('/path/to/images')\n",
    "    ```\n",
    "    \"\"\"    \n",
    "\n",
    "    transformed_dir = os.path.join(image_dir, 'transformed')\n",
    "\n",
    "    if not need_create:\n",
    "        return \"Images transformed yet\"\n",
    "    \n",
    "    os.makedirs(transformed_dir, exist_ok=True)\n",
    "\n",
    "    classes = [0, 1, 2, 3]  # 0 - нет поворота, 1 - 90 градусов, 2 - 180 градусов, 3 - 270 градусов\n",
    "    angles = [0, 90, 180, 270]\n",
    "\n",
    "    for class_id, angle in zip(classes, angles):\n",
    "        class_dir = os.path.join(transformed_dir, str(class_id))\n",
    "        os.makedirs(class_dir, exist_ok=True)\n",
    "        for filename in os.listdir(image_dir):\n",
    "            if filename.endswith('.jpg') or filename.endswith('.png'):\n",
    "                img_path = os.path.join(image_dir, filename)\n",
    "                img = Image.open(img_path)\n",
    "                rotated_img = rotate_image(img, angle)\n",
    "                rotated_img.save(os.path.join(class_dir, f'{class_id}_{filename}'))\n",
    "\n",
    "    return transformed_dir\n",
    "\n",
    "# Преобразование изображений с поворотом\n",
    "def rotate_image(image, angle):\n",
    "    return image.rotate(angle)"
   ]
  },
  {
   "cell_type": "code",
   "execution_count": 3,
   "metadata": {},
   "outputs": [
    {
     "data": {
      "text/plain": [
       "'Images transformed yet'"
      ]
     },
     "execution_count": 3,
     "metadata": {},
     "output_type": "execute_result"
    }
   ],
   "source": [
    "prepare_rotated_dataset(IMAGE_DIR, need_create=False)"
   ]
  },
  {
   "cell_type": "markdown",
   "metadata": {},
   "source": [
    "Для корректной загрузки данных в модель необходимо выполнить подготовку изображений. В модель поступают данные в виде тензоров. Модель легко работает с \"пачкой\" тензоров. \n",
    "\n",
    "Во время подготовки необходимо учитывать, что изображения для тренировки должны быть предобработанны аналогично как и тестовые.\n",
    "\n",
    "Библиотека torch позволяет аугменитровать изображения на этапе трансформации. Например, можно добавить случайный поворот изображения на +-15 градусов и горизонтальное отражение. Так же имеется возможность изменение цвета, гауссовское размытие, изменение размера и тд, но данные изменения не носят случайный характер."
   ]
  },
  {
   "cell_type": "code",
   "execution_count": 4,
   "metadata": {},
   "outputs": [],
   "source": [
    "# Определяем трансформации для предобработки\n",
    "train_transforms = v2.Compose([\n",
    "    v2.ToImage(),\n",
    "    v2.ToDtype(torch.uint8, scale=True),\n",
    "    v2.RandomRotation(degrees=(-15, 15)),\n",
    "    v2.RandomHorizontalFlip(p=0.5),\n",
    "    v2.Resize((224, 224)),\n",
    "    v2.ToDtype(torch.float32, scale=True),\n",
    "    v2.Normalize(mean=[0.485, 0.456, 0.406], std=[0.229, 0.224, 0.225]),\n",
    "])"
   ]
  },
  {
   "cell_type": "markdown",
   "metadata": {},
   "source": [
    "Для удобства загрузки изображений воспользуемся DataLoader. Он разделит датасет на пачки и перемешает изображения."
   ]
  },
  {
   "cell_type": "code",
   "execution_count": 5,
   "metadata": {},
   "outputs": [],
   "source": [
    "# Загрузка подготовленных данных в формате ImageFolder\n",
    "dataset = ImageFolder(root=IMAGE_DIR, transform=train_transforms)\n",
    "\n",
    "# Разделение на тренировочные, валидационные и тестовые данные \n",
    "train_size = int(0.7 * len(dataset))\n",
    "val_size = (len(dataset) - train_size) // 2\n",
    "test_size = len(dataset) - train_size - val_size\n",
    "train_dataset, val_dataset, test_dataset = random_split(dataset, [train_size, val_size, test_size])\n",
    "\n",
    "train_loader = DataLoader(train_dataset, batch_size=BATCH_SIZE, shuffle=True, drop_last=True)\n",
    "val_loader = DataLoader(val_dataset, batch_size=BATCH_SIZE, shuffle=False)\n",
    "test_loader = DataLoader(test_dataset, batch_size=BATCH_SIZE, shuffle=False)"
   ]
  },
  {
   "cell_type": "markdown",
   "metadata": {},
   "source": [
    "**Вывод:**\n",
    "Подготовлены изображения для обучения, каждый класс находится в своей папке. Все изображения проходят предварительную трансформацию в пачку тензоров. Для удобства подачи тензоров в модель используется DataLoader. \n",
    "На каждой эпохе происходит случайное изменение угла поворота изображения на 15 градусов и случайное отражение по вертикали. Такой подход позволит \"на лету\" полочить дополнительную аугментацию изображений, что улучшит обучение моделей."
   ]
  },
  {
   "cell_type": "markdown",
   "metadata": {},
   "source": [
    "### Подготовка скриптов для моделей\n",
    "\n",
    "Кратко про используемые в проекте нейронные сети:\n",
    "\n",
    "1. **ResNet (ResNet18 и ResNet34)**\n",
    "\n",
    "ResNet (Residual Networks) были предложены исследователями Microsoft Research и сделали революцию в области глубокого обучения, когда речь заходит о тренировке очень глубоких нейронных сетей. Главная особенность ResNet — это остаточные соединения, которые помогают избежать проблемы исчезающего градиента и позволяют эффективно обучать сети с очень большим количеством слоев.\n",
    "\n",
    "ResNet18: модель с 18 слоями. Это легкая и быстрая модель, которая может быть полезна для небольших или менее сложных задач, таких как предсказание ориентации. Она требует меньше вычислительных ресурсов и может быть использована для быстрой тренировки или предсказания на устройствах с ограниченными ресурсами.\n",
    "\n",
    "ResNet34: модель с 34 слоями. Она обладает большей глубиной по сравнению с ResNet18 и может извлекать более сложные признаки с изображений. Эта модель обычно используется для более точных прогнозов и в ситуациях, когда требуется повысить производительность за счет более сложных паттернов в данных.\n",
    "\n",
    "Преимущества ResNet:\n",
    "\n",
    "- Эффективна на более глубоких сетях благодаря residual connections.\n",
    "- Хорошо подходит для различных задач классификации изображений.\n",
    "- Легко дообучаема на небольших наборах данных.\n",
    "\n",
    "2. **EfficientNet_B0**\n",
    "\n",
    "EfficientNet — это семейство моделей, представленное в 2019 году компанией Google. Эти модели известны своим сбалансированным подходом к увеличению точности при минимизации вычислительных ресурсов. EfficientNet_B0 — это базовая версия EfficientNet, которая использует инновационный подход к масштабированию глубины, ширины и разрешения сети.\n",
    "\n",
    "Особенности EfficientNet:\n",
    "\n",
    "- Комплексное масштабирование: В большинстве моделей увеличение производительности достигается за счет увеличения либо глубины (больше слоев), либо ширины (больше каналов), либо разрешения входного изображения. EfficientNet использует новый подход — compound scaling — который позволяет эффективно масштабировать все три аспекта (глубина, ширина и разрешение) одновременно, что помогает сохранить баланс между сложностью модели и точностью предсказаний.\n",
    "\n",
    "- Базовая архитектура: EfficientNet использует блоки Inverted Bottleneck, вдохновленные MobileNetV2, и расширяет их с использованием слоев сверток с групповыми нормализациями. Это делает модель легкой и быстрой, но при этом достаточно мощной для сложных задач.\n",
    "\n",
    "- Эффективность: По сравнению с ResNet и другими архитектурами, EfficientNet достигает лучшей точности при меньшем количестве параметров и операциях с плавающей точкой. Это делает модель особенно привлекательной для мобильных и встроенных устройств, где ресурсы ограничены.\n",
    "\n",
    "3. **MobileNet V3**\n",
    "\n",
    "\n",
    "MobileNet V3 — это улучшение предыдущих версий MobileNet (V1 и V2) и использует несколько инноваций для повышения эффективности:\n",
    "\n",
    "- Свертки с разделением на глубину (depthwise separable convolutions) — разбиение стандартной свертки на две: глубинную свертку и точечную свертку (pointwise), что значительно уменьшает количество параметров и операций.\n",
    "- Squeeze-and-Excitation (SE) блоки — эти блоки динамически взвешивают каналы, усиливая важные и подавляя несущественные.\n",
    "- Non-linear Activation Function (h-swish) — активационная функция h-swish (hard swish) заменяет стандартную ReLU для повышения эффективности.\n",
    "- Light-weight Attention — attention-механизмы для улучшения производительности.\n",
    "\n",
    "Плюсы:\n",
    "\n",
    "- Высокая эффективность для мобильных устройств: Благодаря упрощенной архитектуре, MobileNet V3 идеально подходит для использования в приложениях с ограниченными вычислительными ресурсами.\n",
    "- Низкое потребление памяти: Модель требует меньших объемов памяти, что особенно важно для устройств с малым объемом RAM.\n",
    "- Оптимизация под устройства: Прекрасно работает на мобильных устройствах благодаря глубокой оптимизации под ARM-архитектуру.\n",
    "- Высокая производительность при малом количестве параметров: MobileNet V3 поддерживает разумный баланс между количеством параметров и качеством предсказаний.\n",
    "\n",
    "Минусы:\n",
    "\n",
    "- Ограниченная производительность на сложных задачах: В случае задач с высокими требованиями к точности MobileNet V3 может уступать более мощным моделям, таким как EfficientNet.\n",
    "- Меньше возможностей для масштабирования: Ограничена масштабируемость модели, поскольку она ориентирована на мобильные и легкие применения.\n",
    "\n",
    "\n",
    "4. **ShuffleNet V2**\n",
    "\n",
    "ShuffleNet V2 предложен как оптимизация предыдущей версии и включает ключевые принципы для повышения эффективности:\n",
    "\n",
    "- Channel Shuffle — основная инновация архитектуры заключается в смешивании каналов между группами после групповой свертки, что позволяет улучшить взаимодействие информации между каналами;\n",
    "- Grouped Convolutions — с использованием групповой свертки для уменьшения вычислительной сложности, разделяя фильтры на группы;\n",
    "- Balanced Computation — архитектура разработана так, чтобы обеспечить баланс вычислительной нагрузки между различными слоями.\n",
    "\n",
    "Плюсы:\n",
    "\n",
    "- Высокая скорость вычислений: ShuffleNet V2 обладает очень низкой вычислительной сложностью, что делает его подходящим для реального времени и мобильных приложений.\n",
    "- Эффективное использование ресурсов: Модель сбалансирована для оптимального использования памяти и вычислительных мощностей.\n",
    "- Хорошая производительность при низкой сложности: Несмотря на простоту архитектуры, модель демонстрирует хорошую производительность на задачах классификации изображений.\n",
    "\n",
    "Минусы:\n",
    "\n",
    "- Потеря точности при слишком малом числе параметров: При значительном уменьшении параметров может пострадать качество предсказаний.\n",
    "- Меньшая гибкость: Модель менее гибкая и масштабируемая по сравнению с такими архитектурами, как ResNet и EfficientNet.\n",
    "\n",
    "\n",
    "**Заключение:**\n",
    "- ResNet18 — легкая и быстрая популярная модель для задач компьютерного зрения, хорошо подходит для базовых классификационных задач с небольшими ресурсами;\n",
    "- ResNet34 — более тяжелая модель семейства ResNet с увеличенной глубиной, что позволяет достигать более высокой точности при классификации;\n",
    "- EfficientNet_B0 — эффективная альтернатива ResNet, оптимизированная для хороших результатов на слабых ресурсах за счет использования масштабируемой архитектуры;\n",
    "- MobileNet V3 — прекрасно подходит для мобильных устройств благодаря глубокой оптимизации под ARM-архитектуру, сохраняя баланс между точностью и эффективностью;\n",
    "- ShuffleNet V2 — легкая модель, использующая принципы Channel Shuffle и Grouped Convolutions, отлично подходит для встроенных систем и мобильных приложений.\n",
    "\n",
    "\n",
    "Так как в ТЗ не указано, на каком типе устройства производить обучение, выполним на имеющемся GPU. Таким образом, можно ускорить инференс моделей в 6-10 раз. Настроим устройство."
   ]
  },
  {
   "cell_type": "code",
   "execution_count": 6,
   "metadata": {},
   "outputs": [
    {
     "name": "stdout",
     "output_type": "stream",
     "text": [
      "cuda\n",
      "NVIDIA GeForce GTX 1650\n"
     ]
    }
   ],
   "source": [
    "# Настройки устройства\n",
    "device = torch.device(\"cuda\" if torch.cuda.is_available() else \"cpu\")\n",
    "print(device)\n",
    "if device.type == 'cuda':\n",
    "    print(torch.cuda.get_device_name(0))"
   ]
  },
  {
   "cell_type": "markdown",
   "metadata": {},
   "source": [
    "Загрузим каждую из моделей и поменяем последний слой для предсказания 4 классов."
   ]
  },
  {
   "cell_type": "code",
   "execution_count": 7,
   "metadata": {},
   "outputs": [],
   "source": [
    "def get_resnet18_model(num_classes: int=NUM_CLASSES) -> torch.nn.Module:\n",
    "    \"\"\"\n",
    "    Создает и возвращает модель ResNet18 с предобученными весами на ImageNet и измененным выходным слоем.\n",
    "\n",
    "    :param num_classes: int - количество классов для классификации (по умолчанию NUM_CLASSES).\n",
    "    \n",
    "    :return: torch.nn.Module - модель ResNet18 с измененным последним слоем под необходимое количество классов.\n",
    "    \"\"\"\n",
    "\n",
    "    model = models.resnet18(weights='IMAGENET1K_V1')  # Загрузка предобученной ResNet34\n",
    "    model.fc = nn.Linear(model.fc.in_features, num_classes)  # Замена последнего слоя\n",
    "    print('Model resnet18 ready!')\n",
    "    return model.to(device)\n",
    "\n",
    "\n",
    "def get_resnet34_model(num_classes: int=NUM_CLASSES) -> torch.nn.Module:\n",
    "    \"\"\"\n",
    "    Создает и возвращает модель ResNet34 с предобученными весами на ImageNet и измененным выходным слоем.\n",
    "\n",
    "    :param num_classes: int - количество классов для классификации (по умолчанию NUM_CLASSES).\n",
    "    \n",
    "    :return: torch.nn.Module - модель ResNet34 с измененным последним слоем под необходимое количество классов.\n",
    "    \"\"\"\n",
    "\n",
    "    model = models.resnet34(weights='IMAGENET1K_V1')  # Загрузка предобученной ResNet34\n",
    "    model.fc = nn.Linear(model.fc.in_features, num_classes)  # Замена последнего слоя\n",
    "    print('Model resnet34 ready!')\n",
    "    return model.to(device)\n",
    "\n",
    "\n",
    "def get_efficientnet_model(num_classes: int=NUM_CLASSES) -> torch.nn.Module:\n",
    "    \"\"\"\n",
    "    Создает и возвращает модель EfficientNet-B0 с предобученными весами и измененным выходным классификатором.\n",
    "\n",
    "    :param num_classes: int - количество классов для классификации (по умолчанию NUM_CLASSES).\n",
    "    \n",
    "    :return: torch.nn.Module - модель EfficientNet-B0 с измененным классификатором под необходимое количество классов.\n",
    "    \"\"\"\n",
    "    \n",
    "    model = models.efficientnet_b0(weights='EfficientNet_B0_Weights.DEFAULT')  # EfficientNet-b0\n",
    "    model.classifier[1] = nn.Linear(model.classifier[1].in_features, num_classes)  # Замена финального классификатора\n",
    "    print('Model efficientnet_b0 ready!')\n",
    "    return model.to(device)\n",
    "\n",
    "\n",
    "def get_mobilenet_v3_model(num_classes: int = NUM_CLASSES) -> torch.nn.Module:\n",
    "    \"\"\"\n",
    "    Создает и возвращает модель MobileNet_V3_Large с предобученными весами и измененным выходным классификатором.\n",
    "\n",
    "    :param num_classes: int - количество классов для классификации (по умолчанию NUM_CLASSES).\n",
    "    \n",
    "    :return: torch.nn.Module - модель MobileNet_V3_Large с измененным классификатором под необходимое количество классов.\n",
    "    \"\"\"\n",
    "    \n",
    "    model = models.mobilenet_v3_large(weights=models.MobileNet_V3_Large_Weights.IMAGENET1K_V2)  # MobileNet_V3_Large\n",
    "    model.classifier[3] = nn.Linear(model.classifier[3].in_features, num_classes)  # Замена финального классификатора\n",
    "    print('Model mobilenet_v3 ready!')\n",
    "    return model.to(device)\n",
    "\n",
    "\n",
    "def get_shufflenet_v2_model(num_classes: int = NUM_CLASSES) -> torch.nn.Module:\n",
    "    \"\"\"\n",
    "    Создает и возвращает модель ShuffleNet_V2 с предобученными весами и измененным выходным классификатором.\n",
    "\n",
    "    :param num_classes: int - количество классов для классификации (по умолчанию NUM_CLASSES).\n",
    "    \n",
    "    :return: torch.nn.Module - модель ShuffleNet_V2 с измененным классификатором под необходимое количество классов.\n",
    "    \"\"\"\n",
    "    \n",
    "    model = models.shufflenet_v2_x2_0(weights=models.ShuffleNet_V2_X2_0_Weights.IMAGENET1K_V1)  # ShuffleNet_V2\n",
    "    model.fc = nn.Linear(model.fc.in_features, num_classes)  # Замена финального классификатора\n",
    "    print('Model shufflenet_v2 ready!')\n",
    "    return model.to(device)\n"
   ]
  },
  {
   "cell_type": "markdown",
   "metadata": {},
   "source": [
    "После подготовки инициализации предобученных моделей, необходимо подготовить скрипты для тренировки, валидации и тестирования моделей на датасетах. Для моделей будем использовать оптимизатор Адам и планировщик градиентного CosineAnnealingLR. Функция потерь -  CrossEntropyLoss.\n",
    "\n",
    "Для каждого прогона теста модели посчитаем среднее время загрузки картинки и среднее время предсказания. В качестве целевой метрики используем Accuracy. На выходе получим график с паказетелями метрики во время тренировки и предсказания."
   ]
  },
  {
   "cell_type": "code",
   "execution_count": 8,
   "metadata": {},
   "outputs": [],
   "source": [
    "# Функция для обучения модели\n",
    "def train_model(model:torch.nn.Module, \n",
    "                train_loader: torch.utils.data.dataloader.DataLoader, \n",
    "                val_loader: torch.utils.data.dataloader.DataLoader, \n",
    "                device: torch.device, \n",
    "                num_epochs: int=20):\n",
    "    \"\"\"\n",
    "    Обучает модель на тренировочных данных и проводит валидацию на каждом шаге.\n",
    "\n",
    "    :param model: torch.nn.Module - модель для обучения.\n",
    "    :param train_loader: torch.utils.data.DataLoader - DataLoader для тренировочных данных.\n",
    "    :param val_loader: torch.utils.data.DataLoader - DataLoader для валидационных данных.\n",
    "    :param device: torch.device - устройство для выполнения вычислений (CPU или GPU).\n",
    "    :param num_epochs: int - количество эпох для обучения (по умолчанию 20).\n",
    "\n",
    "    Функция для тренировки модели нейросети. \n",
    "\n",
    "    Используется:\n",
    "    Функция потерь - CrossEntropyLoss\n",
    "    Оптимизатор - Adam\n",
    "    Планировщик градиентного шага - CosineAnnealingLR\n",
    "\n",
    "    Функция каждые 5 эпох выводит результат и проводит тестирование на валидационном датасете. \n",
    "    Так же выводит среднее время загрузки данных и инференса на одну картинку.\n",
    "    \n",
    "    :return: None\n",
    "    \"\"\"\n",
    "    time_loaded = []\n",
    "    time_inference = []\n",
    "    train_results = []\n",
    "    validation_results = {}\n",
    "\n",
    "    criterion = nn.CrossEntropyLoss()\n",
    "    optimizer = Adam(model.parameters(), lr=0.003)\n",
    "    scheduler = lr_scheduler.CosineAnnealingLR(optimizer, T_max=num_epochs, eta_min=0.0001)\n",
    "    model.train()\n",
    "    for epoch in tqdm(range(num_epochs)):\n",
    "\n",
    "        running_loss = 0.0\n",
    "        correct_predictions = 0\n",
    "        total_predictions = 0\n",
    "\n",
    "        for batch in train_loader:\n",
    "\n",
    "            timepoint_1 = time.time()\n",
    "\n",
    "            inputs = batch[0].to(device)\n",
    "            labels = batch[1].to(device)\n",
    "\n",
    "            timepoint_2 = time.time()\n",
    "            \n",
    "            optimizer.zero_grad()\n",
    "            outputs = model(inputs)\n",
    "            loss = criterion(outputs, labels)\n",
    "            loss.backward()\n",
    "            optimizer.step()\n",
    "\n",
    "            running_loss += loss.item() * inputs.size(0)\n",
    "            _, predicted = torch.max(outputs, 1)\n",
    "            correct_predictions += (predicted == labels).sum().item()\n",
    "            total_predictions += labels.size(0)\n",
    "            timepoint_3 = time.time()\n",
    "\n",
    "            time_loaded.append(timepoint_2-timepoint_1)\n",
    "            time_inference.append(timepoint_3-timepoint_2)\n",
    "\n",
    "\n",
    "        # Обновление scheduler\n",
    "        scheduler.step()\n",
    "        \n",
    "        epoch_loss = running_loss / len(train_loader.dataset)\n",
    "        epoch_accuracy = correct_predictions / total_predictions     \n",
    "        train_results.append(epoch_accuracy)\n",
    "        \n",
    "        if epoch%5 == 0 or epoch == num_epochs - 1:\n",
    "            print(f'Epoch {epoch + 1}/{num_epochs}, Loss: {epoch_loss:.4f}, Accuracy: {epoch_accuracy:.4f}')\n",
    "            print(f\"Data loading time per image: {(sum(time_loaded)/(epoch+1)/BATCH_SIZE):.4f} seconds\")\n",
    "            print(f\"Inference time per image: {(sum(time_inference)/(epoch+1)/BATCH_SIZE):.4f} seconds\")\n",
    "\n",
    "            # Валидация после каждой эпохи\n",
    "            validation_results[epoch+1] = validate_model(model, val_loader, device)\n",
    "\n",
    "    # Построение графика точности\n",
    "    plt.figure(figsize=(10, 5))\n",
    "    plt.plot(range(1, len(train_results) + 1), train_results, label='Training Accuracy')\n",
    "    plt.plot(validation_results.keys(), validation_results.values(), label='Validation Accuracy')\n",
    "    plt.xlabel('Epoch')\n",
    "    plt.ylabel('Accuracy')\n",
    "    plt.title('Training and Validation Accuracy')\n",
    "    plt.legend()\n",
    "    plt.grid(True)\n",
    "    plt.show()\n",
    "\n",
    "\n",
    "    \n",
    "\n",
    "\n",
    "# Функция для валидации модели\n",
    "def validate_model(model:torch.nn.Module, \n",
    "                   val_loader: torch.utils.data.dataloader.DataLoader, \n",
    "                   device: torch.device):\n",
    "    \"\"\"\n",
    "    Выполняет валидацию модели на предоставленных данных, выводя потери и точность.\n",
    "\n",
    "    :param model: torch.nn.Module - модель для валидации.\n",
    "    :param val_loader: torch.utils.data.DataLoader - загрузчик данных для валидации.\n",
    "    :param device: torch.device - устройство для выполнения вычислений (CPU или GPU).\n",
    "\n",
    "    Выводит потери (loss) и точность (accuracy) на валидационном наборе данных.\n",
    "    \"\"\"\n",
    "\n",
    "    criterion = nn.CrossEntropyLoss()\n",
    "    model.eval()\n",
    "    val_loss = 0.0\n",
    "    correct_predictions = 0\n",
    "    total_predictions = 0\n",
    "\n",
    "    with torch.no_grad():\n",
    "        for batch in val_loader:\n",
    "            inputs = batch[0].to(device)\n",
    "            labels = batch[1].to(device)\n",
    "\n",
    "            outputs = model(inputs)\n",
    "            loss = criterion(outputs, labels)\n",
    "            val_loss += loss.item() * inputs.size(0)\n",
    "            _, predicted = torch.max(outputs, 1)\n",
    "            correct_predictions += (predicted == labels).sum().item()\n",
    "            total_predictions += labels.size(0)\n",
    "\n",
    "    val_loss /= len(val_loader.dataset)\n",
    "    val_accuracy = correct_predictions / total_predictions\n",
    "    print(f'Validation Loss: {val_loss:.4f}, Accuracy: {val_accuracy:.4f}')\n",
    "    model.train()\n",
    "\n",
    "    return val_accuracy\n",
    "\n",
    "def testing_model(model:torch.nn.Module, \n",
    "                  test_loader: torch.utils.data.dataloader.DataLoader, \n",
    "                  device: torch.device):\n",
    "    \"\"\"\n",
    "    Тестирует модель на тестовом наборе данных, вычисляет потери, точность и собирает предсказания и вероятности для анализа.\n",
    "\n",
    "    :param model: torch.nn.Module - модель для тестирования.\n",
    "    :param test_loader: torch.utils.data.DataLoader - загрузчик данных для тестирования.\n",
    "    :param device: torch.device - устройство для выполнения вычислений (CPU или GPU).\n",
    "\n",
    "    :return: tuple(np.array, np.array, np.array) - кортеж, содержащий истинные метки, предсказанные метки и вероятности для каждого класса.\n",
    "    \n",
    "    Также выводит потери и точность на тестовом наборе данных, а также время загрузки данных и инференса.\n",
    "    \"\"\"    \n",
    "    timepoint_1 = time.time()\n",
    "\n",
    "    criterion = nn.CrossEntropyLoss()\n",
    "    model.eval()\n",
    "    val_loss = 0.0\n",
    "    correct_predictions = 0\n",
    "    total_predictions = 0\n",
    "\n",
    "    all_labels = []\n",
    "    all_predictions = []\n",
    "    all_probabilities = []\n",
    "\n",
    "    timepoint_2 = time.time()\n",
    "\n",
    "    with torch.no_grad():\n",
    "        for batch in test_loader:\n",
    "            inputs = batch[0].to(device)\n",
    "            labels = batch[1].to(device)\n",
    "\n",
    "            outputs = model(inputs)\n",
    "            loss = criterion(outputs, labels)\n",
    "            val_loss += loss.item() * inputs.size(0)\n",
    "\n",
    "            # Предсказанные классы\n",
    "            _, predicted = torch.max(outputs, 1)\n",
    "            correct_predictions += (predicted == labels).sum().item()\n",
    "            total_predictions += labels.size(0)\n",
    "\n",
    "            # Сохраняем предсказания и истинные метки\n",
    "            all_labels.extend(labels.cpu().numpy())\n",
    "            all_predictions.extend(predicted.cpu().numpy())\n",
    "\n",
    "            # Сохраняем вероятности для ROC-AUC\n",
    "            probabilities = torch.softmax(outputs, dim=1)  # Получаем вероятности для каждого класса\n",
    "            all_probabilities.extend(probabilities.cpu().numpy())\n",
    "\n",
    "    val_loss /= len(val_loader.dataset)\n",
    "    val_accuracy = correct_predictions / total_predictions\n",
    "\n",
    "    timepoint_3 = time.time()\n",
    "\n",
    "    print(f'Validation Loss: {val_loss:.4f}, Accuracy: {val_accuracy:.4f}')\n",
    "    print(f\"Data loading time: {(timepoint_2-timepoint_1):.4f} seconds\")\n",
    "    print(f\"Inference time: {(timepoint_3-timepoint_2):.4f} seconds\")\n",
    "    model.train()\n",
    "\n",
    "    return np.array(all_labels), np.array(all_predictions), np.array(all_probabilities)"
   ]
  },
  {
   "cell_type": "markdown",
   "metadata": {},
   "source": [
    "### Подбор модели нейронной сети\n",
    "\n"
   ]
  },
  {
   "cell_type": "markdown",
   "metadata": {},
   "source": [
    "Подбор модели произведем на заготовленных ранее скриптах. Инициализируем модели"
   ]
  },
  {
   "cell_type": "code",
   "execution_count": 9,
   "metadata": {},
   "outputs": [
    {
     "name": "stdout",
     "output_type": "stream",
     "text": [
      "Model resnet18 ready!\n",
      "Model resnet34 ready!\n",
      "Model efficientnet_b0 ready!\n",
      "Model mobilenet_v3 ready!\n",
      "Model shufflenet_v2 ready!\n"
     ]
    }
   ],
   "source": [
    "resnet18_model = get_resnet18_model()\n",
    "resnet34_model = get_resnet34_model()\n",
    "efficientnet_model = get_efficientnet_model()\n",
    "mobilenet_v3_model = get_mobilenet_v3_model()\n",
    "shufflenet_v2_model = get_shufflenet_v2_model()"
   ]
  },
  {
   "cell_type": "markdown",
   "metadata": {},
   "source": [
    "Поочередно проведем обучение моделей с выводом среднего времени предсказания, целевой метрики и графика метрики на тренирировочной и валидационной выборках."
   ]
  },
  {
   "cell_type": "code",
   "execution_count": 10,
   "metadata": {},
   "outputs": [
    {
     "name": "stderr",
     "output_type": "stream",
     "text": [
      "  0%|          | 0/20 [00:00<?, ?it/s]"
     ]
    },
    {
     "name": "stdout",
     "output_type": "stream",
     "text": [
      "Epoch 1/20, Loss: 1.0413, Accuracy: 0.5771\n",
      "Data loading time per image: 0.0010 seconds\n",
      "Inference time per image: 0.1130 seconds\n"
     ]
    },
    {
     "name": "stderr",
     "output_type": "stream",
     "text": [
      "  5%|▌         | 1/20 [00:34<10:48, 34.15s/it]"
     ]
    },
    {
     "name": "stdout",
     "output_type": "stream",
     "text": [
      "Validation Loss: 63.7565, Accuracy: 0.2981\n"
     ]
    },
    {
     "name": "stderr",
     "output_type": "stream",
     "text": [
      " 25%|██▌       | 5/20 [02:23<06:55, 27.72s/it]"
     ]
    },
    {
     "name": "stdout",
     "output_type": "stream",
     "text": [
      "Epoch 6/20, Loss: 0.2704, Accuracy: 0.8771\n",
      "Data loading time per image: 0.0011 seconds\n",
      "Inference time per image: 0.1017 seconds\n"
     ]
    },
    {
     "name": "stderr",
     "output_type": "stream",
     "text": [
      " 30%|███       | 6/20 [02:56<06:53, 29.54s/it]"
     ]
    },
    {
     "name": "stdout",
     "output_type": "stream",
     "text": [
      "Validation Loss: 0.3343, Accuracy: 0.8269\n"
     ]
    },
    {
     "name": "stderr",
     "output_type": "stream",
     "text": [
      " 50%|█████     | 10/20 [04:49<04:46, 28.61s/it]"
     ]
    },
    {
     "name": "stdout",
     "output_type": "stream",
     "text": [
      "Epoch 11/20, Loss: 0.1748, Accuracy: 0.9187\n",
      "Data loading time per image: 0.0016 seconds\n",
      "Inference time per image: 0.1024 seconds\n"
     ]
    },
    {
     "name": "stderr",
     "output_type": "stream",
     "text": [
      " 55%|█████▌    | 11/20 [05:22<04:30, 30.00s/it]"
     ]
    },
    {
     "name": "stdout",
     "output_type": "stream",
     "text": [
      "Validation Loss: 0.3132, Accuracy: 0.9135\n"
     ]
    },
    {
     "name": "stderr",
     "output_type": "stream",
     "text": [
      " 75%|███████▌  | 15/20 [07:22<02:30, 30.19s/it]"
     ]
    },
    {
     "name": "stdout",
     "output_type": "stream",
     "text": [
      "Epoch 16/20, Loss: 0.0645, Accuracy: 0.9750\n",
      "Data loading time per image: 0.0016 seconds\n",
      "Inference time per image: 0.1053 seconds\n"
     ]
    },
    {
     "name": "stderr",
     "output_type": "stream",
     "text": [
      " 80%|████████  | 16/20 [07:57<02:05, 31.37s/it]"
     ]
    },
    {
     "name": "stdout",
     "output_type": "stream",
     "text": [
      "Validation Loss: 0.0625, Accuracy: 0.9808\n"
     ]
    },
    {
     "name": "stderr",
     "output_type": "stream",
     "text": [
      " 95%|█████████▌| 19/20 [09:24<00:29, 29.91s/it]"
     ]
    },
    {
     "name": "stdout",
     "output_type": "stream",
     "text": [
      "Epoch 20/20, Loss: 0.0301, Accuracy: 0.9896\n",
      "Data loading time per image: 0.0017 seconds\n",
      "Inference time per image: 0.1055 seconds\n"
     ]
    },
    {
     "name": "stderr",
     "output_type": "stream",
     "text": [
      "100%|██████████| 20/20 [10:00<00:00, 30.00s/it]"
     ]
    },
    {
     "name": "stdout",
     "output_type": "stream",
     "text": [
      "Validation Loss: 0.0733, Accuracy: 0.9712\n"
     ]
    },
    {
     "name": "stderr",
     "output_type": "stream",
     "text": [
      "\n"
     ]
    },
    {
     "data": {
      "image/png": "[encoded data removed]",
      "text/plain": [
       "<Figure size 1000x500 with 1 Axes>"
      ]
     },
     "metadata": {},
     "output_type": "display_data"
    }
   ],
   "source": [
    "# Обучение модели\n",
    "train_model(resnet18_model, train_loader, val_loader, device)"
   ]
  },
  {
   "cell_type": "code",
   "execution_count": 11,
   "metadata": {},
   "outputs": [
    {
     "name": "stderr",
     "output_type": "stream",
     "text": [
      "  0%|          | 0/20 [00:00<?, ?it/s]"
     ]
    },
    {
     "name": "stdout",
     "output_type": "stream",
     "text": [
      "Epoch 1/20, Loss: 1.4878, Accuracy: 0.4938\n",
      "Data loading time per image: 0.0024 seconds\n",
      "Inference time per image: 0.1691 seconds\n"
     ]
    },
    {
     "name": "stderr",
     "output_type": "stream",
     "text": [
      "  5%|▌         | 1/20 [00:36<11:30, 36.35s/it]"
     ]
    },
    {
     "name": "stdout",
     "output_type": "stream",
     "text": [
      "Validation Loss: 113.9907, Accuracy: 0.2115\n"
     ]
    },
    {
     "name": "stderr",
     "output_type": "stream",
     "text": [
      " 25%|██▌       | 5/20 [02:37<07:43, 30.88s/it]"
     ]
    },
    {
     "name": "stdout",
     "output_type": "stream",
     "text": [
      "Epoch 6/20, Loss: 0.2982, Accuracy: 0.8729\n",
      "Data loading time per image: 0.0018 seconds\n",
      "Inference time per image: 0.1609 seconds\n"
     ]
    },
    {
     "name": "stderr",
     "output_type": "stream",
     "text": [
      " 30%|███       | 6/20 [03:12<07:31, 32.23s/it]"
     ]
    },
    {
     "name": "stdout",
     "output_type": "stream",
     "text": [
      "Validation Loss: 0.4348, Accuracy: 0.8173\n"
     ]
    },
    {
     "name": "stderr",
     "output_type": "stream",
     "text": [
      " 50%|█████     | 10/20 [05:10<05:02, 30.23s/it]"
     ]
    },
    {
     "name": "stdout",
     "output_type": "stream",
     "text": [
      "Epoch 11/20, Loss: 0.1662, Accuracy: 0.9313\n",
      "Data loading time per image: 0.0018 seconds\n",
      "Inference time per image: 0.1598 seconds\n"
     ]
    },
    {
     "name": "stderr",
     "output_type": "stream",
     "text": [
      " 55%|█████▌    | 11/20 [05:46<04:46, 31.86s/it]"
     ]
    },
    {
     "name": "stdout",
     "output_type": "stream",
     "text": [
      "Validation Loss: 0.1999, Accuracy: 0.9135\n"
     ]
    },
    {
     "name": "stderr",
     "output_type": "stream",
     "text": [
      " 75%|███████▌  | 15/20 [07:51<02:37, 31.52s/it]"
     ]
    },
    {
     "name": "stdout",
     "output_type": "stream",
     "text": [
      "Epoch 16/20, Loss: 0.0903, Accuracy: 0.9667\n",
      "Data loading time per image: 0.0018 seconds\n",
      "Inference time per image: 0.1611 seconds\n"
     ]
    },
    {
     "name": "stderr",
     "output_type": "stream",
     "text": [
      " 80%|████████  | 16/20 [08:26<02:11, 32.83s/it]"
     ]
    },
    {
     "name": "stdout",
     "output_type": "stream",
     "text": [
      "Validation Loss: 0.1275, Accuracy: 0.9423\n"
     ]
    },
    {
     "name": "stderr",
     "output_type": "stream",
     "text": [
      " 95%|█████████▌| 19/20 [09:57<00:31, 31.02s/it]"
     ]
    },
    {
     "name": "stdout",
     "output_type": "stream",
     "text": [
      "Epoch 20/20, Loss: 0.0612, Accuracy: 0.9750\n",
      "Data loading time per image: 0.0018 seconds\n",
      "Inference time per image: 0.1605 seconds\n"
     ]
    },
    {
     "name": "stderr",
     "output_type": "stream",
     "text": [
      "100%|██████████| 20/20 [10:31<00:00, 31.57s/it]"
     ]
    },
    {
     "name": "stdout",
     "output_type": "stream",
     "text": [
      "Validation Loss: 0.0515, Accuracy: 0.9904\n"
     ]
    },
    {
     "name": "stderr",
     "output_type": "stream",
     "text": [
      "\n"
     ]
    },
    {
     "data": {
      "image/png": "[encoded data removed]",
      "text/plain": [
       "<Figure size 1000x500 with 1 Axes>"
      ]
     },
     "metadata": {},
     "output_type": "display_data"
    }
   ],
   "source": [
    "# Обучение модели\n",
    "train_model(resnet34_model, train_loader, val_loader, device)"
   ]
  },
  {
   "cell_type": "code",
   "execution_count": 12,
   "metadata": {},
   "outputs": [
    {
     "name": "stderr",
     "output_type": "stream",
     "text": [
      "  0%|          | 0/20 [00:00<?, ?it/s]"
     ]
    },
    {
     "name": "stdout",
     "output_type": "stream",
     "text": [
      "Epoch 1/20, Loss: 0.8286, Accuracy: 0.5896\n",
      "Data loading time per image: 0.0018 seconds\n",
      "Inference time per image: 0.1618 seconds\n"
     ]
    },
    {
     "name": "stderr",
     "output_type": "stream",
     "text": [
      "  5%|▌         | 1/20 [00:37<11:54, 37.62s/it]"
     ]
    },
    {
     "name": "stdout",
     "output_type": "stream",
     "text": [
      "Validation Loss: 1.0405, Accuracy: 0.6538\n"
     ]
    },
    {
     "name": "stderr",
     "output_type": "stream",
     "text": [
      " 25%|██▌       | 5/20 [02:36<07:34, 30.28s/it]"
     ]
    },
    {
     "name": "stdout",
     "output_type": "stream",
     "text": [
      "Epoch 6/20, Loss: 0.0813, Accuracy: 0.9792\n",
      "Data loading time per image: 0.0017 seconds\n",
      "Inference time per image: 0.1541 seconds\n"
     ]
    },
    {
     "name": "stderr",
     "output_type": "stream",
     "text": [
      " 30%|███       | 6/20 [03:10<07:22, 31.59s/it]"
     ]
    },
    {
     "name": "stdout",
     "output_type": "stream",
     "text": [
      "Validation Loss: 0.1164, Accuracy: 0.9615\n"
     ]
    },
    {
     "name": "stderr",
     "output_type": "stream",
     "text": [
      " 50%|█████     | 10/20 [05:09<05:00, 30.05s/it]"
     ]
    },
    {
     "name": "stdout",
     "output_type": "stream",
     "text": [
      "Epoch 11/20, Loss: 0.0200, Accuracy: 0.9938\n",
      "Data loading time per image: 0.0018 seconds\n",
      "Inference time per image: 0.1553 seconds\n"
     ]
    },
    {
     "name": "stderr",
     "output_type": "stream",
     "text": [
      " 55%|█████▌    | 11/20 [05:43<04:43, 31.47s/it]"
     ]
    },
    {
     "name": "stdout",
     "output_type": "stream",
     "text": [
      "Validation Loss: 0.0031, Accuracy: 1.0000\n"
     ]
    },
    {
     "name": "stderr",
     "output_type": "stream",
     "text": [
      " 75%|███████▌  | 15/20 [07:42<02:30, 30.14s/it]"
     ]
    },
    {
     "name": "stdout",
     "output_type": "stream",
     "text": [
      "Epoch 16/20, Loss: 0.0091, Accuracy: 0.9979\n",
      "Data loading time per image: 0.0018 seconds\n",
      "Inference time per image: 0.1549 seconds\n"
     ]
    },
    {
     "name": "stderr",
     "output_type": "stream",
     "text": [
      " 80%|████████  | 16/20 [08:18<02:07, 31.80s/it]"
     ]
    },
    {
     "name": "stdout",
     "output_type": "stream",
     "text": [
      "Validation Loss: 0.0015, Accuracy: 1.0000\n"
     ]
    },
    {
     "name": "stderr",
     "output_type": "stream",
     "text": [
      " 95%|█████████▌| 19/20 [09:48<00:30, 30.68s/it]"
     ]
    },
    {
     "name": "stdout",
     "output_type": "stream",
     "text": [
      "Epoch 20/20, Loss: 0.0043, Accuracy: 1.0000\n",
      "Data loading time per image: 0.0017 seconds\n",
      "Inference time per image: 0.1556 seconds\n"
     ]
    },
    {
     "name": "stderr",
     "output_type": "stream",
     "text": [
      "100%|██████████| 20/20 [10:23<00:00, 31.18s/it]"
     ]
    },
    {
     "name": "stdout",
     "output_type": "stream",
     "text": [
      "Validation Loss: 0.0132, Accuracy: 0.9904\n"
     ]
    },
    {
     "name": "stderr",
     "output_type": "stream",
     "text": [
      "\n"
     ]
    },
    {
     "data": {
      "image/png": "[encoded data removed]",
      "text/plain": [
       "<Figure size 1000x500 with 1 Axes>"
      ]
     },
     "metadata": {},
     "output_type": "display_data"
    }
   ],
   "source": [
    "# Обучение модели\n",
    "train_model(efficientnet_model, train_loader, val_loader, device)"
   ]
  },
  {
   "cell_type": "code",
   "execution_count": 13,
   "metadata": {},
   "outputs": [
    {
     "name": "stderr",
     "output_type": "stream",
     "text": [
      "  0%|          | 0/20 [00:00<?, ?it/s]"
     ]
    },
    {
     "name": "stdout",
     "output_type": "stream",
     "text": [
      "Epoch 1/20, Loss: 0.6911, Accuracy: 0.6937\n",
      "Data loading time per image: 0.0021 seconds\n",
      "Inference time per image: 0.1028 seconds\n"
     ]
    },
    {
     "name": "stderr",
     "output_type": "stream",
     "text": [
      "  5%|▌         | 1/20 [00:32<10:18, 32.55s/it]"
     ]
    },
    {
     "name": "stdout",
     "output_type": "stream",
     "text": [
      "Validation Loss: 0.7013, Accuracy: 0.8173\n"
     ]
    },
    {
     "name": "stderr",
     "output_type": "stream",
     "text": [
      " 25%|██▌       | 5/20 [02:22<06:58, 27.90s/it]"
     ]
    },
    {
     "name": "stdout",
     "output_type": "stream",
     "text": [
      "Epoch 6/20, Loss: 0.1999, Accuracy: 0.9292\n",
      "Data loading time per image: 0.0019 seconds\n",
      "Inference time per image: 0.1014 seconds\n"
     ]
    },
    {
     "name": "stderr",
     "output_type": "stream",
     "text": [
      " 30%|███       | 6/20 [02:54<06:50, 29.33s/it]"
     ]
    },
    {
     "name": "stdout",
     "output_type": "stream",
     "text": [
      "Validation Loss: 0.2050, Accuracy: 0.9231\n"
     ]
    },
    {
     "name": "stderr",
     "output_type": "stream",
     "text": [
      " 50%|█████     | 10/20 [04:44<04:38, 27.80s/it]"
     ]
    },
    {
     "name": "stdout",
     "output_type": "stream",
     "text": [
      "Epoch 11/20, Loss: 0.0523, Accuracy: 0.9854\n",
      "Data loading time per image: 0.0019 seconds\n",
      "Inference time per image: 0.1018 seconds\n"
     ]
    },
    {
     "name": "stderr",
     "output_type": "stream",
     "text": [
      " 55%|█████▌    | 11/20 [05:17<04:23, 29.32s/it]"
     ]
    },
    {
     "name": "stdout",
     "output_type": "stream",
     "text": [
      "Validation Loss: 0.0567, Accuracy: 0.9712\n"
     ]
    },
    {
     "name": "stderr",
     "output_type": "stream",
     "text": [
      " 75%|███████▌  | 15/20 [07:05<02:18, 27.67s/it]"
     ]
    },
    {
     "name": "stdout",
     "output_type": "stream",
     "text": [
      "Epoch 16/20, Loss: 0.0159, Accuracy: 0.9917\n",
      "Data loading time per image: 0.0019 seconds\n",
      "Inference time per image: 0.0996 seconds\n"
     ]
    },
    {
     "name": "stderr",
     "output_type": "stream",
     "text": [
      " 80%|████████  | 16/20 [07:37<01:55, 28.96s/it]"
     ]
    },
    {
     "name": "stdout",
     "output_type": "stream",
     "text": [
      "Validation Loss: 0.0280, Accuracy: 0.9904\n"
     ]
    },
    {
     "name": "stderr",
     "output_type": "stream",
     "text": [
      " 95%|█████████▌| 19/20 [08:59<00:27, 27.92s/it]"
     ]
    },
    {
     "name": "stdout",
     "output_type": "stream",
     "text": [
      "Epoch 20/20, Loss: 0.0098, Accuracy: 0.9979\n",
      "Data loading time per image: 0.0019 seconds\n",
      "Inference time per image: 0.0999 seconds\n"
     ]
    },
    {
     "name": "stderr",
     "output_type": "stream",
     "text": [
      "100%|██████████| 20/20 [09:32<00:00, 28.62s/it]"
     ]
    },
    {
     "name": "stdout",
     "output_type": "stream",
     "text": [
      "Validation Loss: 0.0169, Accuracy: 0.9904\n"
     ]
    },
    {
     "name": "stderr",
     "output_type": "stream",
     "text": [
      "\n"
     ]
    },
    {
     "data": {
      "image/png": "[encoded data removed]",
      "text/plain": [
       "<Figure size 1000x500 with 1 Axes>"
      ]
     },
     "metadata": {},
     "output_type": "display_data"
    }
   ],
   "source": [
    "# Обучение модели\n",
    "train_model(shufflenet_v2_model, train_loader, val_loader, device)"
   ]
  },
  {
   "cell_type": "code",
   "execution_count": 14,
   "metadata": {},
   "outputs": [
    {
     "name": "stderr",
     "output_type": "stream",
     "text": [
      "  0%|          | 0/20 [00:00<?, ?it/s]"
     ]
    },
    {
     "name": "stdout",
     "output_type": "stream",
     "text": [
      "Epoch 1/20, Loss: 0.8975, Accuracy: 0.5500\n",
      "Data loading time per image: 0.0020 seconds\n",
      "Inference time per image: 0.1097 seconds\n"
     ]
    },
    {
     "name": "stderr",
     "output_type": "stream",
     "text": [
      "  5%|▌         | 1/20 [00:33<10:32, 33.31s/it]"
     ]
    },
    {
     "name": "stdout",
     "output_type": "stream",
     "text": [
      "Validation Loss: 9.3623, Accuracy: 0.3462\n"
     ]
    },
    {
     "name": "stderr",
     "output_type": "stream",
     "text": [
      " 25%|██▌       | 5/20 [02:23<06:58, 27.92s/it]"
     ]
    },
    {
     "name": "stdout",
     "output_type": "stream",
     "text": [
      "Epoch 6/20, Loss: 0.0983, Accuracy: 0.9583\n",
      "Data loading time per image: 0.0019 seconds\n",
      "Inference time per image: 0.0996 seconds\n"
     ]
    },
    {
     "name": "stderr",
     "output_type": "stream",
     "text": [
      " 30%|███       | 6/20 [02:55<06:51, 29.41s/it]"
     ]
    },
    {
     "name": "stdout",
     "output_type": "stream",
     "text": [
      "Validation Loss: 93.7937, Accuracy: 0.3462\n"
     ]
    },
    {
     "name": "stderr",
     "output_type": "stream",
     "text": [
      " 50%|█████     | 10/20 [04:46<04:39, 27.99s/it]"
     ]
    },
    {
     "name": "stdout",
     "output_type": "stream",
     "text": [
      "Epoch 11/20, Loss: 0.0180, Accuracy: 0.9938\n",
      "Data loading time per image: 0.0019 seconds\n",
      "Inference time per image: 0.1002 seconds\n"
     ]
    },
    {
     "name": "stderr",
     "output_type": "stream",
     "text": [
      " 55%|█████▌    | 11/20 [05:17<04:21, 29.09s/it]"
     ]
    },
    {
     "name": "stdout",
     "output_type": "stream",
     "text": [
      "Validation Loss: 2.0987, Accuracy: 0.8173\n"
     ]
    },
    {
     "name": "stderr",
     "output_type": "stream",
     "text": [
      " 75%|███████▌  | 15/20 [07:05<02:16, 27.38s/it]"
     ]
    },
    {
     "name": "stdout",
     "output_type": "stream",
     "text": [
      "Epoch 16/20, Loss: 0.0061, Accuracy: 0.9979\n",
      "Data loading time per image: 0.0019 seconds\n",
      "Inference time per image: 0.0993 seconds\n"
     ]
    },
    {
     "name": "stderr",
     "output_type": "stream",
     "text": [
      " 80%|████████  | 16/20 [07:37<01:54, 28.75s/it]"
     ]
    },
    {
     "name": "stdout",
     "output_type": "stream",
     "text": [
      "Validation Loss: 0.0544, Accuracy: 0.9712\n"
     ]
    },
    {
     "name": "stderr",
     "output_type": "stream",
     "text": [
      " 95%|█████████▌| 19/20 [08:58<00:27, 27.57s/it]"
     ]
    },
    {
     "name": "stdout",
     "output_type": "stream",
     "text": [
      "Epoch 20/20, Loss: 0.0032, Accuracy: 1.0000\n",
      "Data loading time per image: 0.0019 seconds\n",
      "Inference time per image: 0.0984 seconds\n"
     ]
    },
    {
     "name": "stderr",
     "output_type": "stream",
     "text": [
      "100%|██████████| 20/20 [09:30<00:00, 28.51s/it]"
     ]
    },
    {
     "name": "stdout",
     "output_type": "stream",
     "text": [
      "Validation Loss: 0.0134, Accuracy: 0.9904\n"
     ]
    },
    {
     "name": "stderr",
     "output_type": "stream",
     "text": [
      "\n"
     ]
    },
    {
     "data": {
      "image/png": "[encoded data removed]",
      "text/plain": [
       "<Figure size 1000x500 with 1 Axes>"
      ]
     },
     "metadata": {},
     "output_type": "display_data"
    }
   ],
   "source": [
    "# Обучение модели\n",
    "train_model(mobilenet_v3_model, train_loader, val_loader, device)"
   ]
  },
  {
   "cell_type": "markdown",
   "metadata": {},
   "source": [
    "Модели отлично предсказывают класс ориентацию справки на фотографии, даже при обучении всего на 20 эпохах. \n",
    "\n",
    "Результаты моделей следующие:\n",
    "\n",
    "**ResNet18:**\n",
    "- Loss: 0.0301, Accuracy: 0.9896\n",
    "- Inference time per image: 0.1055 seconds\n",
    "- Validation Loss: 0.0733, Accuracy: 0.9712\n",
    "\n",
    "**ResNet34:**\n",
    "- Loss: 0.0612, Accuracy: 0.9750\n",
    "- Inference time per image: 0.1605 seconds\n",
    "- Validation Loss: 0.0515, Accuracy: 0.9904\n",
    "\n",
    "**EfficientNet:**\n",
    "- Loss: 0.0043, Accuracy: 1.0000\n",
    "- Inference time per image: 0.1556 seconds\n",
    "- Validation Loss: 0.0132, Accuracy: 0.9904\n",
    "\n",
    "**ShuffleNet_V2:**\n",
    "- Loss: 0.0098, Accuracy: 0.9979\n",
    "- Inference time per image: 0.0999 seconds\n",
    "- Validation Loss: 0.0169, Accuracy: 0.9904\n",
    "\n",
    "**MobileNet_v3:**\n",
    "- Loss: 0.0032, Accuracy: 1.0000\n",
    "- Inference time per image: 0.0984 seconds\n",
    "- Validation Loss: 0.0134, Accuracy: 0.9904\n",
    "\n",
    "Все модели показали похожий результат, нету явных лидеров или отстающих. Принято решение выбрать сеть EfficientNet по совокупности показателей и вывода графика изменения метрики при обучении.\n",
    "\n",
    "Проведем обучение модели на большом количестве эпох. Обучение займет длительное время, поэтому выполним вне отчета."
   ]
  },
  {
   "cell_type": "code",
   "execution_count": 17,
   "metadata": {},
   "outputs": [
    {
     "name": "stderr",
     "output_type": "stream",
     "text": [
      "  0%|          | 0/120 [00:00<?, ?it/s]"
     ]
    },
    {
     "name": "stdout",
     "output_type": "stream",
     "text": [
      "Epoch 1/120, Loss: 0.7715, Accuracy: 0.6708\n",
      "Data loading time per image: 0.0020 seconds\n",
      "Inference time per image: 0.1449 seconds\n"
     ]
    },
    {
     "name": "stderr",
     "output_type": "stream",
     "text": [
      "  1%|          | 1/120 [00:31<1:03:08, 31.84s/it]"
     ]
    },
    {
     "name": "stdout",
     "output_type": "stream",
     "text": [
      "Validation Loss: 0.7405, Accuracy: 0.7115\n"
     ]
    },
    {
     "name": "stderr",
     "output_type": "stream",
     "text": [
      "  4%|▍         | 5/120 [02:31<58:25, 30.48s/it]  "
     ]
    },
    {
     "name": "stdout",
     "output_type": "stream",
     "text": [
      "Epoch 6/120, Loss: 0.0817, Accuracy: 0.9667\n",
      "Data loading time per image: 0.0018 seconds\n",
      "Inference time per image: 0.1552 seconds\n"
     ]
    },
    {
     "name": "stderr",
     "output_type": "stream",
     "text": [
      "  5%|▌         | 6/120 [03:06<1:00:49, 32.01s/it]"
     ]
    },
    {
     "name": "stdout",
     "output_type": "stream",
     "text": [
      "Validation Loss: 0.1238, Accuracy: 0.9423\n"
     ]
    },
    {
     "name": "stderr",
     "output_type": "stream",
     "text": [
      "  8%|▊         | 10/120 [05:06<55:46, 30.42s/it] "
     ]
    },
    {
     "name": "stdout",
     "output_type": "stream",
     "text": [
      "Epoch 11/120, Loss: 0.0755, Accuracy: 0.9812\n",
      "Data loading time per image: 0.0018 seconds\n",
      "Inference time per image: 0.1556 seconds\n"
     ]
    },
    {
     "name": "stderr",
     "output_type": "stream",
     "text": [
      "  9%|▉         | 11/120 [05:40<57:25, 31.61s/it]"
     ]
    },
    {
     "name": "stdout",
     "output_type": "stream",
     "text": [
      "Validation Loss: 0.1092, Accuracy: 0.9712\n"
     ]
    },
    {
     "name": "stderr",
     "output_type": "stream",
     "text": [
      " 12%|█▎        | 15/120 [07:40<53:48, 30.75s/it]"
     ]
    },
    {
     "name": "stdout",
     "output_type": "stream",
     "text": [
      "Epoch 16/120, Loss: 0.0484, Accuracy: 0.9833\n",
      "Data loading time per image: 0.0018 seconds\n",
      "Inference time per image: 0.1557 seconds\n"
     ]
    },
    {
     "name": "stderr",
     "output_type": "stream",
     "text": [
      " 13%|█▎        | 16/120 [08:17<56:16, 32.46s/it]"
     ]
    },
    {
     "name": "stdout",
     "output_type": "stream",
     "text": [
      "Validation Loss: 0.0180, Accuracy: 0.9904\n"
     ]
    },
    {
     "name": "stderr",
     "output_type": "stream",
     "text": [
      " 17%|█▋        | 20/120 [10:26<53:49, 32.30s/it]"
     ]
    },
    {
     "name": "stdout",
     "output_type": "stream",
     "text": [
      "Epoch 21/120, Loss: 0.0097, Accuracy: 0.9979\n",
      "Data loading time per image: 0.0018 seconds\n",
      "Inference time per image: 0.1584 seconds\n"
     ]
    },
    {
     "name": "stderr",
     "output_type": "stream",
     "text": [
      " 18%|█▊        | 21/120 [11:02<54:55, 33.29s/it]"
     ]
    },
    {
     "name": "stdout",
     "output_type": "stream",
     "text": [
      "Validation Loss: 0.0024, Accuracy: 1.0000\n"
     ]
    },
    {
     "name": "stderr",
     "output_type": "stream",
     "text": [
      " 21%|██        | 25/120 [13:05<49:54, 31.52s/it]"
     ]
    },
    {
     "name": "stdout",
     "output_type": "stream",
     "text": [
      "Epoch 26/120, Loss: 0.0272, Accuracy: 0.9917\n",
      "Data loading time per image: 0.0017 seconds\n",
      "Inference time per image: 0.1581 seconds\n"
     ]
    },
    {
     "name": "stderr",
     "output_type": "stream",
     "text": [
      " 22%|██▏       | 26/120 [13:41<51:27, 32.85s/it]"
     ]
    },
    {
     "name": "stdout",
     "output_type": "stream",
     "text": [
      "Validation Loss: 0.0140, Accuracy: 0.9904\n"
     ]
    },
    {
     "name": "stderr",
     "output_type": "stream",
     "text": [
      " 25%|██▌       | 30/120 [15:42<46:14, 30.83s/it]"
     ]
    },
    {
     "name": "stdout",
     "output_type": "stream",
     "text": [
      "Epoch 31/120, Loss: 0.0191, Accuracy: 0.9938\n",
      "Data loading time per image: 0.0017 seconds\n",
      "Inference time per image: 0.1580 seconds\n"
     ]
    },
    {
     "name": "stderr",
     "output_type": "stream",
     "text": [
      " 26%|██▌       | 31/120 [16:19<48:06, 32.43s/it]"
     ]
    },
    {
     "name": "stdout",
     "output_type": "stream",
     "text": [
      "Validation Loss: 0.0146, Accuracy: 0.9904\n"
     ]
    },
    {
     "name": "stderr",
     "output_type": "stream",
     "text": [
      " 29%|██▉       | 35/120 [18:25<45:13, 31.92s/it]"
     ]
    },
    {
     "name": "stdout",
     "output_type": "stream",
     "text": [
      "Epoch 36/120, Loss: 0.0046, Accuracy: 0.9979\n",
      "Data loading time per image: 0.0017 seconds\n",
      "Inference time per image: 0.1585 seconds\n"
     ]
    },
    {
     "name": "stderr",
     "output_type": "stream",
     "text": [
      " 30%|███       | 36/120 [19:02<46:34, 33.27s/it]"
     ]
    },
    {
     "name": "stdout",
     "output_type": "stream",
     "text": [
      "Validation Loss: 0.0013, Accuracy: 1.0000\n"
     ]
    },
    {
     "name": "stderr",
     "output_type": "stream",
     "text": [
      " 33%|███▎      | 40/120 [21:07<42:23, 31.79s/it]"
     ]
    },
    {
     "name": "stdout",
     "output_type": "stream",
     "text": [
      "Epoch 41/120, Loss: 0.0241, Accuracy: 0.9917\n",
      "Data loading time per image: 0.0017 seconds\n",
      "Inference time per image: 0.1593 seconds\n"
     ]
    },
    {
     "name": "stderr",
     "output_type": "stream",
     "text": [
      " 34%|███▍      | 41/120 [21:43<43:46, 33.25s/it]"
     ]
    },
    {
     "name": "stdout",
     "output_type": "stream",
     "text": [
      "Validation Loss: 0.1071, Accuracy: 0.9519\n"
     ]
    },
    {
     "name": "stderr",
     "output_type": "stream",
     "text": [
      " 38%|███▊      | 45/120 [23:43<38:09, 30.53s/it]"
     ]
    },
    {
     "name": "stdout",
     "output_type": "stream",
     "text": [
      "Epoch 46/120, Loss: 0.0123, Accuracy: 0.9958\n",
      "Data loading time per image: 0.0017 seconds\n",
      "Inference time per image: 0.1591 seconds\n"
     ]
    },
    {
     "name": "stderr",
     "output_type": "stream",
     "text": [
      " 38%|███▊      | 46/120 [24:18<39:14, 31.82s/it]"
     ]
    },
    {
     "name": "stdout",
     "output_type": "stream",
     "text": [
      "Validation Loss: 0.0052, Accuracy: 1.0000\n"
     ]
    },
    {
     "name": "stderr",
     "output_type": "stream",
     "text": [
      " 42%|████▏     | 50/120 [26:16<35:22, 30.33s/it]"
     ]
    },
    {
     "name": "stdout",
     "output_type": "stream",
     "text": [
      "Epoch 51/120, Loss: 0.0017, Accuracy: 1.0000\n",
      "Data loading time per image: 0.0017 seconds\n",
      "Inference time per image: 0.1587 seconds\n"
     ]
    },
    {
     "name": "stderr",
     "output_type": "stream",
     "text": [
      " 42%|████▎     | 51/120 [26:52<36:52, 32.06s/it]"
     ]
    },
    {
     "name": "stdout",
     "output_type": "stream",
     "text": [
      "Validation Loss: 0.0008, Accuracy: 1.0000\n"
     ]
    },
    {
     "name": "stderr",
     "output_type": "stream",
     "text": [
      " 46%|████▌     | 55/120 [28:57<33:40, 31.09s/it]"
     ]
    },
    {
     "name": "stdout",
     "output_type": "stream",
     "text": [
      "Epoch 56/120, Loss: 0.0027, Accuracy: 0.9979\n",
      "Data loading time per image: 0.0017 seconds\n",
      "Inference time per image: 0.1591 seconds\n"
     ]
    },
    {
     "name": "stderr",
     "output_type": "stream",
     "text": [
      " 47%|████▋     | 56/120 [29:33<34:42, 32.54s/it]"
     ]
    },
    {
     "name": "stdout",
     "output_type": "stream",
     "text": [
      "Validation Loss: 0.0043, Accuracy: 1.0000\n"
     ]
    },
    {
     "name": "stderr",
     "output_type": "stream",
     "text": [
      " 50%|█████     | 60/120 [31:40<31:57, 31.96s/it]"
     ]
    },
    {
     "name": "stdout",
     "output_type": "stream",
     "text": [
      "Epoch 61/120, Loss: 0.0007, Accuracy: 1.0000\n",
      "Data loading time per image: 0.0017 seconds\n",
      "Inference time per image: 0.1593 seconds\n"
     ]
    },
    {
     "name": "stderr",
     "output_type": "stream",
     "text": [
      " 51%|█████     | 61/120 [32:16<32:51, 33.42s/it]"
     ]
    },
    {
     "name": "stdout",
     "output_type": "stream",
     "text": [
      "Validation Loss: 0.0013, Accuracy: 1.0000\n"
     ]
    },
    {
     "name": "stderr",
     "output_type": "stream",
     "text": [
      " 54%|█████▍    | 65/120 [34:17<28:21, 30.93s/it]"
     ]
    },
    {
     "name": "stdout",
     "output_type": "stream",
     "text": [
      "Epoch 66/120, Loss: 0.0002, Accuracy: 1.0000\n",
      "Data loading time per image: 0.0017 seconds\n",
      "Inference time per image: 0.1591 seconds\n"
     ]
    },
    {
     "name": "stderr",
     "output_type": "stream",
     "text": [
      " 55%|█████▌    | 66/120 [34:51<28:51, 32.06s/it]"
     ]
    },
    {
     "name": "stdout",
     "output_type": "stream",
     "text": [
      "Validation Loss: 0.0001, Accuracy: 1.0000\n"
     ]
    },
    {
     "name": "stderr",
     "output_type": "stream",
     "text": [
      " 58%|█████▊    | 70/120 [36:51<25:16, 30.33s/it]"
     ]
    },
    {
     "name": "stdout",
     "output_type": "stream",
     "text": [
      "Epoch 71/120, Loss: 0.0001, Accuracy: 1.0000\n",
      "Data loading time per image: 0.0017 seconds\n",
      "Inference time per image: 0.1591 seconds\n"
     ]
    },
    {
     "name": "stderr",
     "output_type": "stream",
     "text": [
      " 59%|█████▉    | 71/120 [37:26<25:42, 31.48s/it]"
     ]
    },
    {
     "name": "stdout",
     "output_type": "stream",
     "text": [
      "Validation Loss: 0.0002, Accuracy: 1.0000\n"
     ]
    },
    {
     "name": "stderr",
     "output_type": "stream",
     "text": [
      " 62%|██████▎   | 75/120 [39:25<22:34, 30.11s/it]"
     ]
    },
    {
     "name": "stdout",
     "output_type": "stream",
     "text": [
      "Epoch 76/120, Loss: 0.0001, Accuracy: 1.0000\n",
      "Data loading time per image: 0.0017 seconds\n",
      "Inference time per image: 0.1591 seconds\n"
     ]
    },
    {
     "name": "stderr",
     "output_type": "stream",
     "text": [
      " 63%|██████▎   | 76/120 [40:00<23:09, 31.58s/it]"
     ]
    },
    {
     "name": "stdout",
     "output_type": "stream",
     "text": [
      "Validation Loss: 0.0000, Accuracy: 1.0000\n"
     ]
    },
    {
     "name": "stderr",
     "output_type": "stream",
     "text": [
      " 67%|██████▋   | 80/120 [41:59<20:08, 30.22s/it]"
     ]
    },
    {
     "name": "stdout",
     "output_type": "stream",
     "text": [
      "Epoch 81/120, Loss: 0.0002, Accuracy: 1.0000\n",
      "Data loading time per image: 0.0017 seconds\n",
      "Inference time per image: 0.1589 seconds\n"
     ]
    },
    {
     "name": "stderr",
     "output_type": "stream",
     "text": [
      " 68%|██████▊   | 81/120 [42:34<20:34, 31.65s/it]"
     ]
    },
    {
     "name": "stdout",
     "output_type": "stream",
     "text": [
      "Validation Loss: 0.0010, Accuracy: 1.0000\n"
     ]
    },
    {
     "name": "stderr",
     "output_type": "stream",
     "text": [
      " 71%|███████   | 85/120 [44:31<17:21, 29.75s/it]"
     ]
    },
    {
     "name": "stdout",
     "output_type": "stream",
     "text": [
      "Epoch 86/120, Loss: 0.0001, Accuracy: 1.0000\n",
      "Data loading time per image: 0.0017 seconds\n",
      "Inference time per image: 0.1587 seconds\n"
     ]
    },
    {
     "name": "stderr",
     "output_type": "stream",
     "text": [
      " 72%|███████▏  | 86/120 [45:05<17:43, 31.27s/it]"
     ]
    },
    {
     "name": "stdout",
     "output_type": "stream",
     "text": [
      "Validation Loss: 0.0009, Accuracy: 1.0000\n"
     ]
    },
    {
     "name": "stderr",
     "output_type": "stream",
     "text": [
      " 75%|███████▌  | 90/120 [47:05<15:04, 30.15s/it]"
     ]
    },
    {
     "name": "stdout",
     "output_type": "stream",
     "text": [
      "Epoch 91/120, Loss: 0.0006, Accuracy: 1.0000\n",
      "Data loading time per image: 0.0017 seconds\n",
      "Inference time per image: 0.1585 seconds\n"
     ]
    },
    {
     "name": "stderr",
     "output_type": "stream",
     "text": [
      " 76%|███████▌  | 91/120 [47:39<15:10, 31.39s/it]"
     ]
    },
    {
     "name": "stdout",
     "output_type": "stream",
     "text": [
      "Validation Loss: 0.0003, Accuracy: 1.0000\n"
     ]
    },
    {
     "name": "stderr",
     "output_type": "stream",
     "text": [
      " 79%|███████▉  | 95/120 [49:37<12:29, 29.97s/it]"
     ]
    },
    {
     "name": "stdout",
     "output_type": "stream",
     "text": [
      "Epoch 96/120, Loss: 0.0000, Accuracy: 1.0000\n",
      "Data loading time per image: 0.0017 seconds\n",
      "Inference time per image: 0.1585 seconds\n"
     ]
    },
    {
     "name": "stderr",
     "output_type": "stream",
     "text": [
      " 80%|████████  | 96/120 [50:12<12:30, 31.29s/it]"
     ]
    },
    {
     "name": "stdout",
     "output_type": "stream",
     "text": [
      "Validation Loss: 0.0000, Accuracy: 1.0000\n"
     ]
    },
    {
     "name": "stderr",
     "output_type": "stream",
     "text": [
      " 83%|████████▎ | 100/120 [52:10<09:58, 29.91s/it]"
     ]
    },
    {
     "name": "stdout",
     "output_type": "stream",
     "text": [
      "Epoch 101/120, Loss: 0.0001, Accuracy: 1.0000\n",
      "Data loading time per image: 0.0017 seconds\n",
      "Inference time per image: 0.1582 seconds\n"
     ]
    },
    {
     "name": "stderr",
     "output_type": "stream",
     "text": [
      " 84%|████████▍ | 101/120 [52:44<09:53, 31.24s/it]"
     ]
    },
    {
     "name": "stdout",
     "output_type": "stream",
     "text": [
      "Validation Loss: 0.0002, Accuracy: 1.0000\n"
     ]
    },
    {
     "name": "stderr",
     "output_type": "stream",
     "text": [
      " 88%|████████▊ | 105/120 [54:43<07:31, 30.11s/it]"
     ]
    },
    {
     "name": "stdout",
     "output_type": "stream",
     "text": [
      "Epoch 106/120, Loss: 0.0003, Accuracy: 1.0000\n",
      "Data loading time per image: 0.0017 seconds\n",
      "Inference time per image: 0.1579 seconds\n"
     ]
    },
    {
     "name": "stderr",
     "output_type": "stream",
     "text": [
      " 88%|████████▊ | 106/120 [55:18<07:22, 31.58s/it]"
     ]
    },
    {
     "name": "stdout",
     "output_type": "stream",
     "text": [
      "Validation Loss: 0.0000, Accuracy: 1.0000\n"
     ]
    },
    {
     "name": "stderr",
     "output_type": "stream",
     "text": [
      " 92%|█████████▏| 110/120 [57:18<05:04, 30.47s/it]"
     ]
    },
    {
     "name": "stdout",
     "output_type": "stream",
     "text": [
      "Epoch 111/120, Loss: 0.0002, Accuracy: 1.0000\n",
      "Data loading time per image: 0.0017 seconds\n",
      "Inference time per image: 0.1578 seconds\n"
     ]
    },
    {
     "name": "stderr",
     "output_type": "stream",
     "text": [
      " 92%|█████████▎| 111/120 [57:53<04:46, 31.87s/it]"
     ]
    },
    {
     "name": "stdout",
     "output_type": "stream",
     "text": [
      "Validation Loss: 0.0001, Accuracy: 1.0000\n"
     ]
    },
    {
     "name": "stderr",
     "output_type": "stream",
     "text": [
      " 96%|█████████▌| 115/120 [59:51<02:30, 30.00s/it]"
     ]
    },
    {
     "name": "stdout",
     "output_type": "stream",
     "text": [
      "Epoch 116/120, Loss: 0.0001, Accuracy: 1.0000\n",
      "Data loading time per image: 0.0017 seconds\n",
      "Inference time per image: 0.1577 seconds\n"
     ]
    },
    {
     "name": "stderr",
     "output_type": "stream",
     "text": [
      " 97%|█████████▋| 116/120 [1:00:25<02:05, 31.36s/it]"
     ]
    },
    {
     "name": "stdout",
     "output_type": "stream",
     "text": [
      "Validation Loss: 0.0002, Accuracy: 1.0000\n"
     ]
    },
    {
     "name": "stderr",
     "output_type": "stream",
     "text": [
      " 99%|█████████▉| 119/120 [1:01:55<00:30, 30.32s/it]"
     ]
    },
    {
     "name": "stdout",
     "output_type": "stream",
     "text": [
      "Epoch 120/120, Loss: 0.0000, Accuracy: 1.0000\n",
      "Data loading time per image: 0.0017 seconds\n",
      "Inference time per image: 0.1577 seconds\n"
     ]
    },
    {
     "name": "stderr",
     "output_type": "stream",
     "text": [
      "100%|██████████| 120/120 [1:02:31<00:00, 31.27s/it]"
     ]
    },
    {
     "name": "stdout",
     "output_type": "stream",
     "text": [
      "Validation Loss: 0.0006, Accuracy: 1.0000\n"
     ]
    },
    {
     "name": "stderr",
     "output_type": "stream",
     "text": [
      "\n"
     ]
    },
    {
     "data": {
      "image/png": "[encoded data removed]",
      "text/plain": [
       "<Figure size 1000x500 with 1 Axes>"
      ]
     },
     "metadata": {},
     "output_type": "display_data"
    }
   ],
   "source": [
    "train_model(efficientnet_model, train_loader, val_loader, device, num_epochs=120)"
   ]
  },
  {
   "cell_type": "markdown",
   "metadata": {},
   "source": [
    "Сохраняем обученную модель в файл. Это пригодится для загрузки модели в микросервисе на docker."
   ]
  },
  {
   "cell_type": "code",
   "execution_count": 18,
   "metadata": {},
   "outputs": [],
   "source": [
    "# Сохранение обученной модели\n",
    "torch.save(efficientnet_model.state_dict(), 'rotation_efnet_classifier.pth')"
   ]
  },
  {
   "cell_type": "markdown",
   "metadata": {},
   "source": [
    "**Вывод:**\n",
    "Подготовлены скрипты обучения нейросетей. Данные поступают в модели с помощью DataLoader, тензоры соединены в пачки по 32.Выбраны оптимизатор Адам, планировщик градиентного шага - CosineAnnealingLR, функция потерь - CrossEntropyLoss.\n",
    "\n",
    "На валидационных данных проверены исследуемые модели нейронных сетей. Все нейронные сети показали хороший результат. По совокупности результатов валидации выбрана EfficientNet. Проведено обучение на 120 эпохах, что заняло около часа времени."
   ]
  },
  {
   "cell_type": "markdown",
   "metadata": {},
   "source": [
    "## Тестирование лучшей модели"
   ]
  },
  {
   "cell_type": "markdown",
   "metadata": {},
   "source": [
    "Этап тестирования модели отличается от валидации. После тестирования модели необходимо построить матрицу спутанности и кривую ROC-AUC. Для того, чтобы выполнить это требование, в функции тестирования модели укажем на выходе массивы с действительными и предсказанными классами объектов, а так же вероятность класса.\n",
    "\n",
    "Загрузим предобученную на большом количестве эпох модель и переведем в режим оценки."
   ]
  },
  {
   "cell_type": "code",
   "execution_count": null,
   "metadata": {},
   "outputs": [],
   "source": [
    "test_model = get_efficientnet_model()\n",
    "test_model.load_state_dict(torch.load('rotation_efnet_classifier.pth'))\n",
    "test_model.to(device)\n",
    "test_model.eval()"
   ]
  },
  {
   "cell_type": "markdown",
   "metadata": {},
   "source": [
    "Выполним скрипт предсказания модели на тестовой выборке. Этот скрипт отличается тем, что на выходе функции получаем массивы со всеми правильными ответами, предсказаниями модели и вероятностями. Благодаря этому можно построить матрицу спутанности и кривую ROC-AUC."
   ]
  },
  {
   "cell_type": "code",
   "execution_count": 29,
   "metadata": {},
   "outputs": [
    {
     "name": "stdout",
     "output_type": "stream",
     "text": [
      "Validation Loss: 0.0000, Accuracy: 1.0000\n",
      "Data loading time: 0.0022 seconds\n",
      "Inference time: 6.0021 seconds\n"
     ]
    },
    {
     "data": {
      "text/plain": [
       "(array([2, 1, 1, 0, 2, 0, 2, 1, 3, 1, 2, 2, 2, 2, 1, 0, 2, 0, 1, 2, 2, 1,\n",
       "        3, 0, 3, 3, 0, 0, 3, 3, 2, 3, 3, 0, 2, 3, 3, 0, 3, 3, 2, 3, 2, 0,\n",
       "        2, 1, 1, 1, 2, 3, 1, 0, 1, 1, 1, 1, 2, 1, 3, 2, 2, 2, 3, 1, 3, 0,\n",
       "        3, 1, 3, 0, 0, 3, 0, 3, 2, 0, 2, 1, 1, 2, 0, 2, 3, 3, 0, 1, 0, 1,\n",
       "        2, 0, 1, 1, 0, 2, 0, 3, 2, 2, 3, 3, 2, 3, 3, 2]),\n",
       " array([2, 1, 1, 0, 2, 0, 2, 1, 3, 1, 2, 2, 2, 2, 1, 0, 2, 0, 1, 2, 2, 1,\n",
       "        3, 0, 3, 3, 0, 0, 3, 3, 2, 3, 3, 0, 2, 3, 3, 0, 3, 3, 2, 3, 2, 0,\n",
       "        2, 1, 1, 1, 2, 3, 1, 0, 1, 1, 1, 1, 2, 1, 3, 2, 2, 2, 3, 1, 3, 0,\n",
       "        3, 1, 3, 0, 0, 3, 0, 3, 2, 0, 2, 1, 1, 2, 0, 2, 3, 3, 0, 1, 0, 1,\n",
       "        2, 0, 1, 1, 0, 2, 0, 3, 2, 2, 3, 3, 2, 3, 3, 2]),\n",
       " array([[3.76591869e-09, 2.97497443e-10, 1.00000000e+00, 2.28779651e-11],\n",
       "        [2.50427523e-09, 9.99997020e-01, 6.65920425e-07, 2.28972954e-06],\n",
       "        [2.16458032e-11, 1.00000000e+00, 2.76263523e-09, 4.90815344e-09],\n",
       "        [1.00000000e+00, 1.07120571e-11, 6.95417821e-11, 3.47314510e-10],\n",
       "        [5.06372317e-06, 4.09640109e-08, 9.99994755e-01, 2.14708137e-07],\n",
       "        [9.99997616e-01, 2.65895483e-08, 2.31271952e-06, 9.61842659e-08],\n",
       "        [1.86882482e-06, 1.64413905e-08, 9.99998093e-01, 2.84117512e-08],\n",
       "        [5.25502379e-08, 9.99982238e-01, 1.45083277e-05, 3.22703340e-06],\n",
       "        [1.07251356e-06, 1.39733530e-07, 3.31764589e-08, 9.99998808e-01],\n",
       "        [1.09579298e-06, 9.99305129e-01, 1.54114423e-05, 6.78265467e-04],\n",
       "        [2.10609113e-10, 2.51702409e-10, 1.00000000e+00, 8.32347039e-12],\n",
       "        [1.24352018e-09, 1.17302584e-10, 1.00000000e+00, 3.00148725e-11],\n",
       "        [1.09872111e-07, 2.68624190e-09, 9.99999881e-01, 7.27645943e-10],\n",
       "        [1.48321200e-09, 2.38186165e-10, 1.00000000e+00, 3.77002561e-11],\n",
       "        [3.70179868e-15, 1.00000000e+00, 4.00197887e-12, 6.37834533e-12],\n",
       "        [9.99995351e-01, 8.81873845e-08, 3.87539103e-06, 5.94201651e-07],\n",
       "        [1.67278663e-10, 2.58564784e-11, 1.00000000e+00, 2.77161388e-12],\n",
       "        [1.00000000e+00, 4.05635907e-11, 1.27515043e-09, 2.09250131e-10],\n",
       "        [8.91233254e-10, 9.99998331e-01, 1.58673674e-06, 1.46923995e-07],\n",
       "        [1.76962640e-04, 5.13937721e-07, 9.99819100e-01, 3.46076763e-06],\n",
       "        [5.34240608e-05, 2.18515012e-07, 9.99945998e-01, 3.75807389e-07],\n",
       "        [8.90149288e-09, 9.99997735e-01, 6.43718920e-07, 1.65849940e-06],\n",
       "        [1.61024150e-06, 9.29921407e-06, 3.47593499e-07, 9.99988794e-01],\n",
       "        [1.00000000e+00, 1.92934307e-10, 1.12397991e-09, 1.35192133e-08],\n",
       "        [2.83308509e-06, 1.03237096e-06, 4.55139606e-08, 9.99996066e-01],\n",
       "        [3.60086599e-10, 1.83433935e-10, 4.14542289e-11, 1.00000000e+00],\n",
       "        [9.99998808e-01, 2.27897807e-08, 2.17235154e-07, 9.40933319e-07],\n",
       "        [1.00000000e+00, 3.16455959e-11, 3.16545484e-10, 7.51993329e-11],\n",
       "        [2.02204404e-08, 1.08891305e-08, 2.26568675e-09, 1.00000000e+00],\n",
       "        [4.74247130e-08, 2.58202815e-09, 4.03477113e-10, 1.00000000e+00],\n",
       "        [6.66085009e-09, 1.79926574e-09, 1.00000000e+00, 3.12086385e-10],\n",
       "        [2.65279027e-07, 4.45246201e-07, 3.35884209e-08, 9.99999166e-01],\n",
       "        [3.61077994e-08, 4.14569623e-09, 2.50894749e-10, 1.00000000e+00],\n",
       "        [9.99999881e-01, 1.31554572e-08, 5.30260031e-08, 1.11020405e-07],\n",
       "        [2.20718643e-09, 3.41484584e-11, 1.00000000e+00, 1.76851971e-11],\n",
       "        [2.01460080e-06, 3.14158501e-06, 6.40872599e-07, 9.99994278e-01],\n",
       "        [6.01166850e-09, 7.85797116e-09, 8.07222456e-10, 1.00000000e+00],\n",
       "        [9.99999881e-01, 1.28856559e-09, 1.52549511e-08, 7.13873618e-08],\n",
       "        [6.43655255e-07, 3.45520135e-07, 5.74672008e-08, 9.99998927e-01],\n",
       "        [1.65550205e-08, 7.55360752e-09, 1.89225080e-09, 1.00000000e+00],\n",
       "        [1.09808107e-09, 3.32059685e-10, 1.00000000e+00, 5.01551266e-11],\n",
       "        [9.43454825e-09, 5.86668758e-09, 1.10124199e-09, 1.00000000e+00],\n",
       "        [2.40292164e-09, 3.85170978e-10, 1.00000000e+00, 8.61763438e-11],\n",
       "        [1.00000000e+00, 1.13135290e-09, 8.71721273e-09, 2.33735893e-08],\n",
       "        [2.34768677e-10, 8.01222907e-11, 1.00000000e+00, 5.05266835e-12],\n",
       "        [2.49166646e-07, 9.99870300e-01, 1.18837779e-04, 1.06527277e-05],\n",
       "        [7.52053194e-12, 1.00000000e+00, 2.86304802e-09, 1.93524086e-09],\n",
       "        [4.74513766e-13, 1.00000000e+00, 2.46579479e-10, 1.92778710e-10],\n",
       "        [2.00241934e-09, 4.92437313e-10, 1.00000000e+00, 6.57216365e-11],\n",
       "        [1.85039013e-07, 1.69788091e-05, 3.14464017e-07, 9.99982595e-01],\n",
       "        [8.91939726e-06, 9.99787390e-01, 2.15998643e-05, 1.82141215e-04],\n",
       "        [1.00000000e+00, 1.25966418e-10, 1.99728040e-10, 4.18305168e-09],\n",
       "        [1.00341437e-11, 1.00000000e+00, 1.81997937e-08, 8.23695157e-09],\n",
       "        [3.13743025e-11, 1.00000000e+00, 6.46772458e-09, 4.44300241e-09],\n",
       "        [5.10217035e-10, 1.00000000e+00, 3.74503344e-08, 5.39373239e-08],\n",
       "        [1.94676740e-11, 1.00000000e+00, 7.81148124e-09, 7.78181020e-10],\n",
       "        [2.04304329e-09, 1.17471408e-10, 1.00000000e+00, 3.58183483e-11],\n",
       "        [4.10104423e-10, 9.99999523e-01, 3.33653503e-07, 6.80350354e-08],\n",
       "        [1.03443085e-08, 2.36800601e-09, 4.75504747e-10, 1.00000000e+00],\n",
       "        [8.71238015e-08, 3.46840210e-08, 9.99999881e-01, 6.60863586e-09],\n",
       "        [1.15939965e-05, 1.36698361e-07, 9.99988079e-01, 1.92463119e-07],\n",
       "        [1.10869847e-09, 1.36996040e-10, 1.00000000e+00, 2.61579734e-11],\n",
       "        [1.09076108e-08, 2.36254749e-09, 5.38726008e-10, 1.00000000e+00],\n",
       "        [3.72238143e-11, 1.00000000e+00, 4.27237801e-09, 6.52183418e-09],\n",
       "        [1.40630675e-07, 3.60502014e-07, 1.62821028e-08, 9.99999523e-01],\n",
       "        [9.99990940e-01, 1.78368123e-06, 2.01204239e-06, 5.28412238e-06],\n",
       "        [1.07435440e-07, 3.21279970e-07, 8.41813996e-09, 9.99999523e-01],\n",
       "        [1.54924876e-07, 9.99953270e-01, 3.78112345e-05, 8.77716411e-06],\n",
       "        [7.41896100e-09, 1.62374114e-09, 5.19158994e-10, 1.00000000e+00],\n",
       "        [1.00000000e+00, 5.19529475e-10, 5.92499427e-09, 2.46007903e-09],\n",
       "        [9.99997258e-01, 7.58267760e-08, 2.37694940e-06, 2.42727140e-07],\n",
       "        [1.10768394e-09, 9.42693368e-10, 8.53479926e-11, 1.00000000e+00],\n",
       "        [9.99990582e-01, 2.46140047e-07, 2.91709443e-06, 6.32501178e-06],\n",
       "        [8.50237001e-08, 1.27929923e-06, 8.60052118e-09, 9.99998569e-01],\n",
       "        [4.89233230e-07, 2.54787480e-09, 9.99999523e-01, 2.16577067e-09],\n",
       "        [1.00000000e+00, 9.70983797e-12, 1.13238217e-10, 1.61854558e-10],\n",
       "        [3.24552225e-08, 9.02774633e-10, 1.00000000e+00, 1.04209219e-09],\n",
       "        [9.04984638e-14, 1.00000000e+00, 8.51046456e-11, 5.55490723e-11],\n",
       "        [1.10087122e-11, 1.00000000e+00, 3.49455709e-09, 1.21183064e-09],\n",
       "        [3.15065472e-06, 6.56296795e-09, 9.99996901e-01, 1.40971581e-08],\n",
       "        [9.99998689e-01, 4.02594509e-08, 2.57067370e-07, 9.80435175e-07],\n",
       "        [3.81479487e-10, 2.39191609e-12, 1.00000000e+00, 5.31731289e-13],\n",
       "        [1.44846808e-07, 4.11456575e-08, 3.23847726e-09, 9.99999881e-01],\n",
       "        [1.13831490e-07, 1.25479076e-07, 1.45368144e-08, 9.99999762e-01],\n",
       "        [9.99989033e-01, 1.57508430e-06, 1.09947700e-06, 8.26986980e-06],\n",
       "        [7.56645506e-13, 1.00000000e+00, 2.98966740e-10, 3.87118282e-10],\n",
       "        [9.99974489e-01, 5.82879466e-07, 2.20774946e-05, 2.84745852e-06],\n",
       "        [1.38345849e-05, 9.97759700e-01, 6.10630086e-04, 1.61588355e-03],\n",
       "        [1.92347513e-10, 1.99549231e-12, 1.00000000e+00, 1.19568830e-12],\n",
       "        [9.99999523e-01, 8.74020056e-09, 3.76253212e-07, 9.27659443e-08],\n",
       "        [2.00074249e-10, 1.00000000e+00, 2.08414672e-08, 3.33552350e-08],\n",
       "        [1.71646690e-11, 1.00000000e+00, 3.61978381e-09, 2.67878231e-09],\n",
       "        [1.00000000e+00, 6.19804930e-10, 4.59784992e-08, 4.47958337e-09],\n",
       "        [1.05498401e-08, 1.43211598e-09, 1.00000000e+00, 3.09812509e-10],\n",
       "        [1.00000000e+00, 1.65759850e-10, 3.60294261e-09, 5.87026650e-10],\n",
       "        [5.89313220e-09, 7.35782546e-10, 4.45638415e-10, 1.00000000e+00],\n",
       "        [2.76811761e-07, 1.60379854e-09, 9.99999762e-01, 1.03201203e-09],\n",
       "        [7.99008149e-08, 4.95400054e-10, 9.99999881e-01, 4.28286767e-10],\n",
       "        [2.53620165e-08, 1.94965288e-09, 5.46290957e-10, 1.00000000e+00],\n",
       "        [3.78920367e-10, 2.15373400e-10, 4.72203804e-11, 1.00000000e+00],\n",
       "        [3.45709156e-10, 1.93175850e-10, 1.00000000e+00, 1.34315484e-11],\n",
       "        [1.54755796e-07, 1.78404457e-06, 1.64917680e-08, 9.99998093e-01],\n",
       "        [3.46025416e-07, 2.09496193e-06, 1.68183206e-07, 9.99997377e-01],\n",
       "        [4.52062832e-09, 2.30037767e-10, 1.00000000e+00, 7.98202754e-11]],\n",
       "       dtype=float32))"
      ]
     },
     "execution_count": 29,
     "metadata": {},
     "output_type": "execute_result"
    }
   ],
   "source": [
    "testing_model(test_model, test_loader, device='cuda:0')"
   ]
  },
  {
   "cell_type": "markdown",
   "metadata": {},
   "source": [
    "Напишем скрипты для отрисовки матрицы спутанности и кривой ROC-AUC."
   ]
  },
  {
   "cell_type": "code",
   "execution_count": 25,
   "metadata": {},
   "outputs": [],
   "source": [
    "def plot_confusion_matrix(y_true: np.array, y_pred: np.array):\n",
    "    \"\"\"\n",
    "    Строит матрицу ошибок (confusion matrix) для истинных и предсказанных меток.\n",
    "\n",
    "    :param y_true: array-like - истинные метки классов.\n",
    "    :param y_pred: array-like - предсказанные моделью метки классов.\n",
    "    \n",
    "    :return: None - функция строит и отображает матрицу ошибок в виде тепловой карты.\n",
    "    \"\"\"\n",
    "    cm = confusion_matrix(y_true, y_pred)\n",
    "    plt.figure(figsize=(8, 6))\n",
    "    sns.heatmap(cm, annot=True, fmt='d', cmap='Blues', xticklabels=[0, 90, 180, 270], yticklabels=[0, 90, 180, 270])\n",
    "    plt.xlabel('Predicted')\n",
    "    plt.ylabel('True')\n",
    "    plt.title('Confusion Matrix')\n",
    "    plt.show()\n",
    "\n",
    "def plot_multiclass_roc(y_true: np.array, y_score: np.array, num_classes: int, class_labels: list):\n",
    "    \"\"\"\n",
    "    Строит ROC-AUC кривые для многоклассовой классификации на основе истинных меток и предсказанных вероятностей.\n",
    "\n",
    "    :param y_true: np.array - массив истинных меток классов (целых чисел).\n",
    "    :param y_score: np.array - массив предсказанных вероятностей для каждого класса (размерностью [num_samples, num_classes]).\n",
    "    :param num_classes: int - количество классов для классификации.\n",
    "    :param class_labels: list - список меток классов для отображения на графике.\n",
    "    \n",
    "    :return: None - функция строит и отображает ROC-AUC кривые для каждого класса.\n",
    "\n",
    "    Пример работы:\n",
    "    - Бинаризует истинные метки классов с помощью label_binarize.\n",
    "    - Рассчитывает значения ROC-кривой (False Positive Rate и True Positive Rate) для каждого класса.\n",
    "    - Вычисляет площадь под кривой (AUC) для каждого класса.\n",
    "    - Строит и отображает ROC-AUC кривую для каждого класса с различными цветами, указывая AUC на графике.\n",
    "\n",
    "    Вывод:\n",
    "    - Отображает график ROC-AUC кривых для оценки качества модели в мультиклассовой классификации.\n",
    "    \"\"\"\n",
    "\n",
    "    # Бинаризация меток классов\n",
    "    y_true_bin = label_binarize(y_true, classes=np.arange(num_classes))\n",
    "    \n",
    "    # Инициализация словарей для хранения FPR, TPR и AUC для каждого класса\n",
    "    fpr = dict()\n",
    "    tpr = dict()\n",
    "    roc_auc = dict()\n",
    "\n",
    "    # Расчет ROC-кривых и AUC для каждого класса\n",
    "    for i in range(num_classes):\n",
    "        fpr[i], tpr[i], _ = roc_curve(y_true_bin[:, i], y_score[:, i])\n",
    "        roc_auc[i] = auc(fpr[i], tpr[i])\n",
    "\n",
    "    # Построение ROC кривых для каждого класса\n",
    "    plt.figure(figsize=(8, 6))\n",
    "    colors = cycle(['blue', 'green', 'red', 'cyan', 'magenta', 'yellow', 'black'])\n",
    "    for i, color in zip(range(num_classes), colors):\n",
    "        plt.plot(fpr[i], tpr[i], color=color, lw=2, label=f'Class {class_labels[i]} (AUC = {roc_auc[i]:.2f})')\n",
    "\n",
    "    # Добавление линии случайного угадывания\n",
    "    plt.plot([0, 1], [0, 1], 'k--', lw=2)\n",
    "\n",
    "    # Настройки осей и графика\n",
    "    plt.xlim([0.0, 1.0])\n",
    "    plt.ylim([0.0, 1.05])\n",
    "    plt.xlabel('False Positive Rate')\n",
    "    plt.ylabel('True Positive Rate')\n",
    "    plt.title('ROC-AUC Curve for Multiclass Classification')\n",
    "    plt.legend(loc=\"lower right\")\n",
    "    plt.show()"
   ]
  },
  {
   "cell_type": "markdown",
   "metadata": {},
   "source": [
    "Построим матрицу спутанности и кривую ROC_AUC."
   ]
  },
  {
   "cell_type": "code",
   "execution_count": 34,
   "metadata": {},
   "outputs": [
    {
     "name": "stdout",
     "output_type": "stream",
     "text": [
      "Validation Loss: 0.0042, Accuracy: 1.0000\n",
      "Data loading time: 0.0020 seconds\n",
      "Inference time: 6.1500 seconds\n"
     ]
    },
    {
     "data": {
      "image/png": "[encoded data removed]",
      "text/plain": [
       "<Figure size 800x600 with 2 Axes>"
      ]
     },
     "metadata": {},
     "output_type": "display_data"
    },
    {
     "data": {
      "image/png": "[encoded data removed]",
      "text/plain": [
       "<Figure size 800x600 with 1 Axes>"
      ]
     },
     "metadata": {},
     "output_type": "display_data"
    }
   ],
   "source": [
    "labels, predictions, probabilities = testing_model(test_model, test_loader, device)\n",
    "\n",
    "# Построение матрицы спутанности\n",
    "plot_confusion_matrix(labels, predictions)\n",
    "\n",
    "# Построение ROC-AUC кривой\n",
    "plot_multiclass_roc(labels, probabilities, num_classes=4, class_labels=[0, 90, 180, 270])"
   ]
  },
  {
   "cell_type": "markdown",
   "metadata": {},
   "source": [
    "Модель предсказала все классы верно, поэтому площадь под кривой равна 1."
   ]
  }
 ],
 "metadata": {
  "kernelspec": {
   "display_name": "base",
   "language": "python",
   "name": "python3"
  },
  "language_info": {
   "codemirror_mode": {
    "name": "ipython",
    "version": 3
   },
   "file_extension": ".py",
   "mimetype": "text/x-python",
   "name": "python",
   "nbconvert_exporter": "python",
   "pygments_lexer": "ipython3",
   "version": "3.12.5"
  }
 },
 "nbformat": 4,
 "nbformat_minor": 2
}
