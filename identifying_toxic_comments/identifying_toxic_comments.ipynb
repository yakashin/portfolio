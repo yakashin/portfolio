{
 "cells": [
  {
   "cell_type": "markdown",
   "id": "1e857b47",
   "metadata": {},
   "source": [
    "<h1>Содержание<span class=\"tocSkip\"></span></h1>\n",
    "<div class=\"toc\"><ul class=\"toc-item\"><li><span><a href=\"#Подготовка\" data-toc-modified-id=\"Подготовка-1\"><span class=\"toc-item-num\">1&nbsp;&nbsp;</span>Подготовка</a></span></li><li><span><a href=\"#Векторизация текстов\" data-toc-modified-id=\"Векторизация текстов-2\"><span class=\"toc-item-num\">2&nbsp;&nbsp;</span>Векторизация текстов</a></span></li><li><span><a href=\"#Выводы\" data-toc-modified-id=\"Выводы-3\"><span class=\"toc-item-num\">3&nbsp;&nbsp;</span>Выводы</a></span></li>"
   ]
  },
  {
   "cell_type": "markdown",
   "id": "be56935a",
   "metadata": {},
   "source": [
    "# Проект для интернет-магазина c нейросетью BERT"
   ]
  },
  {
   "cell_type": "markdown",
   "id": "52251414",
   "metadata": {},
   "source": [
    "Интернет-магазин «Викишоп» запускает новый сервис. Теперь пользователи могут редактировать и дополнять описания товаров, как в вики-сообществах. То есть клиенты предлагают свои правки и комментируют изменения других. Магазину нужен инструмент, который будет искать токсичные комментарии и отправлять их на модерацию. \n",
    "\n",
    "Задача: обучить модель классифицировать комментарии на позитивные и негативные. В распоряжении набор данных с разметкой о токсичности правок. \n",
    "\n",
    "Требование к результату: модель со значением метрики качества *F1* не меньше 0.75. Для выполнения проекта применять *BERT*.\n",
    "\n",
    "**Описание данных**\n",
    "\n",
    "Данные находятся в файле `toxic_comments.csv`. Столбец *text* в нём содержит текст комментария, а *toxic* — целевой признак."
   ]
  },
  {
   "cell_type": "markdown",
   "id": "02f47735",
   "metadata": {},
   "source": [
    "## Подготовка"
   ]
  },
  {
   "cell_type": "markdown",
   "id": "a8400615",
   "metadata": {},
   "source": [
    "Загружаем необходимые библиотеки."
   ]
  },
  {
   "cell_type": "code",
   "execution_count": 2,
   "id": "8765d0ab",
   "metadata": {},
   "outputs": [],
   "source": [
    "import numpy as np\n",
    "import pandas as pd\n",
    "import datetime as dt\n",
    "import matplotlib.pyplot as plt\n",
    "import torch\n",
    "import transformers\n",
    "from tqdm import notebook\n",
    "from tqdm.notebook import tqdm\n",
    "tqdm.pandas()\n",
    "\n",
    "from sklearn.linear_model import LogisticRegression, RidgeClassifier\n",
    "from sklearn.model_selection import cross_val_score\n",
    "from sklearn.model_selection import train_test_split\n",
    "from sklearn.utils import shuffle\n",
    "\n",
    "\n",
    "from sklearn.model_selection import train_test_split\n",
    "\n",
    "from sklearn.model_selection import KFold, cross_val_score\n",
    "from sklearn.metrics import (accuracy_score, recall_score, \n",
    "                             precision_score, f1_score, confusion_matrix, \n",
    "                             ConfusionMatrixDisplay, RocCurveDisplay,\n",
    "                             roc_auc_score, roc_curve, auc,\n",
    "                             precision_recall_curve, fbeta_score)\n",
    "\n",
    "from sklearn.compose import ColumnTransformer\n",
    "from sklearn.pipeline import Pipeline\n",
    "from category_encoders import TargetEncoder\n",
    "\n",
    "from catboost import CatBoostClassifier\n",
    "from xgboost import XGBClassifier\n",
    "from sklearn.tree import DecisionTreeClassifier\n",
    "from sklearn.ensemble import RandomForestClassifier\n",
    "from lightgbm import LGBMClassifier\n",
    "from sklearn.dummy import DummyClassifier\n",
    "\n",
    "import optuna\n",
    "from optuna.samplers import TPESampler\n",
    "\n",
    "RANDOM_STATE = 42"
   ]
  },
  {
   "cell_type": "markdown",
   "id": "b58282f1",
   "metadata": {},
   "source": [
    "Загружаем исходный датасет с облака. В качестве индексов выбирает 0 столбец."
   ]
  },
  {
   "cell_type": "code",
   "execution_count": 3,
   "id": "df2a5193",
   "metadata": {},
   "outputs": [],
   "source": [
    "df_tweets = pd.read_csv('...', index_col=[0])\n",
    "df_tweets.reset_index(drop=True, inplace=True)"
   ]
  },
  {
   "cell_type": "markdown",
   "id": "01c22f62",
   "metadata": {},
   "source": [
    "Получим информацию о датасете."
   ]
  },
  {
   "cell_type": "code",
   "execution_count": 4,
   "id": "a4ece9cf",
   "metadata": {},
   "outputs": [
    {
     "name": "stdout",
     "output_type": "stream",
     "text": [
      "<class 'pandas.core.frame.DataFrame'>\n",
      "RangeIndex: 159292 entries, 0 to 159291\n",
      "Data columns (total 2 columns):\n",
      " #   Column  Non-Null Count   Dtype \n",
      "---  ------  --------------   ----- \n",
      " 0   text    159292 non-null  object\n",
      " 1   toxic   159292 non-null  int64 \n",
      "dtypes: int64(1), object(1)\n",
      "memory usage: 2.4+ MB\n"
     ]
    }
   ],
   "source": [
    "df_tweets.info()"
   ]
  },
  {
   "cell_type": "markdown",
   "id": "b7cb53ec",
   "metadata": {},
   "source": [
    "Выведем случайные 20 строк, чтобы посмотреть с какими данными будем работать."
   ]
  },
  {
   "cell_type": "code",
   "execution_count": 5,
   "id": "503783c3",
   "metadata": {},
   "outputs": [
    {
     "data": {
      "text/html": [
       "<div>\n",
       "<style scoped>\n",
       "    .dataframe tbody tr th:only-of-type {\n",
       "        vertical-align: middle;\n",
       "    }\n",
       "\n",
       "    .dataframe tbody tr th {\n",
       "        vertical-align: top;\n",
       "    }\n",
       "\n",
       "    .dataframe thead th {\n",
       "        text-align: right;\n",
       "    }\n",
       "</style>\n",
       "<table border=\"1\" class=\"dataframe\">\n",
       "  <thead>\n",
       "    <tr style=\"text-align: right;\">\n",
       "      <th></th>\n",
       "      <th>text</th>\n",
       "      <th>toxic</th>\n",
       "    </tr>\n",
       "  </thead>\n",
       "  <tbody>\n",
       "    <tr>\n",
       "      <th>76428</th>\n",
       "      <td>, it is understandable</td>\n",
       "      <td>0</td>\n",
       "    </tr>\n",
       "    <tr>\n",
       "      <th>150411</th>\n",
       "      <td>Anatomy Picture\\nThe woman in this picture as ...</td>\n",
       "      <td>0</td>\n",
       "    </tr>\n",
       "    <tr>\n",
       "      <th>71032</th>\n",
       "      <td>\"\\n\\nFurther since there are so many Arabs in ...</td>\n",
       "      <td>0</td>\n",
       "    </tr>\n",
       "    <tr>\n",
       "      <th>80989</th>\n",
       "      <td>Actually consensus was no consensus and so I m...</td>\n",
       "      <td>0</td>\n",
       "    </tr>\n",
       "    <tr>\n",
       "      <th>148413</th>\n",
       "      <td>\"\\n\\n File:JohnServo.jpg listed for deletion \\...</td>\n",
       "      <td>0</td>\n",
       "    </tr>\n",
       "    <tr>\n",
       "      <th>102467</th>\n",
       "      <td>Radio Series \\nDon't know if its worth adding ...</td>\n",
       "      <td>0</td>\n",
       "    </tr>\n",
       "    <tr>\n",
       "      <th>67832</th>\n",
       "      <td>About Wikipedia:Articles for deletion/Jurong E...</td>\n",
       "      <td>0</td>\n",
       "    </tr>\n",
       "    <tr>\n",
       "      <th>65785</th>\n",
       "      <td>I've fixed the problem, see User:Lunchboxhero/...</td>\n",
       "      <td>0</td>\n",
       "    </tr>\n",
       "    <tr>\n",
       "      <th>69241</th>\n",
       "      <td>That is completely irrelevant. The fact is tha...</td>\n",
       "      <td>0</td>\n",
       "    </tr>\n",
       "    <tr>\n",
       "      <th>146007</th>\n",
       "      <td>MATE JUST GO SCREW YOURSELF OK. If you want to...</td>\n",
       "      <td>1</td>\n",
       "    </tr>\n",
       "    <tr>\n",
       "      <th>115462</th>\n",
       "      <td>People who don't want that people need to look...</td>\n",
       "      <td>0</td>\n",
       "    </tr>\n",
       "    <tr>\n",
       "      <th>53719</th>\n",
       "      <td>\"\\n\\nI fail to see how asking a question can b...</td>\n",
       "      <td>0</td>\n",
       "    </tr>\n",
       "    <tr>\n",
       "      <th>127719</th>\n",
       "      <td>Introduction \\n\\nI've read and understand the ...</td>\n",
       "      <td>0</td>\n",
       "    </tr>\n",
       "    <tr>\n",
       "      <th>82196</th>\n",
       "      <td>Italy? \\n\\nWhy did Italy disappear?  It was a ...</td>\n",
       "      <td>0</td>\n",
       "    </tr>\n",
       "    <tr>\n",
       "      <th>123782</th>\n",
       "      <td>as to whether GW added SHMG to presidential oa...</td>\n",
       "      <td>0</td>\n",
       "    </tr>\n",
       "    <tr>\n",
       "      <th>21257</th>\n",
       "      <td>\"\\n\\nFor the record, below is the controversia...</td>\n",
       "      <td>0</td>\n",
       "    </tr>\n",
       "    <tr>\n",
       "      <th>125675</th>\n",
       "      <td>\"\\nI am well-aware of potential edit warring, ...</td>\n",
       "      <td>0</td>\n",
       "    </tr>\n",
       "    <tr>\n",
       "      <th>138672</th>\n",
       "      <td>any chance \\n\\nyou can fix this? pretty much n...</td>\n",
       "      <td>0</td>\n",
       "    </tr>\n",
       "    <tr>\n",
       "      <th>107104</th>\n",
       "      <td>Interference \\n\\nPlaease do not interfere in t...</td>\n",
       "      <td>0</td>\n",
       "    </tr>\n",
       "    <tr>\n",
       "      <th>6848</th>\n",
       "      <td>why did you remove 'Hyderabad,Pakistan' edit? ...</td>\n",
       "      <td>0</td>\n",
       "    </tr>\n",
       "  </tbody>\n",
       "</table>\n",
       "</div>"
      ],
      "text/plain": [
       "                                                     text  toxic\n",
       "76428                              , it is understandable      0\n",
       "150411  Anatomy Picture\\nThe woman in this picture as ...      0\n",
       "71032   \"\\n\\nFurther since there are so many Arabs in ...      0\n",
       "80989   Actually consensus was no consensus and so I m...      0\n",
       "148413  \"\\n\\n File:JohnServo.jpg listed for deletion \\...      0\n",
       "102467  Radio Series \\nDon't know if its worth adding ...      0\n",
       "67832   About Wikipedia:Articles for deletion/Jurong E...      0\n",
       "65785   I've fixed the problem, see User:Lunchboxhero/...      0\n",
       "69241   That is completely irrelevant. The fact is tha...      0\n",
       "146007  MATE JUST GO SCREW YOURSELF OK. If you want to...      1\n",
       "115462  People who don't want that people need to look...      0\n",
       "53719   \"\\n\\nI fail to see how asking a question can b...      0\n",
       "127719  Introduction \\n\\nI've read and understand the ...      0\n",
       "82196   Italy? \\n\\nWhy did Italy disappear?  It was a ...      0\n",
       "123782  as to whether GW added SHMG to presidential oa...      0\n",
       "21257   \"\\n\\nFor the record, below is the controversia...      0\n",
       "125675  \"\\nI am well-aware of potential edit warring, ...      0\n",
       "138672  any chance \\n\\nyou can fix this? pretty much n...      0\n",
       "107104  Interference \\n\\nPlaease do not interfere in t...      0\n",
       "6848    why did you remove 'Hyderabad,Pakistan' edit? ...      0"
      ]
     },
     "execution_count": 5,
     "metadata": {},
     "output_type": "execute_result"
    }
   ],
   "source": [
    "df_tweets.sample(20)"
   ]
  },
  {
   "cell_type": "markdown",
   "id": "579ec592",
   "metadata": {},
   "source": [
    "В текстах кроме букв и слов имеются символы, ошибки в написании слов, сокращения слов. Данные ошибки необходимо исправлять. \n",
    "\n",
    "Перед разметкой датасета необходимо:\n",
    "- Удалить стоп-слов;\n",
    "- Леммантизировать текст;\n",
    "- Очистить от символов.\n",
    "\n",
    "Так как в проекте будет использована нейросеть BERT, разработки компании Google, то необходимость в леммантизации текстов отпадает, так как эта нейросеть отлично работает с \"сырым\" текстом."
   ]
  },
  {
   "cell_type": "markdown",
   "id": "6b9ca5de",
   "metadata": {},
   "source": [
    "## Векторизация текстов"
   ]
  },
  {
   "cell_type": "markdown",
   "id": "21f4ab3e",
   "metadata": {},
   "source": [
    "Выполнение задачи получения embeddings требует большого количества вычислительных процессов. Для ускорения используют вычисления на GPU.\n",
    "\n",
    "Для работы с GPU проверим, корректно ли подключено устройство."
   ]
  },
  {
   "cell_type": "code",
   "execution_count": 6,
   "id": "e8a32073",
   "metadata": {},
   "outputs": [
    {
     "name": "stdout",
     "output_type": "stream",
     "text": [
      "cuda:0\n",
      "NVIDIA GeForce GTX 1650\n"
     ]
    }
   ],
   "source": [
    "device = torch.device(\"cuda:0\") if torch.cuda.is_available() else torch.device(\"cpu\")\n",
    "print(device)\n",
    "print(torch.cuda.get_device_name()) "
   ]
  },
  {
   "cell_type": "markdown",
   "id": "95c5e147",
   "metadata": {},
   "source": [
    "Устройство подключено корректно, можно приступать к преобразованию текстов."
   ]
  },
  {
   "cell_type": "code",
   "execution_count": 7,
   "id": "6f0e98c1",
   "metadata": {},
   "outputs": [
    {
     "name": "stdout",
     "output_type": "stream",
     "text": [
      "5000\n"
     ]
    }
   ],
   "source": [
    "print(df_tweets['text'].str.len().max())"
   ]
  },
  {
   "cell_type": "markdown",
   "id": "305af4db",
   "metadata": {},
   "source": [
    "В датасете некоторые тексты достигают длину около 5 000 символов. При этом нейросеть BERT работает с максимальной длиной 512 символов. Поэтому используем аргумент truncation=True в токенизаторе, который обрежет текст до максимального количества символов."
   ]
  },
  {
   "cell_type": "markdown",
   "id": "445242d4",
   "metadata": {},
   "source": [
    "Инициализируем токенизатор как объект класса BertTokenizer(). Передадим ему аргумент vocab_file предварительно скачанный с hugging face.\n",
    "\n",
    "Преобразуем текст в номера токенов из словаря методом encode() с добавоением спец токенов. К данным текстам применим функцию обрезки по количеству символов.\n",
    "\n",
    "Применим метод padding, чтобы после токенизации длины исходных текстов в корпусе были равными. Только при таком условии будет работать модель BERT. Пусть стандартной длиной вектора n будет длина наибольшего во всём датасете вектора. Остальные векторы дополним нулями.\n",
    "\n",
    "Теперь поясним модели, что нули не несут значимой информации. Это нужно для компоненты модели, которая называется attention_mask. Отбросим эти токены и «создадим маску» для действительно важных токенов, то есть укажем нулевые и не нулевые значения."
   ]
  },
  {
   "cell_type": "code",
   "execution_count": 9,
   "id": "b3800de2",
   "metadata": {},
   "outputs": [],
   "source": [
    "#Загружаем предобученный токенизатор BERT\n",
    "model_path = 'JungleLee/bert-toxic-comment-classification'\n",
    "tokenizer = transformers.BertTokenizer.from_pretrained(model_path)\n",
    "\n",
    "#Трансформируем текст моделью BERT с усечением текста\n",
    "tokenized = df_tweets['text'].progress_apply(\n",
    "            lambda x: tokenizer.encode(x, add_special_tokens=True, truncation=True))\n",
    "\n",
    "#Выбираем максимальную длину текста\n",
    "max_len = 0\n",
    "for i in tokenized.values:\n",
    "    if len(i) > max_len:\n",
    "        max_len = len(i)\n",
    "\n",
    "# Для текстов длиной меньше max_len применяет отступы        \n",
    "padded = np.array([i + [0]*(max_len - len(i)) for i in tokenized.values])\n",
    "\n",
    "# Создаем маску attention\n",
    "attention_mask = np.where(padded != 0, 1, 0)"
   ]
  },
  {
   "cell_type": "markdown",
   "id": "8bf9bb83",
   "metadata": {},
   "source": [
    "Инициализируем конфигурацию BertConfig. В качестве аргумента передадим ей JSON-файл с описанием настроек модели предварительно скаченного с hugging face. \n",
    "\n",
    "Затем инициализируем саму модель класса BertModel. Передадим ей файл с предобученной моделью и конфигурацией. Можно было вместо указания локального файла использовать код аналогично токенизатору, но постоянно загружать по 500 МБ файлов не вариант."
   ]
  },
  {
   "cell_type": "code",
   "execution_count": 10,
   "id": "754d31f5",
   "metadata": {},
   "outputs": [],
   "source": [
    "# Загружаем модель BERT\n",
    "model = transformers.BertModel.from_pretrained(model_path)"
   ]
  },
  {
   "cell_type": "markdown",
   "id": "4d1ac00d",
   "metadata": {},
   "source": [
    "Embeddings модель BERT создаёт батчами. Чтобы хватило памяти видеокарты, сделаем размер батча небольшим - равным 100.\n",
    "\n",
    "Сделаем цикл по батчам. Отображать прогресс будет функция notebook(), таким образом мы сможем в реальном времени видеть сколько тратится времени на каждый батч, прогресс и сколько осталось времени до конца работы цикла. \n",
    "\n",
    "Преобразуем данные в формат тензоров в библиотеке torch. Тип данных LongTensor хранит числа в «длинном формате», то есть выделяет на каждое число 64 бита. Чтобы получить эмбеддинги для батча, передадим модели данные и маску.\n",
    "\n",
    "Для ускорения вычисления функцией no_grad() в библиотеке torch укажем, что градиенты не нужны: модель BERT обучать не будем.\n",
    "\n",
    "Из полученного тензора извлечём нужные элементы и добавим в список всех эмбеддингов.\n",
    "\n",
    "Весь цикл выполняется с помощью GPU, поэтому батчи, маску и модель необходимо загрузить в GPU. А после добавлять embeddings на CPU."
   ]
  },
  {
   "cell_type": "code",
   "execution_count": 11,
   "id": "a3a8fa61",
   "metadata": {},
   "outputs": [],
   "source": [
    "#Код закомменчен, так как выполняется в течении 13 часов и результат сохранен в локальном файле\n",
    "\n",
    "batch_size = 100\n",
    "embeddings = []\n",
    "for i in notebook.tqdm(range(padded.shape[0] // batch_size)):\n",
    "        batch = torch.LongTensor(padded[batch_size*i:batch_size*(i+1)]).to(device) \n",
    "        attention_mask_batch = torch.LongTensor(attention_mask[batch_size*i:batch_size*(i+1)]).to(device)\n",
    "        \n",
    "        with torch.no_grad():\n",
    "            model.to(device)\n",
    "            batch_embeddings = model(batch, attention_mask=attention_mask_batch)\n",
    "        \n",
    "        embeddings.append(batch_embeddings[0][:,0,:].cpu().numpy())"
   ]
  },
  {
   "cell_type": "markdown",
   "id": "a3d70571",
   "metadata": {},
   "source": [
    "Соберём все эмбеддинги в матрицу признаков вызовом функции concatenate():"
   ]
  },
  {
   "cell_type": "code",
   "execution_count": 12,
   "id": "66d4ecad",
   "metadata": {},
   "outputs": [],
   "source": [
    "features = np.concatenate(embeddings)"
   ]
  },
  {
   "cell_type": "markdown",
   "id": "ae39b809",
   "metadata": {},
   "source": [
    "Далее сохраним полученные embeddings и attention_mask в файл. Таким образом при перезагрузке тетради, данные не потеряются."
   ]
  },
  {
   "cell_type": "code",
   "execution_count": 13,
   "id": "6b8a8e4a",
   "metadata": {},
   "outputs": [],
   "source": [
    "np.save('features', features)\n",
    "np.save('attention_mask', attention_mask)"
   ]
  },
  {
   "cell_type": "markdown",
   "id": "b609bdd0",
   "metadata": {},
   "source": [
    "## Подготовка признаков для классификации"
   ]
  },
  {
   "cell_type": "markdown",
   "id": "dfeb7f5f",
   "metadata": {},
   "source": [
    "Загружаем признаки из файл, который получили в предыдущем разделе."
   ]
  },
  {
   "cell_type": "code",
   "execution_count": 14,
   "id": "a7e233e8",
   "metadata": {},
   "outputs": [],
   "source": [
    "# Загружаем предварительно полученные embeddings\n",
    "features = pd.DataFrame(np.load('features2.npy'))"
   ]
  },
  {
   "cell_type": "markdown",
   "id": "7d9bce71",
   "metadata": {},
   "source": [
    "Делим данные на тренировочный и тестовый датасеты в соотношении 9:1. В процессе создания embeddings получены признаки для 159 200 текстов, поэтому в качестве целевого признака возьмем аналогичное количество строк. Потеря 92 признаков не повлияет на качество предсказание модели классификации. "
   ]
  },
  {
   "cell_type": "code",
   "execution_count": 15,
   "id": "13deb2f0",
   "metadata": {},
   "outputs": [],
   "source": [
    "(train_features, test_features, \n",
    " train_target, test_target) = train_test_split(features, df_tweets['toxic'][:159200], \n",
    "                                               test_size=0.1, random_state=RANDOM_STATE,\n",
    "                                               stratify=df_tweets['toxic'][:159200])"
   ]
  },
  {
   "cell_type": "markdown",
   "id": "00e4bd59",
   "metadata": {},
   "source": [
    "Проверяем соотношение классов в тренировочной выборке."
   ]
  },
  {
   "cell_type": "code",
   "execution_count": 16,
   "id": "27841e54",
   "metadata": {},
   "outputs": [
    {
     "data": {
      "text/plain": [
       "0    128718\n",
       "1     14562\n",
       "Name: toxic, dtype: int64"
      ]
     },
     "execution_count": 16,
     "metadata": {},
     "output_type": "execute_result"
    }
   ],
   "source": [
    "train_target.value_counts()"
   ]
  },
  {
   "cell_type": "code",
   "execution_count": 17,
   "id": "d28df4e0",
   "metadata": {},
   "outputs": [
    {
     "data": {
      "text/plain": [
       "0    14302\n",
       "1     1618\n",
       "Name: toxic, dtype: int64"
      ]
     },
     "execution_count": 17,
     "metadata": {},
     "output_type": "execute_result"
    }
   ],
   "source": [
    "test_target.value_counts()"
   ]
  },
  {
   "cell_type": "markdown",
   "id": "6bede74b",
   "metadata": {},
   "source": [
    "## Борьба с дисбалансом классов"
   ]
  },
  {
   "cell_type": "markdown",
   "id": "37d75ba1",
   "metadata": {},
   "source": [
    "Так как нам важно предсказать токсичные твиты, а количество твитов с классом 1 почти в 9 раз меньше класса 0, необходимо применить методы борьбы с дисбалансом. В данном проекте применим следующие методы:\n",
    "- upsampling - повторение несколько раз редкого класса. В нашем случае повторение класса \"токсичных\" твитов. Алгоритм преобразования upsampling выглядит следующим образом: деление выборки на отрицательные и положительные объекты, скопирование несколько раз положительных объектов, с учетом полученных данных создание новой выборки, перемешивание данных;\n",
    "- downsampling - уменьшение в выборке частого класса. Алгоритм преобразования downsampling похож на upsampling и выглядит следующим образом: деление выборки на отрицательные и положительные объекты, случайным образом отбросить часть отрицательных значений, с учетом полученных данных создание новой выборки, перемешивание данных."
   ]
  },
  {
   "cell_type": "markdown",
   "id": "4b1d5dba",
   "metadata": {},
   "source": [
    "### Upsampling"
   ]
  },
  {
   "cell_type": "markdown",
   "id": "a0be7da9",
   "metadata": {},
   "source": [
    "Upsampling - увеличение в n раз наименьшего класса. Преобразование проходит в несколько этапов:\n",
    "- Разделить обучающую выборку на отрицательные и положительные объекты;\n",
    "- Скопировать несколько раз положительные объекты;\n",
    "- С учётом полученных данных создать новую обучающую выборку;\n",
    "- Перемешать данные.\n",
    "\n",
    "Напишем функцию выполняющую данное преобразование."
   ]
  },
  {
   "cell_type": "code",
   "execution_count": 18,
   "id": "634c24bf",
   "metadata": {},
   "outputs": [],
   "source": [
    "# Создаем функцию преобразования Upsampling\n",
    "def upsample(features, target, repeat):\n",
    "    features_zeros = features[target == 0]       # Выбираем признаки с целевым значением 0\n",
    "    features_ones = features[target == 1]        # Выбираем признаки с целевым значением 0\n",
    "    target_zeros = target[target == 0]           # Выбираем целевой признак равный 0\n",
    "    target_ones = target[target == 1]            # Выбираем целевой признак равный 0\n",
    "\n",
    "    # Соединяем оба класса с учетом копирования наименьшего repeat раз\n",
    "    features_upsampled = pd.concat([features_zeros] + [features_ones] * repeat)\n",
    "    target_upsampled = pd.concat([target_zeros] + [target_ones] * repeat)\n",
    "    # Перемешиваем данные\n",
    "    features_upsampled, target_upsampled = shuffle(\n",
    "        features_upsampled, target_upsampled, random_state=RANDOM_STATE)\n",
    "    # Возвращаем перемешанные данные на выход\n",
    "    return features_upsampled, target_upsampled"
   ]
  },
  {
   "cell_type": "markdown",
   "id": "324ef238",
   "metadata": {},
   "source": [
    "Оценку результатов применения методов борьбы с дисбалансом проведем на тестовой модели после подбора оптимальных гиперпараметров."
   ]
  },
  {
   "cell_type": "markdown",
   "id": "5a06c406",
   "metadata": {},
   "source": [
    "### Downsampling"
   ]
  },
  {
   "cell_type": "markdown",
   "id": "dd34a6fc",
   "metadata": {},
   "source": [
    "Downsampling - удаление части наибольшего класса. Преобразование проходит в несколько этапов:\n",
    "- Разделить обучающую выборку на отрицательные и положительные объекты;\n",
    "- Случайным образом отбросить часть из отрицательных объектов;\n",
    "- С учётом полученных данных создать новую обучающую выборку;\n",
    "- Перемешать данные. Положительные не должны идти следом за отрицательными: алгоритмам будет сложнее обучаться.\n",
    "\n",
    "Напишем функцию выполняющую данное преобразование."
   ]
  },
  {
   "cell_type": "code",
   "execution_count": 19,
   "id": "044cfa6c",
   "metadata": {},
   "outputs": [],
   "source": [
    "# Создаем функцию преобразования downsampling\n",
    "def downsample(features, target, fraction):\n",
    "    features_zeros = features[target == 0]       # Выбираем признаки с целевым значением 0\n",
    "    features_ones = features[target == 1]        # Выбираем признаки с целевым значением 0\n",
    "    target_zeros = target[target == 0]           # Выбираем целевой признак равный 0\n",
    "    target_ones = target[target == 1]            # Выбираем целевой признак равный 0\n",
    "\n",
    "    # Соединяем оба класса с учетом уменьшения наибольшего класса\n",
    "    features_downsampled = pd.concat(\n",
    "        [features_zeros.sample(frac=fraction, random_state=RANDOM_STATE)] + [features_ones])\n",
    "    target_downsampled = pd.concat(\n",
    "        [target_zeros.sample(frac=fraction, random_state=RANDOM_STATE)] + [target_ones])\n",
    "    # Перемешиваем данные\n",
    "    features_downsampled, target_downsampled = shuffle(\n",
    "        features_downsampled, target_downsampled, random_state=RANDOM_STATE)\n",
    "    # Возвращаем перемешанные данные на выход\n",
    "    return features_downsampled, target_downsampled"
   ]
  },
  {
   "cell_type": "markdown",
   "id": "fc9a383d",
   "metadata": {},
   "source": [
    "Оценку результатов применения методов борьбы с дисбалансом проведем на тестовой модели после подбора оптимальных гиперпараметров."
   ]
  },
  {
   "cell_type": "markdown",
   "id": "d9160658",
   "metadata": {},
   "source": [
    "## Подбор гиперпараметров модели"
   ]
  },
  {
   "cell_type": "markdown",
   "id": "6921fae4",
   "metadata": {},
   "source": [
    "С целью улучшения результатов моделей необходимо провести подбор оптимальных гиперпараметров. Для этого есть несколько решений.\n",
    "\n",
    "**Grid Search** \n",
    "\n",
    "Самый естественный способ организовать перебор наборов гиперпараметров — сделать перебор по сетке:\n",
    "- для каждого гиперпараметра фиксируется несколько значений;\n",
    "- перебираются все комбинации значений различных гиперпараметров, на каждой из этих комбинаций модель обучается и тестируется;\n",
    "- выбирается комбинация, на которой модель показывает лучшее значение метрики.\n",
    "\n",
    "Большой минус данного метода: если комбинаций параметров слишком много, либо каждое обучение длится долго, алгоритм не завершится за разумное время.\n",
    "\n",
    "**Random Search**\n",
    "\n",
    "Если количество комбинаций параметров очень большое, можно какими-то способами пытаться справляться с этой проблемой:\n",
    "\n",
    "- взять меньше значений каждого гиперпараметра, но тогда есть шансы пропустить наилучшую комбинацию;\n",
    "- уменьшить число фолдов в кросс-валидации, но оценка параметров станет более шумной;\n",
    "- оптимизировать параметры последовательно, а не перебирать их комбинации, но снова есть шанс получить неоптимальное решение;\n",
    "- перебирать не все комбинации гиперпараметров, а только случайное подмножество.\n",
    "\n",
    "Последний способ называется Random Search. Для каждого гиперпараметра задаётся распределение, из которого выбирается его значение, и комбинация гиперпараметров составляется семплированием из этих распределений. Таким образом, благодаря случайному выбору очередной комбинации гиперпараметров можно найти оптимальную комбинацию за меньшее число итераций.\n",
    "\n",
    "**Optuna**\n",
    "\n",
    "Другим методом подбора гиперпараметров является библиотека Optuna. **Optuna** — это фреймворк для для автоматизированного поиска оптимальных гиперпараметров для моделей машинного обучения. Она подбирает эти параметры методом проб и ошибок.\n",
    "\n",
    "Ключевые особенности фреймворка:\n",
    "- настраиваемое пространство поиска гиперпараметров. Разработчик может самостоятельно задать пространство для поиска гиперпараметров, используя базовый синтаксис Python (циклы, условия);\n",
    "- алгоритмы SoTA для выбора гиперпараметров из пространства заданного разработчиком (samplers) и для ранней остановки бесперспективных экспериментов (pruners). В Optuna представлены различные алгоритмы семплирования и прунинга, разработчик может выбрать какой-то конкретный, оставить дефолтный, или написать свой собственный;\n",
    "- легкость расспаралеливания процесса поиска гиперпараметров. Также к Optuna можно прикрутить dashboard с визуализацией обучения в реальном времени.\n",
    "\n",
    "Так же в Optunа можно добавить pipline и кросс-валидацию.\n",
    "\n",
    "Напишем фукнцию для перебора гиперпараметров. В функции имеется несколько моделей, но по скорости предсказания LGBM показывает лучший результат. Поэтому проведем подбор только с данной моделью. ~В качестве борьбы с дисбалансом используем метод downsample, так как он выдал результат немного лучше.~"
   ]
  },
  {
   "cell_type": "code",
   "execution_count": 20,
   "id": "c1f8709d",
   "metadata": {},
   "outputs": [],
   "source": [
    "def objective(trial: optuna.Trial):\n",
    "    \n",
    "    \n",
    "    model_type = trial.suggest_categorical(\"model_type\", [#\"XGBoost\", \n",
    "                                                          #\"CatBoost\", \n",
    "                                                          \"LightGBM\",\n",
    "                                                          #\"Tree\",\n",
    "                                                          #\"RandomForest\"\n",
    "                                                            ])\n",
    "    \n",
    "    if model_type == \"XGBoost\":\n",
    "        xgboost_params = {\n",
    "            'tree_method':'gpu_hist',  \n",
    "            'lambda': trial.suggest_float('lambda', 1e-3, 10.0, log=True),\n",
    "            'alpha': trial.suggest_float('alpha', 1e-3, 10.0, log=True),\n",
    "            'colsample_bytree': trial.suggest_float('colsample_bytree', 0.3, 1.0),\n",
    "            'subsample': trial.suggest_float('subsample', 0.4, 1.0),\n",
    "            'learning_rate': trial.suggest_float('learning_rate', 0.008, 0.02, log=True),\n",
    "            'n_estimators': trial.suggest_int('n_estimators', 1000, 5000),\n",
    "            'max_depth': trial.suggest_int('max_depth', 5, 20),\n",
    "            'min_child_weight': trial.suggest_float('min_child_weight', 0.001, 20),\n",
    "        }\n",
    "        \n",
    "        model = XGBClassifier(**xgboost_params, n_jobs=-1, random_state=RANDOM_STATE)\n",
    "        \n",
    "    \n",
    "    elif model_type == \"CatBoost\":\n",
    "        catboost_params = {\n",
    "            'iterations':trial.suggest_int(\"iterations\", 1000, 1500),\n",
    "            'od_wait':trial.suggest_int('od_wait', 100, 500),\n",
    "            'learning_rate' : trial.suggest_float('learning_rate',0.01, 0.1, log=True),\n",
    "            'reg_lambda': trial.suggest_float('reg_lambda',1e-5,100),\n",
    "            'depth': trial.suggest_int('depth',5, 16),\n",
    "            'min_data_in_leaf': trial.suggest_int('min_data_in_leaf', 10, 30),\n",
    "            'leaf_estimation_iterations': trial.suggest_int('leaf_estimation_iterations', 1, 15),\n",
    "        }\n",
    "\n",
    "        model = CatBoostClassifier(**catboost_params, silent=True, #task_type=\"GPU\", \n",
    "                                   random_state=RANDOM_STATE)\n",
    "\n",
    "    \n",
    "    elif model_type == \"LightGBM\":\n",
    "        lgbm_params = {\n",
    "            'max_depth': trial.suggest_int('max_depth', 5, 20),\n",
    "            'learning_rate': trial.suggest_float('learning_rate', 0.008, 0.1, log=True),\n",
    "            'n_estimators': trial.suggest_int('n_estimators', 100, 2000),\n",
    "            'min_child_weight': trial.suggest_float('min_child_weight', 0.001, 20),\n",
    "            'min_child_samples': trial.suggest_int('min_child_samples', 10, 200),\n",
    "            'lambda': trial.suggest_float('reg_lambda', 1e-3, 1.0)         \n",
    "        }\n",
    "        \n",
    "        model = LGBMClassifier(verbose=-1, **lgbm_params, n_jobs=-1, \n",
    "                               random_state=RANDOM_STATE, device='gpu')\n",
    "        \n",
    "        \n",
    "    elif model_type == \"Tree\":\n",
    "        tree_params = {\n",
    "            'max_depth': trial.suggest_int('max_depth',5, 20),\n",
    "            'min_samples_leaf': trial.suggest_int('min_samples_leaf', 1, 20),\n",
    "            'min_samples_split': trial.suggest_int('min_samples_split', 2, 20)\n",
    "            }\n",
    "\n",
    "        model = DecisionTreeClassifier(**tree_params, random_state=RANDOM_STATE)\n",
    "\n",
    "    \n",
    "    elif model_type == \"RandomForest\":\n",
    "        forest_params = {\n",
    "            'n_estimators':trial.suggest_int(\"n_estimators\", 1000, 2500),\n",
    "            'max_depth': trial.suggest_int('max_depth',5, 20),\n",
    "            'min_samples_leaf': trial.suggest_int('min_samples_leaf', 1, 20),\n",
    "            'min_samples_split': trial.suggest_int('min_samples_split', 2, 20)\n",
    "        }\n",
    "\n",
    "        model = RandomForestClassifier(**forest_params, n_jobs=-1, \n",
    "                                       random_state=RANDOM_STATE)\n",
    "\n",
    "       \n",
    "    pipe = Pipeline(steps=[\n",
    "        \n",
    "        (\"model\", model)\n",
    "    ])\n",
    "    cv = KFold(n_splits=3)\n",
    "    \n",
    "    score = cross_val_score(estimator=pipe,\n",
    "                            X=train_features,\n",
    "                            y=train_target,\n",
    "                            scoring='f1',\n",
    "                            cv=cv)\n",
    "    \n",
    "    trial.set_user_attr(\"model\", pipe)\n",
    "    trial.set_user_attr(\"cross_val_score\", score)\n",
    "    \n",
    "    f1_score = score.mean()\n",
    "    \n",
    "    return f1_score"
   ]
  },
  {
   "cell_type": "markdown",
   "id": "b9644054",
   "metadata": {},
   "source": [
    "Напишем функцию для вывода значений метрик при кросс-валидации."
   ]
  },
  {
   "cell_type": "code",
   "execution_count": 21,
   "id": "18e362ea",
   "metadata": {},
   "outputs": [],
   "source": [
    "# Определение Callback для вывода метрик\n",
    "def custom_callback(study: optuna.Study, trial: optuna.Trial):\n",
    "    trial.user_attrs[\"cross_val_score\"]\n",
    "    score = trial.user_attrs[\"cross_val_score\"]\n",
    "    print(f\"Trial {trial.number}: cross_val_score={score}\")"
   ]
  },
  {
   "cell_type": "markdown",
   "id": "229916c6",
   "metadata": {},
   "source": [
    "Samplers в Optuna это набор алгоритмов для поиска гиперпараметров. Зададим поиск гиперпараметров с максимизацией метрики, sampler - TPESampler, pruner - HyperbandPruner. \n",
    "\n",
    "Samplers в Optuna это набор алгоритмов для поиска гиперпараметров. \n",
    "\n",
    "Pruners в Optuna - это набор алгоритмов для прореживания экспериментов. Pruning - это механизм который позволяет обрывать эксперименты , которые с большой долей вероятности приведут к не оптимальным результатам.\n",
    "\n",
    "Так как каждая попытка предсказания занимает 3-5 минут, укажем малое количество попыток. На момент подготовки проекта количество попыток равнялось 50, среди них выбран лучший результат. "
   ]
  },
  {
   "cell_type": "code",
   "execution_count": 22,
   "id": "f85e1990",
   "metadata": {},
   "outputs": [
    {
     "name": "stderr",
     "output_type": "stream",
     "text": [
      "[I 2024-02-04 19:44:23,699] A new study created in memory with name: Pipeline_training_example_2024-02-04_19-44-23\n",
      "[I 2024-02-04 19:47:16,103] Trial 0 finished with value: 0.8830778136194258 and parameters: {'model_type': 'LightGBM', 'max_depth': 10, 'learning_rate': 0.08829539000587418, 'n_estimators': 1491, 'min_child_weight': 11.973571025456534, 'min_child_samples': 39, 'reg_lambda': 0.15683852581586644}. Best is trial 0 with value: 0.8830778136194258.\n"
     ]
    },
    {
     "name": "stdout",
     "output_type": "stream",
     "text": [
      "Trial 0: cross_val_score=[0.89001657 0.88307474 0.87614213]\n"
     ]
    },
    {
     "name": "stderr",
     "output_type": "stream",
     "text": [
      "[I 2024-02-04 19:49:07,680] Trial 1 finished with value: 0.8829492736720796 and parameters: {'model_type': 'LightGBM', 'max_depth': 5, 'learning_rate': 0.07131933323851132, 'n_estimators': 1242, 'min_child_weight': 14.161743483343113, 'min_child_samples': 13, 'reg_lambda': 0.9699399423098324}. Best is trial 0 with value: 0.8830778136194258.\n"
     ]
    },
    {
     "name": "stdout",
     "output_type": "stream",
     "text": [
      "Trial 1: cross_val_score=[0.89015544 0.8831961  0.87549628]\n"
     ]
    },
    {
     "name": "stderr",
     "output_type": "stream",
     "text": [
      "[I 2024-02-04 19:50:42,313] Trial 2 finished with value: 0.8859773068341174 and parameters: {'model_type': 'LightGBM', 'max_depth': 18, 'learning_rate': 0.013677505045234777, 'n_estimators': 445, 'min_child_weight': 3.6689067925588223, 'min_child_samples': 68, 'reg_lambda': 0.5252316752006057}. Best is trial 2 with value: 0.8859773068341174.\n"
     ]
    },
    {
     "name": "stdout",
     "output_type": "stream",
     "text": [
      "Trial 2: cross_val_score=[0.89241877 0.88548078 0.88003237]\n"
     ]
    },
    {
     "name": "stderr",
     "output_type": "stream",
     "text": [
      "[I 2024-02-04 19:54:28,707] Trial 3 finished with value: 0.8855879681320715 and parameters: {'model_type': 'LightGBM', 'max_depth': 11, 'learning_rate': 0.016693298027163676, 'n_estimators': 1263, 'min_child_weight': 2.7907377191801843, 'min_child_samples': 65, 'reg_lambda': 0.366995481450398}. Best is trial 2 with value: 0.8859773068341174.\n"
     ]
    },
    {
     "name": "stdout",
     "output_type": "stream",
     "text": [
      "Trial 3: cross_val_score=[0.89185553 0.88528906 0.87961932]\n"
     ]
    },
    {
     "name": "stderr",
     "output_type": "stream",
     "text": [
      "[I 2024-02-04 19:56:02,306] Trial 4 finished with value: 0.8818628106925334 and parameters: {'model_type': 'LightGBM', 'max_depth': 12, 'learning_rate': 0.0581242498601517, 'n_estimators': 479, 'min_child_weight': 10.285174533833818, 'min_child_samples': 123, 'reg_lambda': 0.047403962307277725}. Best is trial 2 with value: 0.8859773068341174.\n"
     ]
    },
    {
     "name": "stdout",
     "output_type": "stream",
     "text": [
      "Trial 4: cross_val_score=[0.88863589 0.88207929 0.87487325]\n"
     ]
    }
   ],
   "source": [
    "study = optuna.create_study(direction=\"maximize\", \n",
    "                            sampler = TPESampler(seed=RANDOM_STATE),\n",
    "                            pruner = optuna.pruners.HyperbandPruner(),\n",
    "                            study_name=f\"Pipeline_training_example_{dt.datetime.now().strftime('%Y-%m-%d_%H-%M-%S')}\")\n",
    "study.optimize(objective, n_trials=5, callbacks=[custom_callback])"
   ]
  },
  {
   "cell_type": "code",
   "execution_count": 23,
   "id": "04c78b9a",
   "metadata": {},
   "outputs": [
    {
     "name": "stdout",
     "output_type": "stream",
     "text": [
      "Best params:  {'model_type': 'LightGBM', 'max_depth': 18, 'learning_rate': 0.013677505045234777, 'n_estimators': 445, 'min_child_weight': 3.6689067925588223, 'min_child_samples': 68, 'reg_lambda': 0.5252316752006057}\n",
      "Best value:  0.8859773068341174\n"
     ]
    }
   ],
   "source": [
    "print(\"Best params: \", study.best_params)\n",
    "print(\"Best value: \", study.best_value)"
   ]
  },
  {
   "cell_type": "markdown",
   "id": "25e847f7",
   "metadata": {},
   "source": [
    "На 50 испытаниях получены следующие результаты:\n",
    "\n",
    "**Best params:**  {'model_type': 'LightGBM', 'max_depth': 12, 'learning_rate': 0.01102363250153261, 'n_estimators': 702, 'min_child_weight': 4.090774497250733, 'min_child_samples': 184, 'reg_lambda': 0.7605630867585721}\n",
    "\n",
    "**Best value:**  0.8867732427172056"
   ]
  },
  {
   "cell_type": "markdown",
   "id": "eca97412",
   "metadata": {},
   "source": [
    "Результат предсказаний можно сохранить на локальном компьютере для последующего использования."
   ]
  },
  {
   "cell_type": "code",
   "execution_count": 24,
   "id": "ae7a305d",
   "metadata": {},
   "outputs": [],
   "source": [
    "#import joblib\n",
    "\n",
    "#joblib.dump(study, 'experiments.pkl')"
   ]
  },
  {
   "cell_type": "markdown",
   "id": "1e7cfaef",
   "metadata": {},
   "source": [
    "## Тестирование модели"
   ]
  },
  {
   "cell_type": "markdown",
   "id": "92689d88",
   "metadata": {},
   "source": [
    "Для тестирования выбраны гиперпараметры модели с лучшим результатом на тренировочном датасете. Использована модель, подобранная на 50 испытаниях."
   ]
  },
  {
   "cell_type": "code",
   "execution_count": 25,
   "id": "7bc14876",
   "metadata": {},
   "outputs": [
    {
     "name": "stdout",
     "output_type": "stream",
     "text": [
      "Метрика Recall: 0.9004944375772559,\n",
      "Метрика F1 модели: 0.8889566809029896,\n",
      "Метрика ROC-AUC: 0.9948924480727324.\n"
     ]
    }
   ],
   "source": [
    "# Создаем модель с оптимальными гиперпараметрами\n",
    "best_model = LGBMClassifier(verbose=-1, random_state=RANDOM_STATE, max_depth=12,\n",
    "                            learning_rate=0.01102363250153261, n_estimators=702, \n",
    "                            min_child_weight=4.090774497250733, min_child_samples=184, \n",
    "                            reg_lambda=0.7605630867585721, device='gpu')\n",
    "\n",
    "best_model.fit(train_features, train_target)  # Обучаем модель\n",
    "prediction = best_model.predict(test_features)    # Предсказываем данные моделью\n",
    "result_f1 = f1_score(test_target, prediction) # Считаем f1-меру предсказаний модели\n",
    "recall = recall_score(test_target, prediction)        # Считаем recall предсказаний модели\n",
    "probabilities = best_model.predict_proba(test_features)[:,1] # Вероятность для ROC-AUC\n",
    "roc = roc_auc_score(test_target, probabilities) # Считаем метрику ROC-AUC модели\n",
    "\n",
    "print(f'Метрика Recall: {recall},')\n",
    "print(f'Метрика F1 модели: {result_f1},')\n",
    "print(f'Метрика ROC-AUC: {roc}.')"
   ]
  },
  {
   "cell_type": "markdown",
   "id": "32541a9b",
   "metadata": {},
   "source": [
    "Получаем метрику F1 равную **0.89**, что выше требуемого по заданию заказчика. Метрика Recall (доля правильных ответов положительного класса к общему количеству ответов положительного класса) равна **0.90**, что говорит о качественном предсказании положительного класса - токсичных твитах. Метрика ROC-AUC (площадь под кривой правильных ответов) равную **0.99**, но метрики Recall и ROC-AUC неправильно трактуются при имеющемся дисбалансе классов. Поэтому необходимо принять меры по борьбе с дисбалансом. За счет этого имеется возможность улучшить предсказание модели, в том числе, по целевой метрике F1."
   ]
  },
  {
   "cell_type": "markdown",
   "id": "62775aaf",
   "metadata": {},
   "source": [
    "## Применение методов борьбы с дисбалансом классов"
   ]
  },
  {
   "cell_type": "markdown",
   "id": "695bcbe2",
   "metadata": {},
   "source": [
    "Используем ранее написанную функцию для метода upsampling."
   ]
  },
  {
   "cell_type": "code",
   "execution_count": 26,
   "id": "68007ee7",
   "metadata": {},
   "outputs": [
    {
     "name": "stdout",
     "output_type": "stream",
     "text": [
      "Wall time: 13min 11s\n"
     ]
    }
   ],
   "source": [
    "%%time\n",
    "\n",
    "n_value = []\n",
    "f1_result = []\n",
    "for n in range(1, 12):\n",
    "    features_upsampled, target_upsampled = upsample(train_features, train_target, n)\n",
    "    best_model.fit(features_upsampled, target_upsampled)\n",
    "    pred = best_model.predict(test_features)\n",
    "    n_value.append(n)\n",
    "    f1_result.append(f1_score(pred, test_target))"
   ]
  },
  {
   "cell_type": "code",
   "execution_count": 27,
   "id": "42cef7f9",
   "metadata": {},
   "outputs": [
    {
     "name": "stdout",
     "output_type": "stream",
     "text": [
      "Лучшее значение метрики: 0.8889566809029896\n",
      "Для n равном: 1\n"
     ]
    },
    {
     "data": {
      "image/png": "[encoded data removed]",
      "text/plain": [
       "<Figure size 640x480 with 1 Axes>"
      ]
     },
     "metadata": {},
     "output_type": "display_data"
    }
   ],
   "source": [
    "plt.plot(n_value, f1_result, 'ro-')\n",
    "print(f'Лучшее значение метрики: {max(f1_result)}')\n",
    "print(f'Для n равном: {n_value[f1_result.index(max(f1_result))]}')"
   ]
  },
  {
   "cell_type": "markdown",
   "id": "4ac5b412",
   "metadata": {},
   "source": [
    "Из графика видно, что лучшее значение метрики получается при n равном 1. Это значит, что upsampling не дает прирост в целевой метрике. На графике видна зависимость между n и целевой метрикой. При увеличении параметра n, метрика F1 снижается."
   ]
  },
  {
   "cell_type": "markdown",
   "id": "babae36f",
   "metadata": {},
   "source": [
    "Аналогично используем ранее написанную функцию для метода downsampling."
   ]
  },
  {
   "cell_type": "code",
   "execution_count": 28,
   "id": "dcc092f0",
   "metadata": {},
   "outputs": [
    {
     "name": "stdout",
     "output_type": "stream",
     "text": [
      "Wall time: 7min 26s\n"
     ]
    }
   ],
   "source": [
    "%%time\n",
    "\n",
    "frac_value = []\n",
    "f1_result = []\n",
    "for frac in range(1, 10):\n",
    "    features_downsampled, target_downsampled = downsample(train_features, train_target, frac/10)\n",
    "    best_model.fit(features_downsampled, target_downsampled)\n",
    "    pred = best_model.predict(test_features)\n",
    "    frac_value.append(frac/10)\n",
    "    f1_result.append(f1_score(pred, test_target))"
   ]
  },
  {
   "cell_type": "code",
   "execution_count": 29,
   "id": "98b6c224",
   "metadata": {},
   "outputs": [
    {
     "name": "stdout",
     "output_type": "stream",
     "text": [
      "Лучшее значение метрики: 0.8908819133034381\n",
      "Для n равном: 0.7\n"
     ]
    },
    {
     "data": {
      "image/png": "[encoded data removed]",
      "text/plain": [
       "<Figure size 640x480 with 1 Axes>"
      ]
     },
     "metadata": {},
     "output_type": "display_data"
    }
   ],
   "source": [
    "plt.plot(frac_value, f1_result, 'ro-')\n",
    "print(f'Лучшее значение метрики: {max(f1_result)}')\n",
    "print(f'Для n равном: {frac_value[f1_result.index(max(f1_result))]}')"
   ]
  },
  {
   "cell_type": "code",
   "execution_count": 30,
   "id": "42331637",
   "metadata": {},
   "outputs": [
    {
     "name": "stdout",
     "output_type": "stream",
     "text": [
      "Wall time: 5min 36s\n"
     ]
    }
   ],
   "source": [
    "%%time\n",
    "\n",
    "frac_value = []\n",
    "f1_result = []\n",
    "for frac in range(68, 80, 2):\n",
    "    features_downsampled, target_downsampled = downsample(train_features, train_target, frac/100)\n",
    "    best_model.fit(features_downsampled, target_downsampled)\n",
    "    pred = best_model.predict(test_features)\n",
    "    frac_value.append(frac/100)\n",
    "    f1_result.append(f1_score(pred, test_target))"
   ]
  },
  {
   "cell_type": "code",
   "execution_count": 31,
   "id": "8a73c558",
   "metadata": {},
   "outputs": [
    {
     "name": "stdout",
     "output_type": "stream",
     "text": [
      "Лучшее значение метрики: 0.8902840059790733\n",
      "Для n равном: 0.74\n"
     ]
    },
    {
     "data": {
      "image/png": "[encoded data removed]",
      "text/plain": [
       "<Figure size 640x480 with 1 Axes>"
      ]
     },
     "metadata": {},
     "output_type": "display_data"
    }
   ],
   "source": [
    "plt.plot(frac_value, f1_result, 'ro-')\n",
    "print(f'Лучшее значение метрики: {max(f1_result)}')\n",
    "print(f'Для n равном: {frac_value[f1_result.index(max(f1_result))]}')"
   ]
  },
  {
   "cell_type": "markdown",
   "id": "19a6aded",
   "metadata": {},
   "source": [
    "Метод downsampling дает небольшой прирост по целевой метрике при уменьшении преобладающего класса на 30%. В связи с чем, лучшим результатом можно считать значение метрики F1 равным **0.89**.\n",
    "\n",
    "Построим матрицу спутанности для данного случая."
   ]
  },
  {
   "cell_type": "code",
   "execution_count": 32,
   "id": "3506541a",
   "metadata": {},
   "outputs": [],
   "source": [
    "def conf_matrix(predict, target=test_target):\n",
    "    # Выведем матрицу спутанности аналогично предыдущему пункту\n",
    "    cm = confusion_matrix(target, predict)\n",
    "    disp = ConfusionMatrixDisplay(confusion_matrix=cm)\n",
    "    disp.plot()\n",
    "    return plt.show()"
   ]
  },
  {
   "cell_type": "code",
   "execution_count": 33,
   "id": "96418cb6",
   "metadata": {},
   "outputs": [
    {
     "data": {
      "image/png": "[encoded data removed]",
      "text/plain": [
       "<Figure size 640x480 with 2 Axes>"
      ]
     },
     "metadata": {},
     "output_type": "display_data"
    }
   ],
   "source": [
    "features_downsampled, target_downsampled = downsample(train_features, train_target, 0.7)\n",
    "best_model.fit(features_downsampled, target_downsampled)\n",
    "prediction = best_model.predict(test_features)    \n",
    "probabilities = best_model.predict_proba(test_features)[:,1] \n",
    "\n",
    "conf_matrix(prediction)"
   ]
  },
  {
   "cell_type": "markdown",
   "id": "4a69e1a0",
   "metadata": {},
   "source": [
    "По матрице спутанности можно сделать вывод, что модель хорошо предсказывает отрицательный и положительный классы. По положительному классу модель ошибается менее чем в 10% случаях. Данный результат получен на модели, обученной на токсичных текстах.\n",
    "\n",
    "Чтобы визуализировать точность и полноту для определенной модели, мы можем создать кривую точность-полнота.Эта кривая показывает компромисс между точностью и полнотой для различных пороговых значений."
   ]
  },
  {
   "cell_type": "code",
   "execution_count": 34,
   "id": "ae11e215",
   "metadata": {},
   "outputs": [],
   "source": [
    "def pr_curve(probabilities, target=test_target):\n",
    "    precision, recall, thresholds = precision_recall_curve(target, probabilities)\n",
    "    fpr, tpr, thresholds = roc_curve(target, probabilities)\n",
    "    # Построение Precision-Recall Curve\n",
    "    plt.figure(figsize=(9,9))\n",
    "    plt.plot(recall, precision, label=f'Precision-Recall Curve (AUC={auc(fpr, tpr):.4f})')\n",
    "    # Закрашивание области под кривой\n",
    "    plt.fill_between(recall, precision, alpha=0.2)  \n",
    "    plt.title('Precision-Recall Curve')\n",
    "    plt.xlabel('Recall')\n",
    "    plt.ylabel('Precision')\n",
    "\n",
    "    # Добавление пунктирной линии для разделения области\n",
    "    plt.plot([0, 1], [0.5, 0.5], linestyle='--')\n",
    "    plt.ylim(0.45, 1.1)\n",
    "    plt.gca().set_aspect('equal', adjustable='box')\n",
    "    plt.legend()\n",
    "    plt.grid(True)\n",
    "    plt.show()"
   ]
  },
  {
   "cell_type": "code",
   "execution_count": 35,
   "id": "beb603c1",
   "metadata": {},
   "outputs": [],
   "source": [
    "def plot_pr_curve(target_valid, probabilities_valid):\n",
    "   \n",
    "    precisions, recalls, thresholds = precision_recall_curve(target_valid, probabilities_valid)\n",
    "    fscores = np.divide((2 * precisions * recalls)\n",
    "                        , (precisions + recalls)\n",
    "                        , where=(precisions + recalls)!=0)\n",
    "    optimal_idx = np.argmax(fscores)\n",
    "\n",
    "    plt.figure(figsize=(6, 6))\n",
    "    plt.step(recalls, precisions, where='post')\n",
    "    plt.xlabel('Recall')\n",
    "    plt.ylabel('Precision')\n",
    "    plt.ylim([0.0, 1.05])\n",
    "    plt.xlim([0.0, 1.0])\n",
    "    plt.vlines(recalls[optimal_idx], ymin=0, ymax=1.05, linestyles='--', color='orange')\n",
    "    plt.hlines(precisions[optimal_idx], xmin=0, xmax=1, linestyles='--', color='orange')\n",
    "    plt.title(f'PR-кривая (threshold = {thresholds[optimal_idx]:.2f}, f1 = {np.max(fscores):.3f})')\n",
    "    plt.grid(True)\n",
    "    plt.show()"
   ]
  },
  {
   "cell_type": "code",
   "execution_count": 36,
   "id": "c603439e",
   "metadata": {},
   "outputs": [
    {
     "data": {
      "image/png": "[encoded data removed]",
      "text/plain": [
       "<Figure size 900x900 with 1 Axes>"
      ]
     },
     "metadata": {},
     "output_type": "display_data"
    }
   ],
   "source": [
    "pr_curve(probabilities, test_target)"
   ]
  },
  {
   "cell_type": "code",
   "execution_count": 37,
   "id": "68055a1e",
   "metadata": {},
   "outputs": [
    {
     "data": {
      "image/png": "[encoded data removed]",
      "text/plain": [
       "<Figure size 600x600 with 1 Axes>"
      ]
     },
     "metadata": {},
     "output_type": "display_data"
    }
   ],
   "source": [
    "plot_pr_curve(test_target, probabilities)"
   ]
  },
  {
   "cell_type": "markdown",
   "id": "58772889",
   "metadata": {},
   "source": [
    "Из графика PR-кривой видно, что оптимальный порог классификации находится на уровне 0.62 со значением f1 равным 0.892, что незначительно выше базового порога.\n",
    "\n",
    "Построим кривую ROC-AUC."
   ]
  },
  {
   "cell_type": "code",
   "execution_count": 38,
   "id": "87012667",
   "metadata": {},
   "outputs": [],
   "source": [
    "def roc_auc_curve(probabilities, target=test_target):\n",
    "    # Посчитаем ложноположительные и истинноположительные предсказания для построения ROC-кривой\n",
    "    fpr, tpr, thresholds = roc_curve(target, probabilities)\n",
    "    # Зададим график ROC-кривой\n",
    "    plt.figure(figsize=(9,9))\n",
    "    plt.plot(fpr, tpr, linestyle='-', label=f'ROC-AUC Curve (AUC={auc(fpr, tpr):.4f})')\n",
    "    # Закрашивание области под кривой\n",
    "    plt.fill_between(fpr, tpr, alpha=0.2)  \n",
    "    # Построим результат предсказания случайной модели\n",
    "    plt.plot([0, 1], [0, 1], linestyle='--')\n",
    "    # Задаем пределы графика\n",
    "    plt.xlim(0,1)\n",
    "    plt.ylim(0,1)\n",
    "    # Задаем названия осей\n",
    "    plt.xlabel('False Positive Rate')\n",
    "    plt.ylabel('True Positive Rate')\n",
    "    # Название графика\n",
    "    plt.title('ROC-кривая модели')\n",
    "    plt.gca().set_aspect('equal', adjustable='box')\n",
    "    plt.legend()\n",
    "    plt.grid(True)\n",
    "\n",
    "    return plt.show()"
   ]
  },
  {
   "cell_type": "code",
   "execution_count": 39,
   "id": "a4a05ece",
   "metadata": {},
   "outputs": [
    {
     "data": {
      "image/png": "[encoded data removed]",
      "text/plain": [
       "<Figure size 900x900 with 1 Axes>"
      ]
     },
     "metadata": {},
     "output_type": "display_data"
    }
   ],
   "source": [
    "roc_auc_curve(probabilities, test_target)"
   ]
  },
  {
   "cell_type": "markdown",
   "id": "8511841d",
   "metadata": {},
   "source": [
    "Недостатком метрики ROC-AUC является чувствительность к дисбалансу классов. В нашем случае это прекрасно видно, модель имеет великолепный результат по метрике ROC-AUC. В связи с чем использовать ROC-AUC кривую не целесообразно. "
   ]
  },
  {
   "cell_type": "markdown",
   "id": "171cea64",
   "metadata": {},
   "source": [
    "## Построение линейной модели"
   ]
  },
  {
   "cell_type": "markdown",
   "id": "370a2ad0",
   "metadata": {},
   "source": [
    "В части оценки синтементальности твитов линейные модели показывают хорошие результаты. Так как в линейных моделях отсутствуют гиперпараметры, которые можно \"тюнить\" Optuna, выделим для них отдельный раздел проекта."
   ]
  },
  {
   "cell_type": "code",
   "execution_count": 40,
   "id": "8d9d9b75",
   "metadata": {},
   "outputs": [],
   "source": [
    "from sklearn.linear_model import RidgeClassifier"
   ]
  },
  {
   "cell_type": "code",
   "execution_count": 41,
   "id": "928b9815",
   "metadata": {},
   "outputs": [
    {
     "name": "stdout",
     "output_type": "stream",
     "text": [
      "Метрика Recall: 0.919035846724351,\n",
      "Метрика F1 модели: 0.8888224745965331,\n"
     ]
    },
    {
     "name": "stderr",
     "output_type": "stream",
     "text": [
      "D:\\anaconda\\lib\\site-packages\\sklearn\\linear_model\\_ridge.py:157: LinAlgWarning: Ill-conditioned matrix (rcond=1.30837e-08): result may not be accurate.\n",
      "  return linalg.solve(A, Xy, sym_pos=True, overwrite_a=True).T\n"
     ]
    }
   ],
   "source": [
    "linear_model = RidgeClassifier()                           # Создаем линейную модель\n",
    "linear_model.fit(features_downsampled, target_downsampled) # Обучаем\n",
    "linear_predict = linear_model.predict(test_features)       # Предсказываем\n",
    "result_f1 = f1_score(test_target, linear_predict)          # Считаем f1-меру предсказаний модели\n",
    "recall = recall_score(test_target, linear_predict)         # Считаем recall предсказаний модели\n",
    "\n",
    "\n",
    "print(f'Метрика Recall: {recall},')\n",
    "print(f'Метрика F1 модели: {result_f1},')"
   ]
  },
  {
   "cell_type": "markdown",
   "id": "f68f131f",
   "metadata": {},
   "source": [
    "Получаем значение по целевой метрике незначительно хуже бустинга. Данный результат подтверждает предположение о хорошей работе линейных моделей в области NLP."
   ]
  },
  {
   "cell_type": "markdown",
   "id": "3103b8d8",
   "metadata": {},
   "source": [
    "### Сравнение со случайной моделью"
   ]
  },
  {
   "cell_type": "markdown",
   "id": "5e723f04",
   "metadata": {},
   "source": [
    "Проверим полученную модель на адекватность. Для dummy модели необходимо выбрать стратегию."
   ]
  },
  {
   "cell_type": "code",
   "execution_count": 42,
   "id": "656a434a",
   "metadata": {},
   "outputs": [
    {
     "data": {
      "text/plain": [
       "0.16807247735082786"
      ]
     },
     "execution_count": 42,
     "metadata": {},
     "output_type": "execute_result"
    }
   ],
   "source": [
    "dummy_model = DummyClassifier(strategy=\"uniform\")\n",
    "dummy_model.fit(features_downsampled, target_downsampled)\n",
    "dummy_prediction = dummy_model.predict(test_features)\n",
    "\n",
    "# Вычисляем метрику F1\n",
    "f1 = f1_score(dummy_prediction, test_target)\n",
    "\n",
    "f1"
   ]
  },
  {
   "cell_type": "markdown",
   "id": "75bfa2ef",
   "metadata": {},
   "source": [
    "Перебрав все возможные варианты, лучшее значение метрики получилось 0.16(7) по F1-мере. \n",
    "\n",
    "В связи с чем можно сделать вывод о том, что полученная модель предсказывает лучше случайной."
   ]
  },
  {
   "cell_type": "markdown",
   "id": "84c29965",
   "metadata": {},
   "source": [
    "## Выводы"
   ]
  },
  {
   "cell_type": "markdown",
   "id": "89a223bb",
   "metadata": {},
   "source": [
    "От интернет-магазина \"Викишоп\" получено задание по созданию инструмента для отыскания токсичных комментариев с целью их последующей модерации. Такие задачи решаются с помощью раздела NLP машинного обучения.\n",
    "\n",
    "В качестве исходных данных получен кампус английских твитов. Кампус состоит из сырого текста, без удаления стоп слов и символов. Для выполнения задания выбрана языковая модель BERT, которая хорошо работает на сыром тексте и не требует предварительной обработки текста. Единственная необходимая обработка - модель BERT имеет ограничение в 512 символов текста. Выбрана преподготовленная модель BERT 'JungleLee/bert-toxic-comment-classification'. Преимущества модели - для токсичных текстов модель показывает результат лучше базовой модели, а так же сокращение времени подготовки embeddings в 6 раз.\n",
    "\n",
    "Датасет разделен на тестовую и тренировочную выборку в соотношении 9:1, выявлен дисбаланс классов. Отрицательный класс представлен практически в 9 раз больше положительного. Для борьбы с дисбалансом выбраны методы upsampling и downsampling. Для подбора параметров выбрана модель машинного обучения **LGBM**, так как совмещает в себе скорость и качество предсказания, а метрикой выбора параметров выбрана целевая метрика согласно техническому задания заказчика - **F1-мера**. Для модели подобраны оптимальные гиперпараметры библиотекой Optuna.\n",
    "\n",
    "После подбора гиперпараметров модель предсказала токсичность текста с результатом **0.890** по метрике F1. Для улучшения предсказания и борьбы с дисбалансом проведен подбор параметров upsampling/downsampling. Для метода upsampling оптимальный множитель редкого класса **n = 1**, что значит отсутсвие улучшения предсказания данным методом. Для downsampling подобрана доля от общего количества частого класса **frac = 0.7**, результат **0.891**. \n",
    "\n",
    "Проведена проверка моделей логистической регрессии и dummy-модели. Случайная модель предсказывает с результатом 0.16(7), что означает адекватность работы подобранной модели.\n",
    "\n",
    "Модель линейной классификации Ridge, использующая регуляризацию по методу наименьших квадратов, показывает результат равный **0.889** по метрике F1. Данный результат указывает на то, что линейные модели хорошо подходят для решения задач NLP."
   ]
  }
 ],
 "metadata": {
  "kernelspec": {
   "display_name": "Python 3 (ipykernel)",
   "language": "python",
   "name": "python3"
  },
  "language_info": {
   "codemirror_mode": {
    "name": "ipython",
    "version": 3
   },
   "file_extension": ".py",
   "mimetype": "text/x-python",
   "name": "python",
   "nbconvert_exporter": "python",
   "pygments_lexer": "ipython3",
   "version": "3.9.13"
  },
  "toc": {
   "base_numbering": 1,
   "nav_menu": {},
   "number_sections": true,
   "sideBar": true,
   "skip_h1_title": true,
   "title_cell": "Table of Contents",
   "title_sidebar": "Contents",
   "toc_cell": false,
   "toc_position": {},
   "toc_section_display": true,
   "toc_window_display": false
  }
 },
 "nbformat": 4,
 "nbformat_minor": 5
}
